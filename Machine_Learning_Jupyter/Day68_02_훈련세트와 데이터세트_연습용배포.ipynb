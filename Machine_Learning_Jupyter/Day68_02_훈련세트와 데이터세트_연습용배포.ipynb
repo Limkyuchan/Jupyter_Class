{
 "cells": [
  {
   "cell_type": "markdown",
   "id": "ff1e53d9",
   "metadata": {},
   "source": [
    "# 앞서 구현한 KNN모델의 문제?\n",
    "- 문제와 답을 알려주고 동일한 문제로 시험을 본다는 것은 무엇을 의미하는가?\n",
    "- 도미 35마리와 빙어 14마리를 모두 저장해두고 이를 맞추는 것은 당연한 것 아닌가?\n",
    "- 훈련 데이터가 아닌 데이터로 테스트를 해야 제대로된 정확도라고 볼 수 있음\n",
    "\n",
    "\n",
    "## 지도 학습과 비지도 학습\n",
    "### 지도(supervised) 학습\n",
    "- 훈련 데이터와 정답을 주고 학습을 시키는 것\n",
    "- 훈련데이터는 입력(Input), 정답 데이터는 타겟(Target). 합쳐서 훈련(train) 데이터\n",
    "- 일반적으로 7:3, 8:2 등으로 분할함(훈련데이터를 큰 비율로)\n",
    "- 보통 회귀와 분류에 적용되는 방식\n",
    "\n",
    "### 비지도(unsupervised) 학습\n",
    "- 훈련 데이터만 주고 학습을 시키는 것\n",
    "- 데이터로부터 어떤 특징을 도출하기 위한 목적으로 사용"
   ]
  },
  {
   "cell_type": "markdown",
   "id": "53c2c905",
   "metadata": {},
   "source": [
    "#### 데이터 준비"
   ]
  },
  {
   "cell_type": "code",
   "execution_count": 1,
   "id": "b096a607",
   "metadata": {},
   "outputs": [],
   "source": [
    "fish_length = [25.4, 26.3, 26.5, 29.0, 29.0, 29.7, 29.7, 30.0, 30.0, 30.7, 31.0, 31.0, \n",
    "                31.5, 32.0, 32.0, 32.0, 33.0, 33.0, 33.5, 33.5, 34.0, 34.0, 34.5, 35.0, \n",
    "                35.0, 35.0, 35.0, 36.0, 36.0, 37.0, 38.5, 38.5, 39.5, 41.0, 41.0, 9.8, \n",
    "                10.5, 10.6, 11.0, 11.2, 11.3, 11.8, 11.8, 12.0, 12.2, 12.4, 13.0, 14.3, 15.0]\n",
    "fish_weight = [242.0, 290.0, 340.0, 363.0, 430.0, 450.0, 500.0, 390.0, 450.0, 500.0, 475.0, 500.0, \n",
    "                500.0, 340.0, 600.0, 600.0, 700.0, 700.0, 610.0, 650.0, 575.0, 685.0, 620.0, 680.0, \n",
    "                700.0, 725.0, 720.0, 714.0, 850.0, 1000.0, 920.0, 955.0, 925.0, 975.0, 950.0, 6.7, \n",
    "                7.5, 7.0, 9.7, 9.8, 8.7, 10.0, 9.9, 9.8, 12.2, 13.4, 12.2, 19.7, 19.9]"
   ]
  },
  {
   "cell_type": "code",
   "execution_count": 2,
   "id": "2a10b02c",
   "metadata": {},
   "outputs": [],
   "source": [
    "# 2차원 데이터로 변환(각각의 데이터는 샘플이라 부름)\n",
    "fish_data = [[l, w] for l, w in zip(fish_length, fish_weight)]\n",
    "fish_target = [1]*35 + [0]*14"
   ]
  },
  {
   "cell_type": "code",
   "execution_count": 3,
   "id": "487c9500",
   "metadata": {},
   "outputs": [],
   "source": [
    "# KNN모델 임포트\n",
    "from sklearn.neighbors import KNeighborsClassifier\n",
    "\n",
    "# KNN 인스턴스 생성\n",
    "kn = KNeighborsClassifier()"
   ]
  },
  {
   "cell_type": "code",
   "execution_count": 4,
   "id": "5d2eb6ed",
   "metadata": {},
   "outputs": [],
   "source": [
    "# 리스트 슬라이싱으로 훈련데이터로 35개, 테스트 데이터로 나머지 14개 선택\n",
    "train_input = fish_data[:35]                 # train: 훈련데이터 \n",
    "train_target = fish_target[:35]              # input: 문제(X)  /  target: 답(y)\n",
    "\n",
    "test_input = fish_data[35:]                  # test: 테스트 데이터\n",
    "test_target = fish_target[35:]"
   ]
  },
  {
   "cell_type": "code",
   "execution_count": 5,
   "id": "3b129655",
   "metadata": {},
   "outputs": [
    {
     "data": {
      "text/plain": [
       "0.0"
      ]
     },
     "execution_count": 5,
     "metadata": {},
     "output_type": "execute_result"
    }
   ],
   "source": [
    "kn.fit(train_input, train_target)      # 35개의 훈련데이터로 학습\n",
    "kn.score(test_input, test_target)      # 14개의 테스트 데이터로 정확도 평가\n",
    "# --> 도미로만 훈련을 진행. 빙어로 테스트를 진행해서 정확도는 0"
   ]
  },
  {
   "cell_type": "markdown",
   "id": "fd14db88",
   "metadata": {},
   "source": [
    "#### 왜 정확도가 0인가?"
   ]
  },
  {
   "cell_type": "markdown",
   "id": "cd091454",
   "metadata": {},
   "source": [
    "### 샘플링 편향\n",
    "- 데이터셋에 35개까지 도미데이터이고 그 다음 14개의 데이터가 빙어이다.\n",
    "- 모델은 도미만으로 학습이 되었고 테스트 데이터는 빙어만 존재함\n",
    "\n",
    "- 학습 데이터와 테스트 데이터는 도미와 빙어 비율이 비슷해야 한다.\n",
    "- numpy를 활용하여 이를 해결"
   ]
  },
  {
   "cell_type": "code",
   "execution_count": 6,
   "id": "4c470d2b",
   "metadata": {},
   "outputs": [],
   "source": [
    "# 넘파이 모듈 import하기\n",
    "import numpy as np"
   ]
  },
  {
   "cell_type": "code",
   "execution_count": 7,
   "id": "bb9e0a27",
   "metadata": {},
   "outputs": [],
   "source": [
    "# 생선 데이터로 numpy 배열 생성(input, target)\n",
    "input_arr = np.array(fish_data)                   # numpy 배열 타입으로 값 저장\n",
    "target_arr = np.array(fish_target)"
   ]
  },
  {
   "cell_type": "code",
   "execution_count": 8,
   "id": "70c38201",
   "metadata": {},
   "outputs": [
    {
     "data": {
      "text/plain": [
       "array([[  25.4,  242. ],\n",
       "       [  26.3,  290. ],\n",
       "       [  26.5,  340. ],\n",
       "       [  29. ,  363. ],\n",
       "       [  29. ,  430. ],\n",
       "       [  29.7,  450. ],\n",
       "       [  29.7,  500. ],\n",
       "       [  30. ,  390. ],\n",
       "       [  30. ,  450. ],\n",
       "       [  30.7,  500. ],\n",
       "       [  31. ,  475. ],\n",
       "       [  31. ,  500. ],\n",
       "       [  31.5,  500. ],\n",
       "       [  32. ,  340. ],\n",
       "       [  32. ,  600. ],\n",
       "       [  32. ,  600. ],\n",
       "       [  33. ,  700. ],\n",
       "       [  33. ,  700. ],\n",
       "       [  33.5,  610. ],\n",
       "       [  33.5,  650. ],\n",
       "       [  34. ,  575. ],\n",
       "       [  34. ,  685. ],\n",
       "       [  34.5,  620. ],\n",
       "       [  35. ,  680. ],\n",
       "       [  35. ,  700. ],\n",
       "       [  35. ,  725. ],\n",
       "       [  35. ,  720. ],\n",
       "       [  36. ,  714. ],\n",
       "       [  36. ,  850. ],\n",
       "       [  37. , 1000. ],\n",
       "       [  38.5,  920. ],\n",
       "       [  38.5,  955. ],\n",
       "       [  39.5,  925. ],\n",
       "       [  41. ,  975. ],\n",
       "       [  41. ,  950. ],\n",
       "       [   9.8,    6.7],\n",
       "       [  10.5,    7.5],\n",
       "       [  10.6,    7. ],\n",
       "       [  11. ,    9.7],\n",
       "       [  11.2,    9.8],\n",
       "       [  11.3,    8.7],\n",
       "       [  11.8,   10. ],\n",
       "       [  11.8,    9.9],\n",
       "       [  12. ,    9.8],\n",
       "       [  12.2,   12.2],\n",
       "       [  12.4,   13.4],\n",
       "       [  13. ,   12.2],\n",
       "       [  14.3,   19.7],\n",
       "       [  15. ,   19.9]])"
      ]
     },
     "execution_count": 8,
     "metadata": {},
     "output_type": "execute_result"
    }
   ],
   "source": [
    "input_arr"
   ]
  },
  {
   "cell_type": "code",
   "execution_count": 9,
   "id": "2a37546e",
   "metadata": {},
   "outputs": [
    {
     "data": {
      "text/plain": [
       "(49, 2)"
      ]
     },
     "execution_count": 9,
     "metadata": {},
     "output_type": "execute_result"
    }
   ],
   "source": [
    "# input데이터의 형태 확인\n",
    "input_arr.shape"
   ]
  },
  {
   "cell_type": "code",
   "execution_count": 10,
   "id": "e9ea3872",
   "metadata": {},
   "outputs": [
    {
     "data": {
      "text/plain": [
       "(49,)"
      ]
     },
     "execution_count": 10,
     "metadata": {},
     "output_type": "execute_result"
    }
   ],
   "source": [
    "# target데이터의 형태 확인\n",
    "target_arr.shape            # 1차원 데이터"
   ]
  },
  {
   "cell_type": "code",
   "execution_count": 11,
   "id": "df6d2bbc",
   "metadata": {},
   "outputs": [
    {
     "data": {
      "text/plain": [
       "array([ 0,  1,  2,  3,  4,  5,  6,  7,  8,  9, 10, 11, 12, 13, 14, 15, 16,\n",
       "       17, 18, 19, 20, 21, 22, 23, 24, 25, 26, 27, 28, 29, 30, 31, 32, 33,\n",
       "       34, 35, 36, 37, 38, 39, 40, 41, 42, 43, 44, 45, 46, 47, 48])"
      ]
     },
     "execution_count": 11,
     "metadata": {},
     "output_type": "execute_result"
    }
   ],
   "source": [
    "# 데이터를 섞기 위해 넘파이의 랜덤기능 활용\n",
    "np.random.seed(42)\n",
    "index = np.arange(49)       # 0부터 n-1 까지 의 값을 가진 배열 생성\n",
    "index"
   ]
  },
  {
   "cell_type": "code",
   "execution_count": 12,
   "id": "afbee504",
   "metadata": {},
   "outputs": [],
   "source": [
    "# 넘파이 배열을 랜덤하게 섞기\n",
    "np.random.seed(23)\n",
    "np.random.shuffle(index)"
   ]
  },
  {
   "cell_type": "code",
   "execution_count": 13,
   "id": "114fb29c",
   "metadata": {},
   "outputs": [
    {
     "data": {
      "text/plain": [
       "array([14, 18, 17, 43, 13, 32, 20,  8, 35, 41, 28, 10, 30,  3, 22, 37, 29,\n",
       "       34, 24, 23,  4, 44,  7,  1, 48, 47, 15, 45, 16, 33, 36,  0,  5, 21,\n",
       "       11,  2, 42,  6, 25, 26, 39, 27, 12, 31, 46,  9, 40, 38, 19])"
      ]
     },
     "execution_count": 13,
     "metadata": {},
     "output_type": "execute_result"
    }
   ],
   "source": [
    "index"
   ]
  },
  {
   "cell_type": "code",
   "execution_count": 14,
   "id": "894a7396",
   "metadata": {},
   "outputs": [
    {
     "data": {
      "text/plain": [
       "array([14, 18, 17, 43, 13, 32, 20,  8, 35, 41, 28, 10, 30,  3, 22, 37, 29,\n",
       "       34, 24, 23,  4, 44,  7,  1, 48, 47, 15, 45, 16, 33, 36,  0,  5, 21,\n",
       "       11,  2, 42,  6, 25, 26, 39, 27, 12, 31, 46,  9, 40, 38, 19])"
      ]
     },
     "execution_count": 14,
     "metadata": {},
     "output_type": "execute_result"
    }
   ],
   "source": [
    "# 위의 코드를 활용하여 랜덤한 index 구하기\n",
    "index = np.arange(49)        # 0부터 n-1 까지 의 값을 가진 배열 생성 \n",
    "np.random.seed(23)           # .seed 설정 시 같은 값만 출력됨(random이 한번만 진행. 값 고정)\n",
    "np.random.shuffle(index) \n",
    "index"
   ]
  },
  {
   "cell_type": "code",
   "execution_count": 15,
   "id": "309a84bb",
   "metadata": {},
   "outputs": [],
   "source": [
    "# 넘파이의 배열 인덱싱으로 훈련데이터와 테스트 데이터 나누기\n",
    "train_input = input_arr[index[:35]]\n",
    "train_target = target_arr[index[:35]]\n",
    "\n",
    "test_input = input_arr[index[35:]]\n",
    "test_target = target_arr[index[35:]]"
   ]
  },
  {
   "cell_type": "code",
   "execution_count": 16,
   "id": "ffdfaa5d",
   "metadata": {},
   "outputs": [
    {
     "name": "stdout",
     "output_type": "stream",
     "text": [
      "train:  (35, 2) (35,)\n",
      "test:  (14, 2) (14,)\n"
     ]
    }
   ],
   "source": [
    "# 형태 확인\n",
    "print('train: ', train_input.shape, train_target.shape)\n",
    "print('test: ', test_input.shape, test_target.shape)"
   ]
  },
  {
   "cell_type": "code",
   "execution_count": 18,
   "id": "db561df1",
   "metadata": {},
   "outputs": [
    {
     "data": {
      "image/png": "[encoded data removed]",
      "text/plain": [
       "<Figure size 640x480 with 1 Axes>"
      ]
     },
     "metadata": {},
     "output_type": "display_data"
    }
   ],
   "source": [
    "# 시각화\n",
    "import matplotlib.pyplot as plt\n",
    "\n",
    "plt.scatter(train_input[:, 0], train_input[:, 1])    # 학습 데이터 셋의 생선 길이, 생선 무게  \n",
    "plt.scatter(test_input[:, 0], test_input[:, 1])      # 테스트 데이터 셋의 생선 길이, 생선 무게\n",
    "plt.xlabel('length')\n",
    "plt.ylabel('weight')\n",
    "plt.show()"
   ]
  },
  {
   "cell_type": "markdown",
   "id": "2982e733",
   "metadata": {},
   "source": [
    "### 머신러닝 모델 만들기"
   ]
  },
  {
   "cell_type": "code",
   "execution_count": 19,
   "id": "7b6ed9bb",
   "metadata": {},
   "outputs": [
    {
     "data": {
      "text/html": [
       "<style>#sk-container-id-1 {color: black;background-color: white;}#sk-container-id-1 pre{padding: 0;}#sk-container-id-1 div.sk-toggleable {background-color: white;}#sk-container-id-1 label.sk-toggleable__label {cursor: pointer;display: block;width: 100%;margin-bottom: 0;padding: 0.3em;box-sizing: border-box;text-align: center;}#sk-container-id-1 label.sk-toggleable__label-arrow:before {content: \"▸\";float: left;margin-right: 0.25em;color: #696969;}#sk-container-id-1 label.sk-toggleable__label-arrow:hover:before {color: black;}#sk-container-id-1 div.sk-estimator:hover label.sk-toggleable__label-arrow:before {color: black;}#sk-container-id-1 div.sk-toggleable__content {max-height: 0;max-width: 0;overflow: hidden;text-align: left;background-color: #f0f8ff;}#sk-container-id-1 div.sk-toggleable__content pre {margin: 0.2em;color: black;border-radius: 0.25em;background-color: #f0f8ff;}#sk-container-id-1 input.sk-toggleable__control:checked~div.sk-toggleable__content {max-height: 200px;max-width: 100%;overflow: auto;}#sk-container-id-1 input.sk-toggleable__control:checked~label.sk-toggleable__label-arrow:before {content: \"▾\";}#sk-container-id-1 div.sk-estimator input.sk-toggleable__control:checked~label.sk-toggleable__label {background-color: #d4ebff;}#sk-container-id-1 div.sk-label input.sk-toggleable__control:checked~label.sk-toggleable__label {background-color: #d4ebff;}#sk-container-id-1 input.sk-hidden--visually {border: 0;clip: rect(1px 1px 1px 1px);clip: rect(1px, 1px, 1px, 1px);height: 1px;margin: -1px;overflow: hidden;padding: 0;position: absolute;width: 1px;}#sk-container-id-1 div.sk-estimator {font-family: monospace;background-color: #f0f8ff;border: 1px dotted black;border-radius: 0.25em;box-sizing: border-box;margin-bottom: 0.5em;}#sk-container-id-1 div.sk-estimator:hover {background-color: #d4ebff;}#sk-container-id-1 div.sk-parallel-item::after {content: \"\";width: 100%;border-bottom: 1px solid gray;flex-grow: 1;}#sk-container-id-1 div.sk-label:hover label.sk-toggleable__label {background-color: #d4ebff;}#sk-container-id-1 div.sk-serial::before {content: \"\";position: absolute;border-left: 1px solid gray;box-sizing: border-box;top: 0;bottom: 0;left: 50%;z-index: 0;}#sk-container-id-1 div.sk-serial {display: flex;flex-direction: column;align-items: center;background-color: white;padding-right: 0.2em;padding-left: 0.2em;position: relative;}#sk-container-id-1 div.sk-item {position: relative;z-index: 1;}#sk-container-id-1 div.sk-parallel {display: flex;align-items: stretch;justify-content: center;background-color: white;position: relative;}#sk-container-id-1 div.sk-item::before, #sk-container-id-1 div.sk-parallel-item::before {content: \"\";position: absolute;border-left: 1px solid gray;box-sizing: border-box;top: 0;bottom: 0;left: 50%;z-index: -1;}#sk-container-id-1 div.sk-parallel-item {display: flex;flex-direction: column;z-index: 1;position: relative;background-color: white;}#sk-container-id-1 div.sk-parallel-item:first-child::after {align-self: flex-end;width: 50%;}#sk-container-id-1 div.sk-parallel-item:last-child::after {align-self: flex-start;width: 50%;}#sk-container-id-1 div.sk-parallel-item:only-child::after {width: 0;}#sk-container-id-1 div.sk-dashed-wrapped {border: 1px dashed gray;margin: 0 0.4em 0.5em 0.4em;box-sizing: border-box;padding-bottom: 0.4em;background-color: white;}#sk-container-id-1 div.sk-label label {font-family: monospace;font-weight: bold;display: inline-block;line-height: 1.2em;}#sk-container-id-1 div.sk-label-container {text-align: center;}#sk-container-id-1 div.sk-container {/* jupyter's `normalize.less` sets `[hidden] { display: none; }` but bootstrap.min.css set `[hidden] { display: none !important; }` so we also need the `!important` here to be able to override the default hidden behavior on the sphinx rendered scikit-learn.org. See: https://github.com/scikit-learn/scikit-learn/issues/21755 */display: inline-block !important;position: relative;}#sk-container-id-1 div.sk-text-repr-fallback {display: none;}</style><div id=\"sk-container-id-1\" class=\"sk-top-container\"><div class=\"sk-text-repr-fallback\"><pre>KNeighborsClassifier()</pre><b>In a Jupyter environment, please rerun this cell to show the HTML representation or trust the notebook. <br />On GitHub, the HTML representation is unable to render, please try loading this page with nbviewer.org.</b></div><div class=\"sk-container\" hidden><div class=\"sk-item\"><div class=\"sk-estimator sk-toggleable\"><input class=\"sk-toggleable__control sk-hidden--visually\" id=\"sk-estimator-id-1\" type=\"checkbox\" checked><label for=\"sk-estimator-id-1\" class=\"sk-toggleable__label sk-toggleable__label-arrow\">KNeighborsClassifier</label><div class=\"sk-toggleable__content\"><pre>KNeighborsClassifier()</pre></div></div></div></div></div>"
      ],
      "text/plain": [
       "KNeighborsClassifier()"
      ]
     },
     "execution_count": 19,
     "metadata": {},
     "output_type": "execute_result"
    }
   ],
   "source": [
    "# KNeighborsClassifier 임포트하기\n",
    "from sklearn.neighbors import KNeighborsClassifier\n",
    "\n",
    "# KNeighborsClassifier 객체 생성\n",
    "kn = KNeighborsClassifier()\n",
    "\n",
    "# 학습하기\n",
    "kn.fit(train_input, train_target)    # X_train, y_train"
   ]
  },
  {
   "cell_type": "code",
   "execution_count": 20,
   "id": "f563cbee",
   "metadata": {},
   "outputs": [
    {
     "data": {
      "text/plain": [
       "1.0"
      ]
     },
     "execution_count": 20,
     "metadata": {},
     "output_type": "execute_result"
    }
   ],
   "source": [
    "# 모델 정확도 평가 점수 확인\n",
    "kn.score(test_input, test_target)"
   ]
  },
  {
   "cell_type": "code",
   "execution_count": 21,
   "id": "abf02785",
   "metadata": {},
   "outputs": [
    {
     "data": {
      "text/plain": [
       "array([1, 0, 1, 1, 1, 0, 1, 1, 1, 0, 1, 0, 0, 1])"
      ]
     },
     "execution_count": 21,
     "metadata": {},
     "output_type": "execute_result"
    }
   ],
   "source": [
    "# 테스트 데이터로 예측해보기\n",
    "y_hat = kn.predict(test_input)       # 학습(fit)이 끝났기 때문에 물어본거에 대해 답만 할 수 있음.\n",
    "y_hat"
   ]
  },
  {
   "cell_type": "code",
   "execution_count": 22,
   "id": "b1e57087",
   "metadata": {},
   "outputs": [
    {
     "data": {
      "text/plain": [
       "array([[ 26.5, 340. ],\n",
       "       [ 11.8,   9.9],\n",
       "       [ 29.7, 500. ],\n",
       "       [ 35. , 725. ],\n",
       "       [ 35. , 720. ],\n",
       "       [ 11.2,   9.8],\n",
       "       [ 36. , 714. ],\n",
       "       [ 31.5, 500. ],\n",
       "       [ 38.5, 955. ],\n",
       "       [ 13. ,  12.2],\n",
       "       [ 30.7, 500. ],\n",
       "       [ 11.3,   8.7],\n",
       "       [ 11. ,   9.7],\n",
       "       [ 33.5, 650. ]])"
      ]
     },
     "execution_count": 22,
     "metadata": {},
     "output_type": "execute_result"
    }
   ],
   "source": [
    "# 테스트 데이터의 자료 확인\n",
    "test_input"
   ]
  },
  {
   "cell_type": "code",
   "execution_count": 23,
   "id": "5d8a4d5d",
   "metadata": {},
   "outputs": [
    {
     "data": {
      "text/plain": [
       "array([1, 0, 1, 1, 1, 0, 1, 1, 1, 0, 1, 0, 0, 1])"
      ]
     },
     "execution_count": 23,
     "metadata": {},
     "output_type": "execute_result"
    }
   ],
   "source": [
    "# 테스트 데이터의 정답\n",
    "test_target"
   ]
  },
  {
   "cell_type": "code",
   "execution_count": 24,
   "id": "4dadefc2",
   "metadata": {},
   "outputs": [
    {
     "data": {
      "text/plain": [
       "array([ True,  True,  True,  True,  True,  True,  True,  True,  True,\n",
       "        True,  True,  True,  True,  True])"
      ]
     },
     "execution_count": 24,
     "metadata": {},
     "output_type": "execute_result"
    }
   ],
   "source": [
    "# 테스트 데이터의 정답과 비교\n",
    "y_hat == test_target"
   ]
  },
  {
   "cell_type": "markdown",
   "id": "7f60ef60",
   "metadata": {},
   "source": [
    "## 여기까지 정리 및 이해"
   ]
  }
 ],
 "metadata": {
  "kernelspec": {
   "display_name": "Python 3 (ipykernel)",
   "language": "python",
   "name": "python3"
  },
  "language_info": {
   "codemirror_mode": {
    "name": "ipython",
    "version": 3
   },
   "file_extension": ".py",
   "mimetype": "text/x-python",
   "name": "python",
   "nbconvert_exporter": "python",
   "pygments_lexer": "ipython3",
   "version": "3.10.9"
  }
 },
 "nbformat": 4,
 "nbformat_minor": 5
}
