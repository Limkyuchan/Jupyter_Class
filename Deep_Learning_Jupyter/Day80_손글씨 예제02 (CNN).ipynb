{
 "cells": [
  {
   "cell_type": "code",
   "execution_count": 37,
   "id": "9f2fdf03",
   "metadata": {},
   "outputs": [],
   "source": [
    "input_form = \"\"\"\n",
    "\n",
    "<table>\n",
    "\n",
    "<td style=\"border-style: none;\">\n",
    "\n",
    "<div style=\"border: solid 2px #666; width: 143px; height: 144px;\">\n",
    "\n",
    "<canvas width=\"140\" height=\"140\"></canvas>\n",
    "\n",
    "</div></td>\n",
    "\n",
    "<td style=\"border-style: none;\">\n",
    "\n",
    "<button onclick=\"set_value()\">Predict</button>\n",
    "\n",
    "<button onclick=\"clear_value()\">Clear</button>\n",
    "\n",
    "</td>\n",
    "\n",
    "</table>\n",
    "\n",
    "\"\"\"\n",
    "\n",
    "\n",
    "\n",
    "javascript = \"\"\"\n",
    "\n",
    "<script type=\"text/Javascript\">\n",
    "\n",
    "    var pixels = [];\n",
    "\n",
    "    for (var i = 0; i < 28*28; i++) pixels[i] = 0\n",
    "\n",
    "    var click = 0;\n",
    "\n",
    "\n",
    "\n",
    "    var canvas = document.querySelector(\"canvas\");\n",
    "\n",
    "    canvas.addEventListener(\"mousemove\", function(e){\n",
    "    \n",
    "         if (e.buttons == 1) {\n",
    "\n",
    "            canvas.getContext(\"2d\").fillStyle = \"rgb(0,0,0)\";\n",
    "\n",
    "            canvas.getContext(\"2d\").fillRect(e.offsetX, e.offsetY, 8, 8);\n",
    "\n",
    "            x = Math.floor(e.offsetY * 0.2)\n",
    "\n",
    "            y = Math.floor(e.offsetX * 0.2) + 1\n",
    "\n",
    "            for (var dy = 0; dy < 2; dy++){\n",
    "\n",
    "                for (var dx = 0; dx < 2; dx++){\n",
    "\n",
    "                    if ((x + dx < 28) && (y + dy < 28)){\n",
    "\n",
    "                        pixels[(y+dy)+(x+dx)*28] = 1\n",
    "\n",
    "                    }\n",
    "\n",
    "                }\n",
    "\n",
    "            }\n",
    "        }\n",
    "\n",
    "    });\n",
    "\n",
    "    \n",
    "\n",
    "    function set_value(){\n",
    "\n",
    "        var result = \"\"\n",
    "\n",
    "        for (var i = 0; i < 28*28; i++) result += pixels[i] + \",\"\n",
    "\n",
    "        var kernel = IPython.notebook.kernel;\n",
    "\n",
    "        kernel.execute(\"image = [\" + result + \"]\");\n",
    "\n",
    "    }\n",
    "\n",
    "    \n",
    "\n",
    "    function clear_value(){\n",
    "\n",
    "        canvas.getContext(\"2d\").fillStyle = \"rgb(255,255,255)\";\n",
    "\n",
    "        canvas.getContext(\"2d\").fillRect(0, 0, 140, 140);\n",
    "\n",
    "        for (var i = 0; i < 28*28; i++) pixels[i] = 0\n",
    "\n",
    "    }\n",
    "\n",
    "</script>\n",
    "\n",
    "\"\"\""
   ]
  },
  {
   "cell_type": "code",
   "execution_count": 1,
   "id": "994d78e1",
   "metadata": {},
   "outputs": [
    {
     "name": "stdout",
     "output_type": "stream",
     "text": [
      "Epoch 1/5\n",
      "1875/1875 [==============================] - 94s 50ms/step - loss: 0.1336 - accuracy: 0.9582\n",
      "Epoch 2/5\n",
      "1875/1875 [==============================] - 100s 53ms/step - loss: 0.0417 - accuracy: 0.9864\n",
      "Epoch 3/5\n",
      "1875/1875 [==============================] - 85s 45ms/step - loss: 0.0235 - accuracy: 0.9922\n",
      "Epoch 4/5\n",
      "1875/1875 [==============================] - 98s 52ms/step - loss: 0.0157 - accuracy: 0.9949\n",
      "Epoch 5/5\n",
      "1875/1875 [==============================] - 86s 46ms/step - loss: 0.0094 - accuracy: 0.9970\n",
      "313/313 [==============================] - 2s 7ms/step - loss: 0.0446 - accuracy: 0.9867\n",
      "테스트 정확도: 0.9866999983787537\n"
     ]
    }
   ],
   "source": [
    "import tensorflow as tf\n",
    "\n",
    "# 1. MNIST 데이터셋 임포트\n",
    "mnist = tf.keras.datasets.mnist\n",
    "(x_train, y_train), (x_test, y_test) = mnist.load_data()\n",
    "\n",
    "# 2. 데이터 전처리 - Convolutional layers는 (height, width, channels) 형태의 데이터를 요구하므로 채널을 추가\n",
    "x_train = x_train.reshape(-1, 28, 28, 1) / 255.0\n",
    "x_test = x_test.reshape(-1, 28, 28, 1) / 255.0\n",
    "\n",
    "# 3. CNN 모델 구성\n",
    "model = tf.keras.models.Sequential([\n",
    "    tf.keras.layers.Conv2D(32, (3,3), activation='relu', input_shape=(28, 28, 1)), # Convolution layer\n",
    "    tf.keras.layers.MaxPooling2D(2, 2), # Pooling layer\n",
    "    tf.keras.layers.Flatten(), # Flatten layer\n",
    "    tf.keras.layers.Dense(512, activation=tf.nn.relu), # Dense layer\n",
    "    tf.keras.layers.Dense(10, activation=tf.nn.softmax) # Output layer\n",
    "])\n",
    "\n",
    "# 4. 모델 컴파일\n",
    "model.compile(optimizer='adam',\n",
    "              loss='sparse_categorical_crossentropy',\n",
    "              metrics=['accuracy'])\n",
    "\n",
    "# 5. 모델 훈련\n",
    "model.fit(x_train, y_train, epochs=5)\n",
    "\n",
    "# 6. 정확도 평가\n",
    "test_loss, test_acc = model.evaluate(x_test, y_test)\n",
    "print('테스트 정확도:', test_acc)\n"
   ]
  },
  {
   "cell_type": "code",
   "execution_count": null,
   "id": "f91173b0",
   "metadata": {},
   "outputs": [],
   "source": [
    "from IPython.display import HTML\n",
    "\n",
    "HTML(input_form + javascript)"
   ]
  },
  {
   "cell_type": "markdown",
   "id": "6b54971c",
   "metadata": {},
   "source": [
    "#### 사용법\n",
    "- 위에서 숫자를 그리고 Predict클릭\n",
    "- 다음 셀의 코드 실행"
   ]
  },
  {
   "cell_type": "code",
   "execution_count": 39,
   "id": "deb399b8",
   "metadata": {},
   "outputs": [
    {
     "name": "stdout",
     "output_type": "stream",
     "text": [
      "1/1 [==============================] - 0s 21ms/step\n"
     ]
    },
    {
     "data": {
      "text/plain": [
       "8"
      ]
     },
     "execution_count": 39,
     "metadata": {},
     "output_type": "execute_result"
    }
   ],
   "source": [
    "import numpy as np\n",
    "\n",
    "image = np.array(image).reshape(-1, 28, 28)\n",
    "np.argmax(model.predict(image))"
   ]
  }
 ],
 "metadata": {
  "kernelspec": {
   "display_name": "Python 3 (ipykernel)",
   "language": "python",
   "name": "python3"
  },
  "language_info": {
   "codemirror_mode": {
    "name": "ipython",
    "version": 3
   },
   "file_extension": ".py",
   "mimetype": "text/x-python",
   "name": "python",
   "nbconvert_exporter": "python",
   "pygments_lexer": "ipython3",
   "version": "3.10.9"
  }
 },
 "nbformat": 4,
 "nbformat_minor": 5
}
