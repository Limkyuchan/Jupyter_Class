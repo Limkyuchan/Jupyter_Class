{
 "cells": [
  {
   "cell_type": "markdown",
   "id": "cbde7ecb",
   "metadata": {},
   "source": [
    "## 운동기구 사용법 (크롤링)"
   ]
  },
  {
   "cell_type": "markdown",
   "id": "aad8898b",
   "metadata": {},
   "source": [
    "- 운동 이름 / 운동 부위 / 운동 방법 "
   ]
  },
  {
   "cell_type": "code",
   "execution_count": 1,
   "id": "cfdc211a",
   "metadata": {},
   "outputs": [],
   "source": [
    "doc_id = [938935, 938936, 938938, 938941] "
   ]
  },
  {
   "cell_type": "code",
   "execution_count": 4,
   "id": "e4b30fd1",
   "metadata": {},
   "outputs": [
    {
     "name": "stdout",
     "output_type": "stream",
     "text": [
      "스쿼트 - 스미스 머신\n",
      "허벅지\n",
      "바벨 스쿼트 운동에 비해 고립된 운동으로 대퇴부와 둔부 크기를 증가시키기 위한 운동이다. 무릎과 등 하부에 부담을 줄이고 대퇴를 강도 높게 자극할 수 있다. 초보자들이 쉽고 안전하게 할 수 있는 장점이 있지만 등과 허리에 통증이 있는 경우엔 레그 프레스 운동으로 대체해서 실시하는 것이 바람직하다.\n",
      "바벨을 어깨 위에 올리고 어깨너비보다 넓게 바벨을 잡는다.스쿼트 랙 아래에서 어깨너비로 서서 발끝이 약간 바깥쪽으로 향하도록 한다.시선은 정면을 향하고 복부에 힘을 주어 허리를 단단히 조여준다.\n",
      "무릎이 발끝보다 앞으로 나오지 않도록 하면서 허벅지와 수평이 될 때까지 앉는다.\n",
      "발뒤꿈치로 민다는 느낌으로 허벅지에 힘을 주면서 일어선다.\n",
      "안정성을 위해 허리는 항상 곧게 펴고, 척추의 곡선을 그대로 유지하면서 대퇴, 고관절, 아킬레스건의 유연성이 사전에 확보되도록 스트레칭한다.\n",
      "바벨을 들어올리는 동안 머리를 숙이지 않는다.\n",
      "무릎을 바깥쪽 또는 안쪽으로 굽히지 말고, 일정하게 수평을 이루며 동작을 실시한다.\n",
      "배에 힘을 주어 복압을 증가시키면, 보다 강한 힘을 낼 수 있으며, 허리 부상의 위험을 최소화할 수 있다.\n",
      "------------------------------------------------------------------------------------------------\n",
      "레그 프레스\n",
      "허벅지\n",
      "대퇴사두근과 둔근을 강화시켜주는 대표적이고 필수적인 하체 운동이다. 초보자가 실시하기에 가장 적당한 하체 운동이며 스쿼트에 비해 허리에 가해지는 부하가 적어 비교적 무거운 무게로 운동을 할 수 있는 장점이 있다. 또한 발판의 지지 위치에 변화를 줄 경우 좀 더 집중적인 근력 향상을 꾀할 수 있다.\n",
      "머신에 앉아 엉덩이와 어깨를 밀착시킨다.\n",
      "양발을 발판에 대고 어깨너비만큼 벌린 다음 무릎을 편다.\n",
      "앉는다는 느낌으로 천천히 무릎이 90도가 될 때까지 구부린다.\n",
      "발뒤꿈치로 민다는 느낌으로 허벅지에 힘을 주면서 무릎을 편다.\n",
      "무릎을 완전히 펴지 말고 약간 구부려주는 것이 운동 효과에 좋다.\n",
      "대퇴사두근의 힘으로 지탱하며 지속적으로 실시한다.\n",
      "엉덩이와 허리가 항상 기구에 밀착해 있어야 한다.\n",
      "발판의 보폭을 좁게 하면 대퇴부 바깥쪽이, 넓게 하면 대퇴부 안쪽이 발달된다.\n",
      "발을 발판의 윗쪽에 대고 하면 대둔근이, 발을 발판의 아래쪽에 대고 하면 대퇴사두근 아래쪽이 발달된다. \n",
      "------------------------------------------------------------------------------------------------\n",
      "레그 익스텐션\n",
      "허벅지\n",
      "허벅지 전면 근육을 발달시키는 운동이다. 여성의 경우, 적당한 무게로 횟수를 늘려 실시하면 탄력 있는 허벅지를 만드는 데 효과적이다. 또한 두 다리의 근력 수준 차이를 극복하기 위해 한 발씩 실시해도 좋은 운동이 될 수 있다.\n",
      "등받이에 등을 대고 손잡이를 잡은 다음, 발목을 어깨너비보다 좁게 벌려서 롤패드에 고정시킨다.\n",
      "다리를 들어올려 무릎을 펴서 허벅지 근육을 수축시킨다.\n",
      "천천히 저항을 느끼면서 다리를 내리며 긴장을 유지한다.\n",
      "상체에 반동이 일어나지 않도록 천천히 실시할 수 있도록 주의한다.\n",
      "무릎의 각도가 90도 이상 과도하게 넘지 않도록 하고, 다리 근육에 지속적인 긴장이 유지될 수 있도록 한다. \n",
      "------------------------------------------------------------------------------------------------\n",
      "레그 컬 - 라잉\n",
      "허벅지\n",
      "대퇴후면의 슬굴곡근을 발달시키기 위한 운동이다. 스탠딩 레그 컬보다 많은 중량을 들 수 있는 것이 장점으로, 하체 근력이 약한 사람에게 필수적인 운동이다. 단순관절 운동인 만큼 정확한 자세를 유지하는 것이 중요하다.\n",
      "슬개골이 벤치 끝을 살짝 넘어오도록 위치시킨 후 기구 위에 엎드려 손잡이를 잡는다.발목을 기구에 걸고 아킬레스건 위에 롤패드가 오도록 위치시킨다.\n",
      "허벅지 힘으로 패드를 끌어당기며 무릎을 굽힌다.\n",
      "천천히 저항을 느끼며 다리를 내린다.\n",
      "과도한 중량으로 동작 시 엉덩이를 사용할 경우 요통이 유발될 수 있다.\n",
      "다리를 완전히 내리지 않도록 주의한다. \n",
      "발목을 몸쪽 방향으로 잡아 당긴 상태로 실시하면 더욱 큰 자극을 느낄 수 있다.\n",
      "------------------------------------------------------------------------------------------------\n"
     ]
    }
   ],
   "source": [
    "import requests\n",
    "from bs4 import BeautifulSoup\n",
    "\n",
    "for i in range(4):\n",
    "    url = f\"https://terms.naver.com/entry.naver?docId={doc_id[i]}&cid=51030&categoryId=51030\"\n",
    "\n",
    "    res = requests.get(url)\n",
    "    soup = BeautifulSoup(res.text, \"html.parser\")\n",
    "\n",
    "    # 운동 이름\n",
    "    machine_name = soup.select_one(\".headword_title > .headword\").text\n",
    "    print(machine_name)\n",
    "\n",
    "    # 운동 부위\n",
    "    machine_part = soup.select_one(\"div > table > tbody > tr:nth-child(2) > td\").text\n",
    "    print(machine_part.split()[0])\n",
    "    \n",
    "    # 운동 방법\n",
    "    for i in soup.select(\".section_wrap > #size_ct > .txt\"):\n",
    "        print(i.text)\n",
    "    \n",
    "    print(\"------------------------------------------------------------------------------------------------\")"
   ]
  },
  {
   "cell_type": "code",
   "execution_count": 3,
   "id": "3126163d",
   "metadata": {},
   "outputs": [],
   "source": [
    "# import requests\n",
    "# from bs4 import BeautifulSoup\n",
    "\n",
    "# for i in range(4):\n",
    "#     url = f\"https://terms.naver.com/entry.naver?docId={doc_id[i]}&cid=51030&categoryId=51030\"\n",
    "\n",
    "#     res = requests.get(url)\n",
    "#     soup = BeautifulSoup(res.text, \"html.parser\")\n",
    "\n",
    "#     machine_list = []\n",
    "\n",
    "#     # 운동 이름\n",
    "#     machine_name = soup.select_one(\".headword_title > .headword\").text\n",
    "#     machine_list.append(machine_name.split(\"-\")[1][1:])\n",
    "\n",
    "#     # 운동 부위\n",
    "#     machine_part = soup.select_one(\"div > table > tbody > tr:nth-child(2) > td\").text\n",
    "#     machine_list.append(machine_part.split()[0])\n",
    "\n",
    "#     # 운동 방법\n",
    "#     machine_method = []\n",
    "#     for i in soup.select(\".section_wrap > #size_ct > .txt\"):\n",
    "#         machine_method.append(i.text)\n",
    "\n",
    "#     machine_list.append(machine_method)\n",
    "# #     print(machine_list[0])\n",
    "# #     print(machine_list[1])\n",
    "# #     print(machine_list[2])"
   ]
  },
  {
   "cell_type": "code",
   "execution_count": null,
   "id": "d32bcd2c",
   "metadata": {},
   "outputs": [],
   "source": []
  },
  {
   "cell_type": "code",
   "execution_count": null,
   "id": "bf3a4aef",
   "metadata": {},
   "outputs": [],
   "source": []
  },
  {
   "cell_type": "code",
   "execution_count": null,
   "id": "0bc7e0e6",
   "metadata": {},
   "outputs": [],
   "source": []
  },
  {
   "cell_type": "code",
   "execution_count": null,
   "id": "eaa7c427",
   "metadata": {},
   "outputs": [],
   "source": []
  },
  {
   "cell_type": "code",
   "execution_count": null,
   "id": "614ad30d",
   "metadata": {},
   "outputs": [],
   "source": []
  },
  {
   "cell_type": "code",
   "execution_count": null,
   "id": "d82e0a42",
   "metadata": {},
   "outputs": [],
   "source": []
  }
 ],
 "metadata": {
  "kernelspec": {
   "display_name": "Python 3 (ipykernel)",
   "language": "python",
   "name": "python3"
  },
  "language_info": {
   "codemirror_mode": {
    "name": "ipython",
    "version": 3
   },
   "file_extension": ".py",
   "mimetype": "text/x-python",
   "name": "python",
   "nbconvert_exporter": "python",
   "pygments_lexer": "ipython3",
   "version": "3.10.9"
  }
 },
 "nbformat": 4,
 "nbformat_minor": 5
}
