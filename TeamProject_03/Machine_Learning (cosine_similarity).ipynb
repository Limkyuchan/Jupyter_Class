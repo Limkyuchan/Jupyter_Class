{
 "cells": [
  {
   "cell_type": "markdown",
   "id": "84325503",
   "metadata": {},
   "source": [
    "# 머신러닝"
   ]
  },
  {
   "cell_type": "markdown",
   "id": "dbfecd60",
   "metadata": {},
   "source": [
    "- 이미지를 콘텐츠 기반 추천 시스템에 적용하기 위해 코사인 유사도 모델 활용\n",
    "- 운동 이름, 부위, 방법에 따를 코사인 유사도를 계산\n",
    "- 유사도가 높은 순서대로 운동 기구를 정렬하고, 사용자에게 가장 적합한 운동기구 추천 및 운동방법 제시\n",
    "- 문서를 벡터 표현으로 변경하는 방법\n",
    "    - 1) TF - IDF : 단어의 빈도 X 문서 빈도의 역수\n",
    "    - 2) CountVectorizer : 단어의 빈도 확인"
   ]
  },
  {
   "cell_type": "code",
   "execution_count": 1,
   "id": "efcdfc55",
   "metadata": {},
   "outputs": [
    {
     "data": {
      "text/html": [
       "<div>\n",
       "<style scoped>\n",
       "    .dataframe tbody tr th:only-of-type {\n",
       "        vertical-align: middle;\n",
       "    }\n",
       "\n",
       "    .dataframe tbody tr th {\n",
       "        vertical-align: top;\n",
       "    }\n",
       "\n",
       "    .dataframe thead th {\n",
       "        text-align: right;\n",
       "    }\n",
       "</style>\n",
       "<table border=\"1\" class=\"dataframe\">\n",
       "  <thead>\n",
       "    <tr style=\"text-align: right;\">\n",
       "      <th></th>\n",
       "      <th>운동 이름</th>\n",
       "      <th>운동 부위</th>\n",
       "      <th>운동 방법</th>\n",
       "    </tr>\n",
       "  </thead>\n",
       "  <tbody>\n",
       "    <tr>\n",
       "      <th>0</th>\n",
       "      <td>백 익스텐션</td>\n",
       "      <td>허리</td>\n",
       "      <td>발을 지지대에 고정하고 허벅지 앞부분이 패드에 닿게 엎드린다. 팔은 가슴 위에 모으...</td>\n",
       "    </tr>\n",
       "    <tr>\n",
       "      <th>1</th>\n",
       "      <td>데드리프트 - 바벨</td>\n",
       "      <td>허리</td>\n",
       "      <td>둔근, 대퇴 후면 근육 등 전신 근육 발달에 중요한 영향을 끼치는 운동이다. 신체의...</td>\n",
       "    </tr>\n",
       "    <tr>\n",
       "      <th>2</th>\n",
       "      <td>데드리프트 - 덤벨</td>\n",
       "      <td>허리</td>\n",
       "      <td>둔근, 대퇴 후면 근육 등 전신 근육 발달에 중요한 영향을 끼치는 운동이다. 신체의...</td>\n",
       "    </tr>\n",
       "    <tr>\n",
       "      <th>3</th>\n",
       "      <td>굿모닝</td>\n",
       "      <td>허리</td>\n",
       "      <td>상체를 숙여 인사하는 듯한 동작 때문에 ‘굿모닝’이라고 이름 붙여졌다. 맨손으로 손...</td>\n",
       "    </tr>\n",
       "    <tr>\n",
       "      <th>4</th>\n",
       "      <td>굿모닝 - 바벨</td>\n",
       "      <td>허리</td>\n",
       "      <td>등과 허리를 강화시키고 둔근과 대퇴이두근을 발달시키는 데 효과적인 운동이다. 무거운...</td>\n",
       "    </tr>\n",
       "  </tbody>\n",
       "</table>\n",
       "</div>"
      ],
      "text/plain": [
       "        운동 이름 운동 부위                                              운동 방법\n",
       "0      백 익스텐션    허리  발을 지지대에 고정하고 허벅지 앞부분이 패드에 닿게 엎드린다. 팔은 가슴 위에 모으...\n",
       "1  데드리프트 - 바벨    허리  둔근, 대퇴 후면 근육 등 전신 근육 발달에 중요한 영향을 끼치는 운동이다. 신체의...\n",
       "2  데드리프트 - 덤벨    허리  둔근, 대퇴 후면 근육 등 전신 근육 발달에 중요한 영향을 끼치는 운동이다. 신체의...\n",
       "3         굿모닝    허리  상체를 숙여 인사하는 듯한 동작 때문에 ‘굿모닝’이라고 이름 붙여졌다. 맨손으로 손...\n",
       "4    굿모닝 - 바벨    허리  등과 허리를 강화시키고 둔근과 대퇴이두근을 발달시키는 데 효과적인 운동이다. 무거운..."
      ]
     },
     "execution_count": 1,
     "metadata": {},
     "output_type": "execute_result"
    }
   ],
   "source": [
    "import pandas as pd\n",
    "\n",
    "exercise = pd.read_csv(\"exercise.csv\", encoding='CP949')\n",
    "\n",
    "exercise.head()"
   ]
  },
  {
   "cell_type": "markdown",
   "id": "fd10d3f7",
   "metadata": {},
   "source": [
    "### 1. TF - IDF (단어 빈도, 문서 빈도의 역수 곱)\n",
    "\n",
    "- 단어 간 중요도에 따라 가중치 부여"
   ]
  },
  {
   "cell_type": "code",
   "execution_count": 2,
   "id": "0c2cbe61",
   "metadata": {},
   "outputs": [
    {
     "name": "stdout",
     "output_type": "stream",
     "text": [
      "TF-IDF 행렬의 크기 :  (53, 1778)\n"
     ]
    }
   ],
   "source": [
    "from sklearn.feature_extraction.text import TfidfVectorizer\n",
    "from sklearn.metrics.pairwise import cosine_similarity\n",
    "\n",
    "tfidf = TfidfVectorizer()\n",
    "tfidf_matrix = tfidf.fit_transform(exercise['운동 방법'])\n",
    "print(\"TF-IDF 행렬의 크기 : \", tfidf_matrix.shape)"
   ]
  },
  {
   "cell_type": "code",
   "execution_count": 3,
   "id": "0e33b112",
   "metadata": {},
   "outputs": [
    {
     "name": "stdout",
     "output_type": "stream",
     "text": [
      "코사인 유사도 연산 결과 :  (53, 53)\n"
     ]
    }
   ],
   "source": [
    "cosine_sim = cosine_similarity(tfidf_matrix, tfidf_matrix)\n",
    "print(\"코사인 유사도 연산 결과 : \", cosine_sim.shape)"
   ]
  },
  {
   "cell_type": "code",
   "execution_count": 4,
   "id": "c0d24eb8",
   "metadata": {},
   "outputs": [
    {
     "name": "stdout",
     "output_type": "stream",
     "text": [
      "3\n"
     ]
    }
   ],
   "source": [
    "title_to_index = dict(zip(exercise['운동 이름'], exercise.index))\n",
    "\n",
    "# 굿모닝의 인덱스를 리턴\n",
    "idx = title_to_index['굿모닝']\n",
    "print(idx)"
   ]
  },
  {
   "cell_type": "code",
   "execution_count": 5,
   "id": "b75b9b04",
   "metadata": {},
   "outputs": [],
   "source": [
    "def get_recommendations(name, cosine_sim=cosine_sim):\n",
    "    \n",
    "    idx = title_to_index[name]\n",
    "    sim_scores = list(enumerate(cosine_sim[idx]))\n",
    "    sim_scores = sorted(sim_scores, key=lambda x: x[1], reverse=True)\n",
    "    sim_scores = sim_scores[0:7]\n",
    "    movie_indices = [idx[0] for idx in sim_scores]\n",
    "    \n",
    "    return exercise.iloc[movie_indices]"
   ]
  },
  {
   "cell_type": "code",
   "execution_count": 6,
   "id": "f577c1cb",
   "metadata": {},
   "outputs": [
    {
     "data": {
      "text/html": [
       "<div>\n",
       "<style scoped>\n",
       "    .dataframe tbody tr th:only-of-type {\n",
       "        vertical-align: middle;\n",
       "    }\n",
       "\n",
       "    .dataframe tbody tr th {\n",
       "        vertical-align: top;\n",
       "    }\n",
       "\n",
       "    .dataframe thead th {\n",
       "        text-align: right;\n",
       "    }\n",
       "</style>\n",
       "<table border=\"1\" class=\"dataframe\">\n",
       "  <thead>\n",
       "    <tr style=\"text-align: right;\">\n",
       "      <th></th>\n",
       "      <th>운동 이름</th>\n",
       "      <th>운동 부위</th>\n",
       "      <th>운동 방법</th>\n",
       "    </tr>\n",
       "  </thead>\n",
       "  <tbody>\n",
       "    <tr>\n",
       "      <th>23</th>\n",
       "      <td>아놀드 프레스</td>\n",
       "      <td>어깨</td>\n",
       "      <td>아놀드 슈왈제네거가 고안해낸 삼각근 운동으로 전면 삼각근의 수축으로 시작하여 측면 ...</td>\n",
       "    </tr>\n",
       "    <tr>\n",
       "      <th>22</th>\n",
       "      <td>숄더 프레스 - 덤벨</td>\n",
       "      <td>어깨</td>\n",
       "      <td>삼각근의 전면과 측면의 볼륨과 선명도를 증가시킬 수 있는 운동이다. 바벨 프레스에 ...</td>\n",
       "    </tr>\n",
       "    <tr>\n",
       "      <th>47</th>\n",
       "      <td>컬 프레스 - 덤벨</td>\n",
       "      <td>팔</td>\n",
       "      <td>덤벨 컬과 덤벨 숄더 프레스 운동을 결합한 형태의 운동으로 상완과 어깨근육이 동원되...</td>\n",
       "    </tr>\n",
       "    <tr>\n",
       "      <th>48</th>\n",
       "      <td>컬 - 덤벨, 인클라인</td>\n",
       "      <td>팔</td>\n",
       "      <td>경사진 벤치에 누워서 실시하는 운동이다. 상완이두근의 위쪽 부위를 더욱 자극하고 선...</td>\n",
       "    </tr>\n",
       "    <tr>\n",
       "      <th>24</th>\n",
       "      <td>프런트 레이즈 - 덤벨</td>\n",
       "      <td>어깨</td>\n",
       "      <td>삼각근의 선명도를 높일 수 있는 단관절 운동 중 전면 삼각근을 발달시키기 위한 운동...</td>\n",
       "    </tr>\n",
       "    <tr>\n",
       "      <th>45</th>\n",
       "      <td>로우 - 덤벨, 원 암</td>\n",
       "      <td>등</td>\n",
       "      <td>몸의 중심선(척추)에 가까운 등의 근육을 집중적으로 발달시키고 선명도를 증가시킬 수...</td>\n",
       "    </tr>\n",
       "    <tr>\n",
       "      <th>26</th>\n",
       "      <td>래터럴 레이즈 - 덤벨, 벤트 오버</td>\n",
       "      <td>어깨</td>\n",
       "      <td>삼각근의 선명도를 높일 수 있는 단관절 운동 중 후면 삼각근을 발달시키기 위한 운동...</td>\n",
       "    </tr>\n",
       "  </tbody>\n",
       "</table>\n",
       "</div>"
      ],
      "text/plain": [
       "                  운동 이름 운동 부위  \\\n",
       "23              아놀드 프레스    어깨   \n",
       "22          숄더 프레스 - 덤벨    어깨   \n",
       "47           컬 프레스 - 덤벨     팔   \n",
       "48         컬 - 덤벨, 인클라인     팔   \n",
       "24         프런트 레이즈 - 덤벨    어깨   \n",
       "45         로우 - 덤벨, 원 암     등   \n",
       "26  래터럴 레이즈 - 덤벨, 벤트 오버    어깨   \n",
       "\n",
       "                                                운동 방법  \n",
       "23  아놀드 슈왈제네거가 고안해낸 삼각근 운동으로 전면 삼각근의 수축으로 시작하여 측면 ...  \n",
       "22  삼각근의 전면과 측면의 볼륨과 선명도를 증가시킬 수 있는 운동이다. 바벨 프레스에 ...  \n",
       "47  덤벨 컬과 덤벨 숄더 프레스 운동을 결합한 형태의 운동으로 상완과 어깨근육이 동원되...  \n",
       "48  경사진 벤치에 누워서 실시하는 운동이다. 상완이두근의 위쪽 부위를 더욱 자극하고 선...  \n",
       "24  삼각근의 선명도를 높일 수 있는 단관절 운동 중 전면 삼각근을 발달시키기 위한 운동...  \n",
       "45  몸의 중심선(척추)에 가까운 등의 근육을 집중적으로 발달시키고 선명도를 증가시킬 수...  \n",
       "26  삼각근의 선명도를 높일 수 있는 단관절 운동 중 후면 삼각근을 발달시키기 위한 운동...  "
      ]
     },
     "execution_count": 6,
     "metadata": {},
     "output_type": "execute_result"
    }
   ],
   "source": [
    "get_recommendations('아놀드 프레스')"
   ]
  },
  {
   "cell_type": "markdown",
   "id": "8b464a98",
   "metadata": {},
   "source": [
    "### 2. CountVector (단어 빈도)"
   ]
  },
  {
   "cell_type": "code",
   "execution_count": 40,
   "id": "586e915c",
   "metadata": {},
   "outputs": [],
   "source": [
    "from sklearn.feature_extraction.text import CountVectorizer\n",
    "from sklearn.metrics.pairwise import cosine_similarity"
   ]
  },
  {
   "cell_type": "code",
   "execution_count": 41,
   "id": "a90b32b9",
   "metadata": {},
   "outputs": [],
   "source": [
    "# 운동 이름 데이터의 텍스트 피쳐 벡터라이징\n",
    "count_vect_name = CountVectorizer()\n",
    "exercise_name = count_vect_name.fit_transform(exercise['운동 이름'])\n",
    "\n",
    "# 운동 이름 데이터의 코사인 유사도\n",
    "name = cosine_similarity(exercise_name, exercise_name)"
   ]
  },
  {
   "cell_type": "code",
   "execution_count": 42,
   "id": "8d272b5a",
   "metadata": {},
   "outputs": [],
   "source": [
    "# 운동 부위 데이터의 텍스트 피쳐 벡터라이징\n",
    "count_vect_part = CountVectorizer()\n",
    "exercise_part = count_vect_part.fit_transform(exercise['운동 부위'])\n",
    "\n",
    "# 운동 부위 데이터의 코사인 유사도\n",
    "part = cosine_similarity(exercise_part, exercise_part)"
   ]
  },
  {
   "cell_type": "code",
   "execution_count": 43,
   "id": "e633ebed",
   "metadata": {},
   "outputs": [],
   "source": [
    "# 운동 방법 데이터의 텍스트 피쳐 벡터라이징\n",
    "count_vect_method = CountVectorizer()\n",
    "exercise_method = count_vect_method.fit_transform(exercise['운동 방법'])\n",
    "\n",
    "# 운동 방법 데이터의 코사인 유사도\n",
    "method = cosine_similarity(exercise_method, exercise_method)"
   ]
  },
  {
   "cell_type": "code",
   "execution_count": 44,
   "id": "d25de36b",
   "metadata": {},
   "outputs": [],
   "source": [
    "# 가중치 부여\n",
    "exercise_weight = (\n",
    "                    + name * 0.3\n",
    "                    + part * 1\n",
    "                    + method * 0.3\n",
    ")\n",
    "\n",
    "exercise_sorted_ind = exercise_weight.argsort()[:, ::-1]"
   ]
  },
  {
   "cell_type": "code",
   "execution_count": 45,
   "id": "08acbb08",
   "metadata": {},
   "outputs": [
    {
     "data": {
      "text/html": [
       "<div>\n",
       "<style scoped>\n",
       "    .dataframe tbody tr th:only-of-type {\n",
       "        vertical-align: middle;\n",
       "    }\n",
       "\n",
       "    .dataframe tbody tr th {\n",
       "        vertical-align: top;\n",
       "    }\n",
       "\n",
       "    .dataframe thead th {\n",
       "        text-align: right;\n",
       "    }\n",
       "</style>\n",
       "<table border=\"1\" class=\"dataframe\">\n",
       "  <thead>\n",
       "    <tr style=\"text-align: right;\">\n",
       "      <th></th>\n",
       "      <th>운동 이름</th>\n",
       "      <th>운동 부위</th>\n",
       "      <th>운동 방법</th>\n",
       "    </tr>\n",
       "  </thead>\n",
       "  <tbody>\n",
       "    <tr>\n",
       "      <th>11</th>\n",
       "      <td>점프 스쿼트</td>\n",
       "      <td>허벅지</td>\n",
       "      <td>하체의 체지방은 연소하고 탄력을 향상시키는 데 효과적인 운동이다. 자기 체중을 갖고...</td>\n",
       "    </tr>\n",
       "    <tr>\n",
       "      <th>6</th>\n",
       "      <td>스쿼트 - 스미스 머신</td>\n",
       "      <td>허벅지</td>\n",
       "      <td>바벨 스쿼트 운동에 비해 고립된 운동으로 대퇴부와 둔부 크기를 증가시키기 위한 운동...</td>\n",
       "    </tr>\n",
       "    <tr>\n",
       "      <th>8</th>\n",
       "      <td>레그 익스텐션</td>\n",
       "      <td>허벅지</td>\n",
       "      <td>허벅지 전면 근육을 발달시키는 운동이다. 여성의 경우, 적당한 무게로 횟수를 늘려 ...</td>\n",
       "    </tr>\n",
       "    <tr>\n",
       "      <th>9</th>\n",
       "      <td>레그 컬 - 라잉</td>\n",
       "      <td>허벅지</td>\n",
       "      <td>대퇴후면의 슬굴곡근을 발달시키기 위한 운동이다. 스탠딩 레그 컬보다 많은 중량을 들...</td>\n",
       "    </tr>\n",
       "    <tr>\n",
       "      <th>10</th>\n",
       "      <td>데드리프트 - 바벨, 스티프 레그드</td>\n",
       "      <td>허벅지</td>\n",
       "      <td>슬굴곡근과, 척추기립근, 대둔근이 통합적으로 동원되어 대퇴후면과 등 하부를 동시에 ...</td>\n",
       "    </tr>\n",
       "    <tr>\n",
       "      <th>7</th>\n",
       "      <td>레그 프레스</td>\n",
       "      <td>허벅지</td>\n",
       "      <td>대퇴사두근과 둔근을 강화시켜주는 대표적이고 필수적인 하체 운동이다. 초보자가 실시하...</td>\n",
       "    </tr>\n",
       "  </tbody>\n",
       "</table>\n",
       "</div>"
      ],
      "text/plain": [
       "                  운동 이름 운동 부위  \\\n",
       "11               점프 스쿼트   허벅지   \n",
       "6          스쿼트 - 스미스 머신   허벅지   \n",
       "8               레그 익스텐션   허벅지   \n",
       "9             레그 컬 - 라잉   허벅지   \n",
       "10  데드리프트 - 바벨, 스티프 레그드   허벅지   \n",
       "7                레그 프레스   허벅지   \n",
       "\n",
       "                                                운동 방법  \n",
       "11  하체의 체지방은 연소하고 탄력을 향상시키는 데 효과적인 운동이다. 자기 체중을 갖고...  \n",
       "6   바벨 스쿼트 운동에 비해 고립된 운동으로 대퇴부와 둔부 크기를 증가시키기 위한 운동...  \n",
       "8   허벅지 전면 근육을 발달시키는 운동이다. 여성의 경우, 적당한 무게로 횟수를 늘려 ...  \n",
       "9   대퇴후면의 슬굴곡근을 발달시키기 위한 운동이다. 스탠딩 레그 컬보다 많은 중량을 들...  \n",
       "10  슬굴곡근과, 척추기립근, 대둔근이 통합적으로 동원되어 대퇴후면과 등 하부를 동시에 ...  \n",
       "7   대퇴사두근과 둔근을 강화시켜주는 대표적이고 필수적인 하체 운동이다. 초보자가 실시하...  "
      ]
     },
     "execution_count": 45,
     "metadata": {},
     "output_type": "execute_result"
    }
   ],
   "source": [
    "def find_exercise_name(exercise, sorted_ind, name):\n",
    "    \n",
    "    name_title = exercise[exercise['운동 이름'] == name]\n",
    "    name_index = name_title.index.values\n",
    "    similar_indexes = sorted_ind[name_index, :6]\n",
    "    similar_indexes = similar_indexes.reshape(-1)\n",
    "    \n",
    "    return exercise.iloc[similar_indexes][:6]\n",
    "\n",
    "find_exercise_name(exercise, exercise_sorted_ind, \"점프 스쿼트\")"
   ]
  },
  {
   "cell_type": "code",
   "execution_count": 46,
   "id": "64b67d2d",
   "metadata": {},
   "outputs": [
    {
     "data": {
      "text/html": [
       "<div>\n",
       "<style scoped>\n",
       "    .dataframe tbody tr th:only-of-type {\n",
       "        vertical-align: middle;\n",
       "    }\n",
       "\n",
       "    .dataframe tbody tr th {\n",
       "        vertical-align: top;\n",
       "    }\n",
       "\n",
       "    .dataframe thead th {\n",
       "        text-align: right;\n",
       "    }\n",
       "</style>\n",
       "<table border=\"1\" class=\"dataframe\">\n",
       "  <thead>\n",
       "    <tr style=\"text-align: right;\">\n",
       "      <th></th>\n",
       "      <th>운동 이름</th>\n",
       "      <th>운동 부위</th>\n",
       "      <th>운동 방법</th>\n",
       "    </tr>\n",
       "  </thead>\n",
       "  <tbody>\n",
       "    <tr>\n",
       "      <th>30</th>\n",
       "      <td>펙덱 플라이 머신</td>\n",
       "      <td>가슴</td>\n",
       "      <td>운동을 처음 시작하는 초보자들이 덤벨 플라이를 실시하기 전에 근육의 자극을 경험하고...</td>\n",
       "    </tr>\n",
       "    <tr>\n",
       "      <th>35</th>\n",
       "      <td>플라이 - 덤벨</td>\n",
       "      <td>가슴</td>\n",
       "      <td>벤치에 앉아 팔을 가슴 옆에 붙이고 덤벨을 든다. 벤치에 누워 가슴 중앙과 덤벨이 ...</td>\n",
       "    </tr>\n",
       "    <tr>\n",
       "      <th>31</th>\n",
       "      <td>체스트 프레스 머신</td>\n",
       "      <td>가슴</td>\n",
       "      <td>가슴운동에서 제일 중요한 부분은 어깨 정렬이다. 대부분 가슴운동을 할 때 부상당하는...</td>\n",
       "    </tr>\n",
       "    <tr>\n",
       "      <th>33</th>\n",
       "      <td>어시스트 치닝 앤 디핑 머신</td>\n",
       "      <td>가슴, 팔</td>\n",
       "      <td>평행봉이나 디핑바(Dipping Bar)에 두 팔을 편 채로 짚고서 체중을 지탱한다...</td>\n",
       "    </tr>\n",
       "    <tr>\n",
       "      <th>36</th>\n",
       "      <td>벤치 프레스 - 덤벨</td>\n",
       "      <td>가슴</td>\n",
       "      <td>팔을 가슴 옆에 붙여 덤벨을 든다. 벤치에 누워 쇄골 아랫부분과 수직이 되게 덤벨을...</td>\n",
       "    </tr>\n",
       "    <tr>\n",
       "      <th>32</th>\n",
       "      <td>케이블머신</td>\n",
       "      <td>가슴</td>\n",
       "      <td>케이블의 양쪽 손잡이를 잡고 기구 중앙에 서서 엉덩이 너비만큼 발을 벌린다. 무릎을...</td>\n",
       "    </tr>\n",
       "  </tbody>\n",
       "</table>\n",
       "</div>"
      ],
      "text/plain": [
       "              운동 이름  운동 부위                                              운동 방법\n",
       "30        펙덱 플라이 머신     가슴  운동을 처음 시작하는 초보자들이 덤벨 플라이를 실시하기 전에 근육의 자극을 경험하고...\n",
       "35         플라이 - 덤벨     가슴  벤치에 앉아 팔을 가슴 옆에 붙이고 덤벨을 든다. 벤치에 누워 가슴 중앙과 덤벨이 ...\n",
       "31       체스트 프레스 머신     가슴  가슴운동에서 제일 중요한 부분은 어깨 정렬이다. 대부분 가슴운동을 할 때 부상당하는...\n",
       "33  어시스트 치닝 앤 디핑 머신  가슴, 팔  평행봉이나 디핑바(Dipping Bar)에 두 팔을 편 채로 짚고서 체중을 지탱한다...\n",
       "36      벤치 프레스 - 덤벨     가슴  팔을 가슴 옆에 붙여 덤벨을 든다. 벤치에 누워 쇄골 아랫부분과 수직이 되게 덤벨을...\n",
       "32            케이블머신     가슴  케이블의 양쪽 손잡이를 잡고 기구 중앙에 서서 엉덩이 너비만큼 발을 벌린다. 무릎을..."
      ]
     },
     "execution_count": 46,
     "metadata": {},
     "output_type": "execute_result"
    }
   ],
   "source": [
    "def find_exercise_part(exercise, sorted_ind, part):\n",
    "    \n",
    "    part_title = exercise[exercise['운동 부위'] == part]\n",
    "    part_index = part_title.index.values\n",
    "    similar_indexes = sorted_ind[part_index, :6]\n",
    "    similar_indexes = similar_indexes.reshape(-1)\n",
    "    \n",
    "    return exercise.iloc[similar_indexes][:6]\n",
    "\n",
    "find_exercise_part(exercise, exercise_sorted_ind, \"가슴\")"
   ]
  },
  {
   "cell_type": "markdown",
   "id": "c85ea76f",
   "metadata": {},
   "source": [
    "<hr>"
   ]
  },
  {
   "cell_type": "markdown",
   "id": "1814ce06",
   "metadata": {},
   "source": [
    "## 머시러닝 모델 파일로 저장하기"
   ]
  },
  {
   "cell_type": "code",
   "execution_count": 63,
   "id": "fa631c42",
   "metadata": {},
   "outputs": [
    {
     "data": {
      "text/plain": [
       "['./exercise_weight.pkl']"
      ]
     },
     "execution_count": 63,
     "metadata": {},
     "output_type": "execute_result"
    }
   ],
   "source": [
    "# 훈련된 모델 파일로 저장하기\n",
    "import joblib\n",
    "joblib.dump(name, './exercise_name.pkl')\n",
    "joblib.dump(part, './exercise_part.pkl')\n",
    "joblib.dump(method, './exercise_method.pkl')\n",
    "joblib.dump(exercise_weight, './exercise_weight.pkl')"
   ]
  },
  {
   "cell_type": "code",
   "execution_count": 59,
   "id": "eab767e2",
   "metadata": {},
   "outputs": [],
   "source": [
    "# 저장한 모델 불러오기\n",
    "import joblib\n",
    "mac_name = joblib.load('./exercise_name.pkl')\n",
    "mac_part = joblib.load('./exercise_part.pkl')\n",
    "mac_method = joblib.load('./exercise_method.pkl')\n",
    "mac_weight = joblib.load('./exercise_weight.pkl')"
   ]
  },
  {
   "cell_type": "markdown",
   "id": "d6a711ff",
   "metadata": {},
   "source": [
    "- 이름, 부위, 방법 3가지로 나누어 모델 파일저장 결과 정확도가 떨어짐을 확인.\n",
    "- 가중치를 부여한 값에 대해 모델 파일 저장 결과 기본 결과와 비슷한 결과가 나옴 (장고에서 실행 시)"
   ]
  },
  {
   "cell_type": "code",
   "execution_count": 60,
   "id": "b50ce812",
   "metadata": {},
   "outputs": [],
   "source": [
    "# 가중치 부여\n",
    "exercise_weight = (\n",
    "                    + mac_name * 0.3\n",
    "                    + mac_part * 1\n",
    "                    + mac_method * 0.3\n",
    ")\n",
    "\n",
    "exercise_sorted_ind = exercise_weight.argsort()[:, ::-1]"
   ]
  },
  {
   "cell_type": "code",
   "execution_count": 61,
   "id": "bcad3f9f",
   "metadata": {},
   "outputs": [
    {
     "data": {
      "text/html": [
       "<div>\n",
       "<style scoped>\n",
       "    .dataframe tbody tr th:only-of-type {\n",
       "        vertical-align: middle;\n",
       "    }\n",
       "\n",
       "    .dataframe tbody tr th {\n",
       "        vertical-align: top;\n",
       "    }\n",
       "\n",
       "    .dataframe thead th {\n",
       "        text-align: right;\n",
       "    }\n",
       "</style>\n",
       "<table border=\"1\" class=\"dataframe\">\n",
       "  <thead>\n",
       "    <tr style=\"text-align: right;\">\n",
       "      <th></th>\n",
       "      <th>운동 이름</th>\n",
       "      <th>운동 부위</th>\n",
       "      <th>운동 방법</th>\n",
       "    </tr>\n",
       "  </thead>\n",
       "  <tbody>\n",
       "    <tr>\n",
       "      <th>11</th>\n",
       "      <td>점프 스쿼트</td>\n",
       "      <td>허벅지</td>\n",
       "      <td>하체의 체지방은 연소하고 탄력을 향상시키는 데 효과적인 운동이다. 자기 체중을 갖고...</td>\n",
       "    </tr>\n",
       "    <tr>\n",
       "      <th>6</th>\n",
       "      <td>스쿼트 - 스미스 머신</td>\n",
       "      <td>허벅지</td>\n",
       "      <td>바벨 스쿼트 운동에 비해 고립된 운동으로 대퇴부와 둔부 크기를 증가시키기 위한 운동...</td>\n",
       "    </tr>\n",
       "    <tr>\n",
       "      <th>8</th>\n",
       "      <td>레그 익스텐션</td>\n",
       "      <td>허벅지</td>\n",
       "      <td>허벅지 전면 근육을 발달시키는 운동이다. 여성의 경우, 적당한 무게로 횟수를 늘려 ...</td>\n",
       "    </tr>\n",
       "    <tr>\n",
       "      <th>9</th>\n",
       "      <td>레그 컬 - 라잉</td>\n",
       "      <td>허벅지</td>\n",
       "      <td>대퇴후면의 슬굴곡근을 발달시키기 위한 운동이다. 스탠딩 레그 컬보다 많은 중량을 들...</td>\n",
       "    </tr>\n",
       "    <tr>\n",
       "      <th>10</th>\n",
       "      <td>데드리프트 - 바벨, 스티프 레그드</td>\n",
       "      <td>허벅지</td>\n",
       "      <td>슬굴곡근과, 척추기립근, 대둔근이 통합적으로 동원되어 대퇴후면과 등 하부를 동시에 ...</td>\n",
       "    </tr>\n",
       "    <tr>\n",
       "      <th>7</th>\n",
       "      <td>레그 프레스</td>\n",
       "      <td>허벅지</td>\n",
       "      <td>대퇴사두근과 둔근을 강화시켜주는 대표적이고 필수적인 하체 운동이다. 초보자가 실시하...</td>\n",
       "    </tr>\n",
       "  </tbody>\n",
       "</table>\n",
       "</div>"
      ],
      "text/plain": [
       "                  운동 이름 운동 부위  \\\n",
       "11               점프 스쿼트   허벅지   \n",
       "6          스쿼트 - 스미스 머신   허벅지   \n",
       "8               레그 익스텐션   허벅지   \n",
       "9             레그 컬 - 라잉   허벅지   \n",
       "10  데드리프트 - 바벨, 스티프 레그드   허벅지   \n",
       "7                레그 프레스   허벅지   \n",
       "\n",
       "                                                운동 방법  \n",
       "11  하체의 체지방은 연소하고 탄력을 향상시키는 데 효과적인 운동이다. 자기 체중을 갖고...  \n",
       "6   바벨 스쿼트 운동에 비해 고립된 운동으로 대퇴부와 둔부 크기를 증가시키기 위한 운동...  \n",
       "8   허벅지 전면 근육을 발달시키는 운동이다. 여성의 경우, 적당한 무게로 횟수를 늘려 ...  \n",
       "9   대퇴후면의 슬굴곡근을 발달시키기 위한 운동이다. 스탠딩 레그 컬보다 많은 중량을 들...  \n",
       "10  슬굴곡근과, 척추기립근, 대둔근이 통합적으로 동원되어 대퇴후면과 등 하부를 동시에 ...  \n",
       "7   대퇴사두근과 둔근을 강화시켜주는 대표적이고 필수적인 하체 운동이다. 초보자가 실시하...  "
      ]
     },
     "execution_count": 61,
     "metadata": {},
     "output_type": "execute_result"
    }
   ],
   "source": [
    "# 결과 예측하기\n",
    "def find_exercise_name(exercise, sorted_ind, name):\n",
    "    \n",
    "    name_title = exercise[exercise['운동 이름'] == name]\n",
    "    name_index = name_title.index.values\n",
    "    similar_indexes = sorted_ind[name_index, :6]\n",
    "    similar_indexes = similar_indexes.reshape(-1)\n",
    "    \n",
    "    return exercise.iloc[similar_indexes][:6]\n",
    "\n",
    "find_exercise_name(exercise, exercise_sorted_ind, \"점프 스쿼트\")"
   ]
  },
  {
   "cell_type": "code",
   "execution_count": 62,
   "id": "45817baa",
   "metadata": {},
   "outputs": [
    {
     "data": {
      "text/html": [
       "<div>\n",
       "<style scoped>\n",
       "    .dataframe tbody tr th:only-of-type {\n",
       "        vertical-align: middle;\n",
       "    }\n",
       "\n",
       "    .dataframe tbody tr th {\n",
       "        vertical-align: top;\n",
       "    }\n",
       "\n",
       "    .dataframe thead th {\n",
       "        text-align: right;\n",
       "    }\n",
       "</style>\n",
       "<table border=\"1\" class=\"dataframe\">\n",
       "  <thead>\n",
       "    <tr style=\"text-align: right;\">\n",
       "      <th></th>\n",
       "      <th>운동 이름</th>\n",
       "      <th>운동 부위</th>\n",
       "      <th>운동 방법</th>\n",
       "    </tr>\n",
       "  </thead>\n",
       "  <tbody>\n",
       "    <tr>\n",
       "      <th>30</th>\n",
       "      <td>펙덱 플라이 머신</td>\n",
       "      <td>가슴</td>\n",
       "      <td>운동을 처음 시작하는 초보자들이 덤벨 플라이를 실시하기 전에 근육의 자극을 경험하고...</td>\n",
       "    </tr>\n",
       "    <tr>\n",
       "      <th>35</th>\n",
       "      <td>플라이 - 덤벨</td>\n",
       "      <td>가슴</td>\n",
       "      <td>벤치에 앉아 팔을 가슴 옆에 붙이고 덤벨을 든다. 벤치에 누워 가슴 중앙과 덤벨이 ...</td>\n",
       "    </tr>\n",
       "    <tr>\n",
       "      <th>31</th>\n",
       "      <td>체스트 프레스 머신</td>\n",
       "      <td>가슴</td>\n",
       "      <td>가슴운동에서 제일 중요한 부분은 어깨 정렬이다. 대부분 가슴운동을 할 때 부상당하는...</td>\n",
       "    </tr>\n",
       "    <tr>\n",
       "      <th>33</th>\n",
       "      <td>어시스트 치닝 앤 디핑 머신</td>\n",
       "      <td>가슴, 팔</td>\n",
       "      <td>평행봉이나 디핑바(Dipping Bar)에 두 팔을 편 채로 짚고서 체중을 지탱한다...</td>\n",
       "    </tr>\n",
       "    <tr>\n",
       "      <th>36</th>\n",
       "      <td>벤치 프레스 - 덤벨</td>\n",
       "      <td>가슴</td>\n",
       "      <td>팔을 가슴 옆에 붙여 덤벨을 든다. 벤치에 누워 쇄골 아랫부분과 수직이 되게 덤벨을...</td>\n",
       "    </tr>\n",
       "    <tr>\n",
       "      <th>32</th>\n",
       "      <td>케이블머신</td>\n",
       "      <td>가슴</td>\n",
       "      <td>케이블의 양쪽 손잡이를 잡고 기구 중앙에 서서 엉덩이 너비만큼 발을 벌린다. 무릎을...</td>\n",
       "    </tr>\n",
       "  </tbody>\n",
       "</table>\n",
       "</div>"
      ],
      "text/plain": [
       "              운동 이름  운동 부위                                              운동 방법\n",
       "30        펙덱 플라이 머신     가슴  운동을 처음 시작하는 초보자들이 덤벨 플라이를 실시하기 전에 근육의 자극을 경험하고...\n",
       "35         플라이 - 덤벨     가슴  벤치에 앉아 팔을 가슴 옆에 붙이고 덤벨을 든다. 벤치에 누워 가슴 중앙과 덤벨이 ...\n",
       "31       체스트 프레스 머신     가슴  가슴운동에서 제일 중요한 부분은 어깨 정렬이다. 대부분 가슴운동을 할 때 부상당하는...\n",
       "33  어시스트 치닝 앤 디핑 머신  가슴, 팔  평행봉이나 디핑바(Dipping Bar)에 두 팔을 편 채로 짚고서 체중을 지탱한다...\n",
       "36      벤치 프레스 - 덤벨     가슴  팔을 가슴 옆에 붙여 덤벨을 든다. 벤치에 누워 쇄골 아랫부분과 수직이 되게 덤벨을...\n",
       "32            케이블머신     가슴  케이블의 양쪽 손잡이를 잡고 기구 중앙에 서서 엉덩이 너비만큼 발을 벌린다. 무릎을..."
      ]
     },
     "execution_count": 62,
     "metadata": {},
     "output_type": "execute_result"
    }
   ],
   "source": [
    "def find_exercise_part(exercise, sorted_ind, part):\n",
    "    \n",
    "    part_title = exercise[exercise['운동 부위'] == part]\n",
    "    part_index = part_title.index.values\n",
    "    similar_indexes = sorted_ind[part_index, :6]\n",
    "    similar_indexes = similar_indexes.reshape(-1)\n",
    "    \n",
    "    return exercise.iloc[similar_indexes][:6]\n",
    "\n",
    "find_exercise_part(exercise, exercise_sorted_ind, \"가슴\")"
   ]
  },
  {
   "cell_type": "markdown",
   "id": "8bac956d",
   "metadata": {},
   "source": [
    "<hr>"
   ]
  }
 ],
 "metadata": {
  "kernelspec": {
   "display_name": "Python 3 (ipykernel)",
   "language": "python",
   "name": "python3"
  },
  "language_info": {
   "codemirror_mode": {
    "name": "ipython",
    "version": 3
   },
   "file_extension": ".py",
   "mimetype": "text/x-python",
   "name": "python",
   "nbconvert_exporter": "python",
   "pygments_lexer": "ipython3",
   "version": "3.10.9"
  }
 },
 "nbformat": 4,
 "nbformat_minor": 5
}
