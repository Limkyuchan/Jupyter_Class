{
 "cells": [
  {
   "cell_type": "markdown",
   "id": "6f345620",
   "metadata": {},
   "source": [
    "- 실습1) 카테고리 목록 가져오기"
   ]
  },
  {
   "cell_type": "code",
   "execution_count": 72,
   "id": "a486e954",
   "metadata": {},
   "outputs": [
    {
     "name": "stdout",
     "output_type": "stream",
     "text": [
      "Travel\n",
      "Mystery\n",
      "Historical Fiction\n",
      "Sequential Art\n",
      "Classics\n",
      "Philosophy\n",
      "Romance\n",
      "Womens Fiction\n",
      "Fiction\n",
      "Childrens\n",
      "Religion\n",
      "Nonfiction\n",
      "Music\n",
      "Default\n",
      "Science Fiction\n",
      "Sports and Games\n",
      "Add a comment\n",
      "Fantasy\n",
      "New Adult\n",
      "Young Adult\n",
      "Science\n",
      "Poetry\n",
      "Paranormal\n",
      "Art\n",
      "Psychology\n",
      "Autobiography\n",
      "Parenting\n",
      "Adult Fiction\n",
      "Humor\n",
      "Horror\n",
      "History\n",
      "Food and Drink\n",
      "Christian Fiction\n",
      "Business\n",
      "Biography\n",
      "Thriller\n",
      "Contemporary\n",
      "Spirituality\n",
      "Academic\n",
      "Self Help\n",
      "Historical\n",
      "Christian\n",
      "Suspense\n",
      "Short Stories\n",
      "Novels\n",
      "Health\n",
      "Politics\n",
      "Cultural\n",
      "Erotica\n",
      "Crime\n"
     ]
    }
   ],
   "source": [
    "from bs4 import BeautifulSoup\n",
    "import requests\n",
    "\n",
    "url = \"https://books.toscrape.com/\"\n",
    "\n",
    "res = requests.get(url)\n",
    "soup = BeautifulSoup(res.text, \"html.parser\")\n",
    "\n",
    "for i in soup.select(\"div.side_categories > ul > li > ul > li\"):\n",
    "    print(i.text.strip())"
   ]
  },
  {
   "cell_type": "code",
   "execution_count": null,
   "id": "bc7b5a4b",
   "metadata": {},
   "outputs": [],
   "source": []
  },
  {
   "cell_type": "markdown",
   "id": "753dbb35",
   "metadata": {},
   "source": [
    "- 실습2) childrens에서 도서 가격 가져오기"
   ]
  },
  {
   "cell_type": "code",
   "execution_count": 74,
   "id": "7d21b07d",
   "metadata": {},
   "outputs": [
    {
     "name": "stdout",
     "output_type": "stream",
     "text": [
      "[<p class=\"price_color\">Â£54.64</p>, <p class=\"price_color\">Â£36.89</p>, <p class=\"price_color\">Â£56.13</p>, <p class=\"price_color\">Â£58.08</p>, <p class=\"price_color\">Â£13.47</p>, <p class=\"price_color\">Â£12.96</p>, <p class=\"price_color\">Â£22.08</p>, <p class=\"price_color\">Â£23.57</p>, <p class=\"price_color\">Â£18.28</p>, <p class=\"price_color\">Â£53.95</p>, <p class=\"price_color\">Â£25.08</p>, <p class=\"price_color\">Â£35.96</p>, <p class=\"price_color\">Â£52.87</p>, <p class=\"price_color\">Â£34.41</p>, <p class=\"price_color\">Â£32.38</p>, <p class=\"price_color\">Â£22.54</p>, <p class=\"price_color\">Â£56.07</p>, <p class=\"price_color\">Â£48.77</p>, <p class=\"price_color\">Â£43.59</p>, <p class=\"price_color\">Â£26.33</p>]\n"
     ]
    }
   ],
   "source": [
    "from bs4 import BeautifulSoup\n",
    "import requests\n",
    "\n",
    "url = \"https://books.toscrape.com/catalogue/category/books/childrens_11/index.html\"\n",
    "\n",
    "res = requests.get(url)\n",
    "soup = BeautifulSoup(res.text, \"html.parser\")\n",
    "\n",
    "# price_list = soup.find_all(\"p\", {'class': 'price_color'})\n",
    "# print(price_list)\n",
    "\n",
    "#div.product_price > p.price_color\n",
    "for i in soup.select(\"article > div > p.price_color\"):\n",
    "    print(i.text[2:], \"파운드\")"
   ]
  },
  {
   "cell_type": "code",
   "execution_count": null,
   "id": "c6f57130",
   "metadata": {},
   "outputs": [],
   "source": []
  },
  {
   "cell_type": "markdown",
   "id": "d7e330ce",
   "metadata": {},
   "source": [
    "- 실습3) 도서 이미지 저장하기"
   ]
  },
  {
   "cell_type": "code",
   "execution_count": 64,
   "id": "25efa8bb",
   "metadata": {},
   "outputs": [
    {
     "name": "stdout",
     "output_type": "stream",
     "text": [
      "https://books.toscrape.com/media/cache/af/6e/af6e796160fe63e0cf19d44395c7ddf2.jpg 이미지 사진 1.jpg\n",
      "https://books.toscrape.com/media/cache/cf/bb/cfbb5e62715c6d888fd07794c9bab5d6.jpg 이미지 사진 2.jpg\n",
      "https://books.toscrape.com/media/cache/c4/a2/c4a2a1a026c67bcceb5a411c724d7d0c.jpg 이미지 사진 3.jpg\n",
      "https://books.toscrape.com/media/cache/26/32/2632a1e12f2c085fabbe022ae4cd6933.jpg 이미지 사진 4.jpg\n",
      "https://books.toscrape.com/media/cache/80/25/8025b80a40178f2a6dd4f99ad88e0fba.jpg 이미지 사진 5.jpg\n",
      "https://books.toscrape.com/media/cache/28/50/2850439c2ba103fb69dba9cd2dd9f0c2.jpg 이미지 사진 6.jpg\n",
      "https://books.toscrape.com/media/cache/2b/38/2b380f77723c797c0389f978afa6db58.jpg 이미지 사진 7.jpg\n",
      "https://books.toscrape.com/media/cache/bb/e2/bbe26db72b8a32117bfe4981b7cc8147.jpg 이미지 사진 8.jpg\n",
      "https://books.toscrape.com/media/cache/97/12/971212afa8e4ff49d92f678bc889d8b7.jpg 이미지 사진 9.jpg\n",
      "https://books.toscrape.com/media/cache/85/e7/85e75d5a9309da5807c82decf3d90263.jpg 이미지 사진 10.jpg\n",
      "https://books.toscrape.com/media/cache/27/1f/271faa1d7561473974d12803feb1f0a1.jpg 이미지 사진 11.jpg\n",
      "https://books.toscrape.com/media/cache/6c/18/6c18ea03e294bfcfe07cf531c6c5f5b3.jpg 이미지 사진 12.jpg\n",
      "https://books.toscrape.com/media/cache/4f/1e/4f1ece2500f8dbacecca42d57befca03.jpg 이미지 사진 13.jpg\n",
      "https://books.toscrape.com/media/cache/8f/66/8f66ec46e671d6fca79649c10c7c8f8a.jpg 이미지 사진 14.jpg\n",
      "https://books.toscrape.com/media/cache/1c/eb/1cebdf525ebe970a1dc3c5a8c50eae6b.jpg 이미지 사진 15.jpg\n",
      "https://books.toscrape.com/media/cache/c0/bb/c0bb6e42743b9c1aaf9b754501100a5d.jpg 이미지 사진 16.jpg\n",
      "https://books.toscrape.com/media/cache/bf/db/bfdbf9726621276fc7821d705690dbae.jpg 이미지 사진 17.jpg\n",
      "https://books.toscrape.com/media/cache/e0/90/e090748ce5a567207aed9185c97eb34b.jpg 이미지 사진 18.jpg\n",
      "https://books.toscrape.com/media/cache/21/bd/21bdf7ae21476b1debf4aa3eefe6f29d.jpg 이미지 사진 19.jpg\n",
      "https://books.toscrape.com/media/cache/ec/08/ec08efebaa33a403e54080b48c139794.jpg 이미지 사진 20.jpg\n"
     ]
    }
   ],
   "source": [
    "from bs4 import BeautifulSoup\n",
    "from urllib.request import urlretrieve\n",
    "import requests\n",
    "import re\n",
    "\n",
    "img_re = '(\\.\\.\\/){4}media\\/cache\\/([a-z0-9]{2}\\/){2}.*\\.jpg'\n",
    "\n",
    "response = requests.get('https://books.toscrape.com/catalogue/category/books/childrens_11/index.html')\n",
    "soup = BeautifulSoup(response.text, 'html.parser')\n",
    "\n",
    "images = soup.find_all('img', {'src':re.compile(img_re)})\n",
    "\n",
    "for i, img in enumerate(images, start=1):\n",
    "    img_path = img['src'][11:]\n",
    "    img_url = 'https://books.toscrape.com' + img_path\n",
    "    save_name = f\"이미지 사진 {i}.jpg\"\n",
    "    print(img_url, save_name)\n",
    "    urlretrieve(img_url, save_name)\n",
    "# print(\"이미지 저장 완료!\")"
   ]
  },
  {
   "cell_type": "code",
   "execution_count": 67,
   "id": "6c45abc4",
   "metadata": {
    "scrolled": true
   },
   "outputs": [
    {
     "name": "stdout",
     "output_type": "stream",
     "text": [
      "저장 완료!\n"
     ]
    }
   ],
   "source": [
    "from bs4 import BeautifulSoup\n",
    "import urllib.request as req\n",
    "from urllib.parse import urljoin\n",
    "\n",
    "cat_url = 'https://books.toscrape.com/catalogue/category/books/childrens_11/index.html'\n",
    "base_url = 'https://books.toscrape.com/'\n",
    "\n",
    "res = req.urlopen(cat_url)\n",
    "soup = BeautifulSoup(res, 'html.parser')\n",
    "\n",
    "sel_soup = soup.select('div.image_container > a > img')\n",
    "\n",
    "for i, img in enumerate(sel_soup, start=1):\n",
    "    img_url = urljoin(base_url, img['src'])\n",
    "    save_name = f'image{i}.png'\n",
    "    req.urlretrieve(img_url, save_name)\n",
    "\n",
    "print('저장 완료!')"
   ]
  },
  {
   "cell_type": "code",
   "execution_count": null,
   "id": "7a85c662",
   "metadata": {},
   "outputs": [],
   "source": []
  },
  {
   "cell_type": "code",
   "execution_count": null,
   "id": "03f5a503",
   "metadata": {},
   "outputs": [],
   "source": []
  },
  {
   "cell_type": "code",
   "execution_count": null,
   "id": "6011046a",
   "metadata": {},
   "outputs": [],
   "source": []
  },
  {
   "cell_type": "code",
   "execution_count": null,
   "id": "5b43fb4a",
   "metadata": {},
   "outputs": [],
   "source": []
  },
  {
   "cell_type": "code",
   "execution_count": null,
   "id": "426d4b1f",
   "metadata": {},
   "outputs": [],
   "source": []
  },
  {
   "cell_type": "code",
   "execution_count": null,
   "id": "fa7eca80",
   "metadata": {},
   "outputs": [],
   "source": []
  },
  {
   "cell_type": "code",
   "execution_count": null,
   "id": "9fded244",
   "metadata": {},
   "outputs": [],
   "source": []
  },
  {
   "cell_type": "code",
   "execution_count": null,
   "id": "e4b0994c",
   "metadata": {},
   "outputs": [],
   "source": []
  },
  {
   "cell_type": "code",
   "execution_count": null,
   "id": "36a474c5",
   "metadata": {},
   "outputs": [],
   "source": []
  },
  {
   "cell_type": "code",
   "execution_count": null,
   "id": "0451574c",
   "metadata": {},
   "outputs": [],
   "source": []
  },
  {
   "cell_type": "code",
   "execution_count": null,
   "id": "a3030670",
   "metadata": {},
   "outputs": [],
   "source": []
  },
  {
   "cell_type": "code",
   "execution_count": null,
   "id": "362e38d2",
   "metadata": {},
   "outputs": [],
   "source": []
  },
  {
   "cell_type": "code",
   "execution_count": null,
   "id": "3928ffe2",
   "metadata": {},
   "outputs": [],
   "source": []
  },
  {
   "cell_type": "code",
   "execution_count": null,
   "id": "5def238d",
   "metadata": {},
   "outputs": [],
   "source": []
  },
  {
   "cell_type": "code",
   "execution_count": null,
   "id": "cacb4b56",
   "metadata": {},
   "outputs": [],
   "source": []
  },
  {
   "cell_type": "code",
   "execution_count": null,
   "id": "c895d2a6",
   "metadata": {},
   "outputs": [],
   "source": []
  },
  {
   "cell_type": "code",
   "execution_count": null,
   "id": "1b2cd4bc",
   "metadata": {},
   "outputs": [],
   "source": []
  },
  {
   "cell_type": "code",
   "execution_count": null,
   "id": "4e4d79cc",
   "metadata": {},
   "outputs": [],
   "source": []
  },
  {
   "cell_type": "code",
   "execution_count": null,
   "id": "14086238",
   "metadata": {},
   "outputs": [],
   "source": []
  },
  {
   "cell_type": "code",
   "execution_count": null,
   "id": "a75abbbd",
   "metadata": {},
   "outputs": [],
   "source": []
  },
  {
   "cell_type": "code",
   "execution_count": null,
   "id": "ba288e27",
   "metadata": {},
   "outputs": [],
   "source": []
  },
  {
   "cell_type": "code",
   "execution_count": null,
   "id": "f070aaa9",
   "metadata": {},
   "outputs": [],
   "source": []
  },
  {
   "cell_type": "code",
   "execution_count": null,
   "id": "5479eefb",
   "metadata": {},
   "outputs": [],
   "source": []
  },
  {
   "cell_type": "code",
   "execution_count": null,
   "id": "23621746",
   "metadata": {},
   "outputs": [],
   "source": []
  },
  {
   "cell_type": "code",
   "execution_count": null,
   "id": "9c8f04e1",
   "metadata": {},
   "outputs": [],
   "source": []
  },
  {
   "cell_type": "code",
   "execution_count": null,
   "id": "a3b4c4b8",
   "metadata": {},
   "outputs": [],
   "source": []
  },
  {
   "cell_type": "code",
   "execution_count": null,
   "id": "e951ed71",
   "metadata": {},
   "outputs": [],
   "source": []
  },
  {
   "cell_type": "code",
   "execution_count": null,
   "id": "9b9de78b",
   "metadata": {},
   "outputs": [],
   "source": []
  }
 ],
 "metadata": {
  "kernelspec": {
   "display_name": "Python 3 (ipykernel)",
   "language": "python",
   "name": "python3"
  },
  "language_info": {
   "codemirror_mode": {
    "name": "ipython",
    "version": 3
   },
   "file_extension": ".py",
   "mimetype": "text/x-python",
   "name": "python",
   "nbconvert_exporter": "python",
   "pygments_lexer": "ipython3",
   "version": "3.10.9"
  }
 },
 "nbformat": 4,
 "nbformat_minor": 5
}
