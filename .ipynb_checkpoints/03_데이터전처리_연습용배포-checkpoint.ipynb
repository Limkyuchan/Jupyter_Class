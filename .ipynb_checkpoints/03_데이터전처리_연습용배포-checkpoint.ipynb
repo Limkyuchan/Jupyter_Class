{
 "cells": [
  {
   "cell_type": "markdown",
   "id": "2d8f629a",
   "metadata": {},
   "source": [
    "# 기존 모델로 예측 결과 확인\n"
   ]
  },
  {
   "cell_type": "code",
   "execution_count": 7,
   "id": "24b0726a",
   "metadata": {},
   "outputs": [],
   "source": [
    "fish_length = [25.4, 26.3, 26.5, 29.0, 29.0, 29.7, 29.7, 30.0, 30.0, 30.7, 31.0, 31.0, \n",
    "                31.5, 32.0, 32.0, 32.0, 33.0, 33.0, 33.5, 33.5, 34.0, 34.0, 34.5, 35.0, \n",
    "                35.0, 35.0, 35.0, 36.0, 36.0, 37.0, 38.5, 38.5, 39.5, 41.0, 41.0, 9.8, \n",
    "                10.5, 10.6, 11.0, 11.2, 11.3, 11.8, 11.8, 12.0, 12.2, 12.4, 13.0, 14.3, 15.0]\n",
    "fish_weight = [242.0, 290.0, 340.0, 363.0, 430.0, 450.0, 500.0, 390.0, 450.0, 500.0, 475.0, 500.0, \n",
    "                500.0, 340.0, 600.0, 600.0, 700.0, 700.0, 610.0, 650.0, 575.0, 685.0, 620.0, 680.0, \n",
    "                700.0, 725.0, 720.0, 714.0, 850.0, 1000.0, 920.0, 955.0, 925.0, 975.0, 950.0, 6.7, \n",
    "                7.5, 7.0, 9.7, 9.8, 8.7, 10.0, 9.9, 9.8, 12.2, 13.4, 12.2, 19.7, 19.9]\n",
    "\n",
    "# 2차원 데이터로 변환(각각의 데이터는 샘플이라 부름)\n",
    "fish_data = [[l, w] for l, w in zip(fish_length, fish_weight)]\n",
    "fish_target = [1]*35 + [0]*14"
   ]
  },
  {
   "cell_type": "code",
   "execution_count": 10,
   "id": "403f3560",
   "metadata": {},
   "outputs": [],
   "source": [
    "# 넘파이 모듈 import하기\n",
    "import numpy as np \n",
    "\n",
    "# 생선 데이터로 numpy 배열 생성(input, target)\n",
    "input_arr = np.array(fish_data)\n",
    "target_arr = np.array(fish_target)\n",
    "\n",
    "# 랜덤한 index 구하기\n",
    " # 항상 동일한 결과를 위해 지정함\n",
    "np.random.seed(1)\n",
    "index = np.arange(49)\n",
    "np.random.shuffle(index)\n",
    "\n",
    "# 넘파이의 배열 인덱싱으로 훈련데이터와 테스트 데이터 나누기\n",
    "X_train = input_arr[index[:35]]\n",
    "y_train = target_arr[index[:35]]\n",
    "\n",
    "train_input = X_train\n",
    "train_target = y_train\n",
    "\n",
    "X_test = input_arr[index[35:]]\n",
    "y_test = target_arr[index[35:]]\n",
    "\n",
    "test_input = X_test\n",
    "test_target = y_test\n"
   ]
  },
  {
   "cell_type": "code",
   "execution_count": 11,
   "id": "cfbe9886",
   "metadata": {},
   "outputs": [
    {
     "data": {
      "text/plain": [
       "1.0"
      ]
     },
     "execution_count": 11,
     "metadata": {},
     "output_type": "execute_result"
    }
   ],
   "source": [
    "# KNeighborsClassifier 임포트하기\n",
    "from sklearn.neighbors import KNeighborsClassifier\n",
    "\n",
    "# KNeighborsClassifier 객체 생성\n",
    "model = KNeighborsClassifier()\n",
    "\n",
    "# 학습하기\n",
    "model.fit(X_train, y_train) #model.fit(train_input, train_target)\n",
    "\n",
    "# 모델 정확도 평가 점수 확인\n",
    "model.score(test_input, test_target) # model.score(X_test, y_test)"
   ]
  },
  {
   "cell_type": "code",
   "execution_count": 12,
   "id": "7e72fa7b",
   "metadata": {},
   "outputs": [
    {
     "data": {
      "text/plain": [
       "array([0])"
      ]
     },
     "execution_count": 12,
     "metadata": {},
     "output_type": "execute_result"
    }
   ],
   "source": [
    "model.predict([[25,150]]) "
   ]
  },
  {
   "cell_type": "code",
   "execution_count": 6,
   "id": "123a3680",
   "metadata": {},
   "outputs": [
    {
     "data": {
      "image/png": "[encoded data removed]",
      "text/plain": [
       "<Figure size 640x480 with 1 Axes>"
      ]
     },
     "metadata": {},
     "output_type": "display_data"
    }
   ],
   "source": [
    "# 시각화\n",
    "import matplotlib.pyplot as plt\n",
    "\n",
    "plt.scatter(train_input[:, 0], train_input[:, 1])\n",
    "plt.scatter(test_input[:, 0], test_input[:, 1])\n",
    "plt.scatter(25, 150, marker='^') # 분류 대상 표시\n",
    "plt.xlabel('length')\n",
    "plt.ylabel('weight')\n",
    "plt.show()"
   ]
  },
  {
   "cell_type": "markdown",
   "id": "cf437aa3",
   "metadata": {},
   "source": [
    "- 그래프로 확인해보면 25cm에 150g이면 도미로 분류해야 하는데 빙어로 분류됨\n",
    "- 왜일까?"
   ]
  },
  {
   "cell_type": "markdown",
   "id": "845df3be",
   "metadata": {},
   "source": [
    "# 넘파이를 활용하여 다시 준비하기\n",
    "\n",
    "- 훈련 데이터를 만드는 작업에 넘파이를 활용"
   ]
  },
  {
   "cell_type": "code",
   "execution_count": 15,
   "id": "e3fb643c",
   "metadata": {},
   "outputs": [],
   "source": [
    "fish_length = [25.4, 26.3, 26.5, 29.0, 29.0, 29.7, 29.7, 30.0, 30.0, 30.7, 31.0, 31.0, \n",
    "                31.5, 32.0, 32.0, 32.0, 33.0, 33.0, 33.5, 33.5, 34.0, 34.0, 34.5, 35.0, \n",
    "                35.0, 35.0, 35.0, 36.0, 36.0, 37.0, 38.5, 38.5, 39.5, 41.0, 41.0, 9.8, \n",
    "                10.5, 10.6, 11.0, 11.2, 11.3, 11.8, 11.8, 12.0, 12.2, 12.4, 13.0, 14.3, 15.0]\n",
    "fish_weight = [242.0, 290.0, 340.0, 363.0, 430.0, 450.0, 500.0, 390.0, 450.0, 500.0, 475.0, 500.0, \n",
    "                500.0, 340.0, 600.0, 600.0, 700.0, 700.0, 610.0, 650.0, 575.0, 685.0, 620.0, 680.0, \n",
    "                700.0, 725.0, 720.0, 714.0, 850.0, 1000.0, 920.0, 955.0, 925.0, 975.0, 950.0, 6.7, \n",
    "                7.5, 7.0, 9.7, 9.8, 8.7, 10.0, 9.9, 9.8, 12.2, 13.4, 12.2, 19.7, 19.9]"
   ]
  },
  {
   "cell_type": "code",
   "execution_count": 16,
   "id": "8ddc8545",
   "metadata": {},
   "outputs": [],
   "source": [
    "# 넘파이 모듈 임포트\n",
    "import numpy as np"
   ]
  },
  {
   "cell_type": "code",
   "execution_count": 19,
   "id": "b2b960a5",
   "metadata": {},
   "outputs": [
    {
     "data": {
      "text/plain": [
       "array([[1, 4],\n",
       "       [2, 5],\n",
       "       [3, 6]])"
      ]
     },
     "execution_count": 19,
     "metadata": {},
     "output_type": "execute_result"
    }
   ],
   "source": [
    "# 같은 인덱스끼리 묶어줌\n",
    "np.column_stack(([1,2,3], [4,5,6]))"
   ]
  },
  {
   "cell_type": "code",
   "execution_count": 17,
   "id": "6b6579ae",
   "metadata": {},
   "outputs": [
    {
     "data": {
      "text/plain": [
       "array([[ 25.4, 242. ],\n",
       "       [ 26.3, 290. ],\n",
       "       [ 26.5, 340. ],\n",
       "       [ 29. , 363. ],\n",
       "       [ 29. , 430. ]])"
      ]
     },
     "execution_count": 17,
     "metadata": {},
     "output_type": "execute_result"
    }
   ],
   "source": [
    "# column_stack()함수를 활용하여 생선 길이데이타와 무게 데이터를 함침\n",
    "fish_data = np.column_stack((fish_length, fish_weight))\n",
    "fish_data[:5]"
   ]
  },
  {
   "cell_type": "code",
   "execution_count": 23,
   "id": "e94fb13d",
   "metadata": {},
   "outputs": [
    {
     "data": {
      "text/plain": [
       "(array([1., 1., 1., 1., 1.]), array([0., 0., 0., 0., 0.]))"
      ]
     },
     "execution_count": 23,
     "metadata": {},
     "output_type": "execute_result"
    }
   ],
   "source": [
    "# 1또는 0을 가지는 넘파이배열을 생성하는 함수\n",
    "np.ones(5), np.zeros(5)"
   ]
  },
  {
   "cell_type": "code",
   "execution_count": 18,
   "id": "c9b83327",
   "metadata": {},
   "outputs": [],
   "source": [
    "# concatenate()함수는 넘파이 배열을 이어붙임\n",
    "fish_target = np.concatenate((np.ones(35), np.zeros(14)))"
   ]
  },
  {
   "cell_type": "code",
   "execution_count": 19,
   "id": "bcfb61a4",
   "metadata": {},
   "outputs": [
    {
     "data": {
      "text/plain": [
       "array([1., 1., 1., 1., 1., 1., 1., 1., 1., 1., 1., 1., 1., 1., 1., 1., 1.,\n",
       "       1., 1., 1., 1., 1., 1., 1., 1., 1., 1., 1., 1., 1., 1., 1., 1., 1.,\n",
       "       1., 0., 0., 0., 0., 0., 0., 0., 0., 0., 0., 0., 0., 0., 0.])"
      ]
     },
     "execution_count": 19,
     "metadata": {},
     "output_type": "execute_result"
    }
   ],
   "source": [
    "fish_target"
   ]
  },
  {
   "cell_type": "markdown",
   "id": "a944d4bd",
   "metadata": {},
   "source": [
    "### 데이터 나누기\n",
    "- 사이킷런에서 제공하는 함수를 활용하여 훈련/테스트 데이터를 분할"
   ]
  },
  {
   "cell_type": "code",
   "execution_count": 20,
   "id": "e0cfccec",
   "metadata": {},
   "outputs": [],
   "source": [
    "# train_test_split함수 임포트\n",
    "from sklearn.model_selection import train_test_split"
   ]
  },
  {
   "cell_type": "code",
   "execution_count": 69,
   "id": "4e918085",
   "metadata": {},
   "outputs": [],
   "source": [
    "# train_test_split함수를 사용하여 데이터셋 나누기\n",
    "train_input, test_input, train_target, test_target = train_test_split(\n",
    "                                                        fish_data, \n",
    "                                                        fish_target, random_state=42)"
   ]
  },
  {
   "cell_type": "code",
   "execution_count": 73,
   "id": "602bc98c",
   "metadata": {},
   "outputs": [
    {
     "data": {
      "text/plain": [
       "((36, 2), (13, 2), (36,), (13,))"
      ]
     },
     "execution_count": 73,
     "metadata": {},
     "output_type": "execute_result"
    }
   ],
   "source": [
    "# 나누어진 데이터셋의 모양 확인\n",
    "train_input.shape, test_input.shape, train_target.shape, test_target.shape"
   ]
  },
  {
   "cell_type": "code",
   "execution_count": 74,
   "id": "9ccc228b",
   "metadata": {},
   "outputs": [
    {
     "data": {
      "text/plain": [
       "array([1., 0., 0., 0., 1., 1., 1., 1., 1., 1., 1., 1., 1.])"
      ]
     },
     "execution_count": 74,
     "metadata": {},
     "output_type": "execute_result"
    }
   ],
   "source": [
    "test_target"
   ]
  },
  {
   "cell_type": "code",
   "execution_count": 77,
   "id": "420d5e27",
   "metadata": {},
   "outputs": [],
   "source": [
    "# stratify=fish_target 옵션을 추가하여 train_test_split함수로 데이터셋 분할하기\n",
    "# 타겟에 들어있는 값들의 비율로 분할됨\n",
    "# train_test_split함수를 사용하여 데이터셋 나누기\n",
    "train_input, test_input, train_target, test_target = train_test_split(\n",
    "                                                        fish_data, \n",
    "                                                        fish_target, random_state=42,\n",
    "                                                        stratify=fish_target)\n"
   ]
  },
  {
   "cell_type": "code",
   "execution_count": 78,
   "id": "d82ba78b",
   "metadata": {},
   "outputs": [
    {
     "data": {
      "text/plain": [
       "array([0., 0., 1., 0., 1., 0., 1., 1., 1., 1., 1., 1., 1.])"
      ]
     },
     "execution_count": 78,
     "metadata": {},
     "output_type": "execute_result"
    }
   ],
   "source": [
    "test_target"
   ]
  },
  {
   "cell_type": "code",
   "execution_count": 79,
   "id": "b300d5b2",
   "metadata": {},
   "outputs": [
    {
     "data": {
      "text/plain": [
       "1.0"
      ]
     },
     "execution_count": 79,
     "metadata": {},
     "output_type": "execute_result"
    }
   ],
   "source": [
    "# KNeighborsClassifier 임포트하기\n",
    "from sklearn.neighbors import KNeighborsClassifier\n",
    "\n",
    "# KNeighborsClassifier 객체 생성\n",
    "model = KNeighborsClassifier()\n",
    "\n",
    "# 학습하기\n",
    "model.fit(X_train, y_train) #model.fit(train_input, train_target)\n",
    "\n",
    "# 모델 정확도 평가 점수 확인\n",
    "model.score(test_input, test_target) # model.score(X_test, y_test)"
   ]
  },
  {
   "cell_type": "code",
   "execution_count": 81,
   "id": "e141b2da",
   "metadata": {},
   "outputs": [
    {
     "data": {
      "text/plain": [
       "array([0])"
      ]
     },
     "execution_count": 81,
     "metadata": {},
     "output_type": "execute_result"
    }
   ],
   "source": [
    "# 25,150 예측 하기\n",
    "model.predict([[25,150]]) "
   ]
  },
  {
   "cell_type": "markdown",
   "id": "83047ff4",
   "metadata": {},
   "source": [
    "- 여전히 결과가 빙어로 처리된다."
   ]
  },
  {
   "cell_type": "code",
   "execution_count": 82,
   "id": "75d95b14",
   "metadata": {},
   "outputs": [
    {
     "name": "stdout",
     "output_type": "stream",
     "text": [
      "[[130.48375378 130.73859415 137.17988191 138.39320793 140.62090883]]\n",
      "[[ 3 30  8 22 15]]\n"
     ]
    }
   ],
   "source": [
    "# [25,150]의 이웃 개수 확인\n",
    "distances, indexes = model.kneighbors([[25, 150]])\n",
    "print(distances)\n",
    "print(indexes)"
   ]
  },
  {
   "cell_type": "code",
   "execution_count": 83,
   "id": "27eaabe7",
   "metadata": {
    "scrolled": false
   },
   "outputs": [
    {
     "data": {
      "image/png": "[encoded data removed]",
      "text/plain": [
       "<Figure size 640x480 with 1 Axes>"
      ]
     },
     "metadata": {},
     "output_type": "display_data"
    }
   ],
   "source": [
    "# 시각화 하여 확인\n",
    "import matplotlib.pyplot as plt\n",
    "plt.scatter(train_input[:,0], train_input[:,1])\n",
    "plt.scatter(train_input[indexes,0], train_input[indexes,1], marker='D')\n",
    "plt.scatter(25, 150, marker='^')\n",
    "plt.xlabel('length')\n",
    "plt.ylabel('weight')\n",
    "plt.show()"
   ]
  },
  {
   "cell_type": "markdown",
   "id": "889ab86f",
   "metadata": {},
   "source": [
    "- 왜 더 가까운 도미가 이웃이 아니라 빙어가 이웃으로 판단되는걸까?\n",
    "\n",
    "- k-최근접 이웃 알고리즘은 주변의 샘플 중 가까운 것이 다수인 클래스를 예측\n",
    "- 이웃들 중 가장 가까운 5개를 찾아 분류 결과를 예측함\n",
    "- 가깝다라는 기준을 distances로 확인할 수 있는데 거리 비율이 이상함\n",
    "- [ 92.00086956 130.48375378 130.73859415 138.32150953 138.39320793]\n",
    "- x축 범위 (10 ~ 40)\n",
    "- y축 범위 (0 ~ 1000)\n",
    "- y축으로 조금만 떨어져도 크게 달라지는 것"
   ]
  },
  {
   "cell_type": "code",
   "execution_count": 84,
   "id": "4ca72d11",
   "metadata": {
    "scrolled": true
   },
   "outputs": [
    {
     "data": {
      "image/png": "[encoded data removed]",
      "text/plain": [
       "<Figure size 640x480 with 1 Axes>"
      ]
     },
     "metadata": {},
     "output_type": "display_data"
    }
   ],
   "source": [
    "plt.scatter(train_input[:,0], train_input[:,1])\n",
    "plt.scatter(25, 150, marker='^')\n",
    "plt.scatter(train_input[indexes,0], train_input[indexes,1], marker='D')\n",
    "plt.xlim((0, 1000)) # x축의 기준범위 변경. ylim은 y축의 기준범위 변경\n",
    "plt.xlabel('length')\n",
    "plt.ylabel('weight')\n",
    "plt.show()"
   ]
  },
  {
   "cell_type": "markdown",
   "id": "d89bc278",
   "metadata": {},
   "source": [
    "- 위와 같이 만들면 생선의 무게가 분류 기준이 될 수 있음\n",
    "- 길이와 무게가 서로 값의 범위가 달라서 생긴 문제(Scale이 다름)\n",
    "- 데이터를 표현하는 기준이 다르면 결과가 올바르지 않음\n",
    "- 거리기반의 알고리즘인 kNN뿐만 아니라 모든 알고리즘에서 영향이 있을 수 있음\n",
    "\n",
    "#### 따라서 샘플들의 값을 일정한 기준으로 맞출 필요가 있음"
   ]
  },
  {
   "cell_type": "markdown",
   "id": "c017d709",
   "metadata": {},
   "source": [
    "# 데이터 전처리\n",
    "- 모델의 결과가 유의미 하기 위해 반드시 데이터 전처리 과정이 필요\n",
    "- 앞서 확인한 것과 같이 모델을 통한 결과에 문제가 발생할 수 있음\n",
    "- 이러한 문제를 덜 발생시키도록 데이터의 전처리는 매우 중요함\n",
    "- 전처리는 일반적으로 표준점수(standard score)를 사용(z점수라고도 함)\n",
    "\n",
    "- 표준점수는 각 특성값이 평균에서 표준편차의 몇 배만큼 떨어져 있는지를 나타냄\n",
    "- 표준점수를 이용하면 특성값의 크기를 동일한 조건으로 만들어 비교 가능"
   ]
  },
  {
   "cell_type": "code",
   "execution_count": 85,
   "id": "16cf93f8",
   "metadata": {},
   "outputs": [
    {
     "name": "stdout",
     "output_type": "stream",
     "text": [
      "[ 27.29722222 454.09722222] [  9.98244253 323.29893931]\n"
     ]
    }
   ],
   "source": [
    "# 분산: 데이터에서 평균을 뺀 값을 모두 제곱한 후 평균값\n",
    "# 표준편차: 분산의 제곱근. 데이터가 분산된 정도를 의미\n",
    "# 표준점수: 데이터가 원점에서 얼마만큼의 표준편차만큼 떨어져 있는가를 나타내는 값\n",
    "\n",
    "# 표준점수 구하기\n",
    "mean = np.mean(train_input, axis=0) #평균. axis=0은 행을 축으로 함\n",
    "std = np.std(train_input, axis=0) # 표준편차. axis=0은 행을 축으로 함\n",
    "print(mean, std)"
   ]
  },
  {
   "cell_type": "markdown",
   "id": "cdb66c18",
   "metadata": {},
   "source": [
    "#### 브로드캐스팅\n",
    "- 넘파이 배열 연산을 할 때 모든 행을 대상으로 진행되는 것을 말함\n",
    "- 값이 하나인 평균과 표준편차가 넘파이 배열의 모든 행과 열에 연산이 적용되는 것"
   ]
  },
  {
   "cell_type": "code",
   "execution_count": 86,
   "id": "e8927cb4",
   "metadata": {},
   "outputs": [
    {
     "name": "stdout",
     "output_type": "stream",
     "text": [
      "[[ 0.24070039  0.14198246]\n",
      " [-1.51237757 -1.36683783]\n",
      " [ 0.5712808   0.76060496]\n",
      " [-1.60253587 -1.37766373]\n",
      " [ 1.22242404  1.45655528]\n",
      " [ 0.17057727 -0.07453542]\n",
      " [ 0.87180845  0.80390854]\n",
      " [ 0.87180845  1.22457184]\n",
      " [ 0.37092904  0.06465464]\n",
      " [ 0.77163257  0.82246721]\n",
      " [ 0.97198434  1.68853872]\n",
      " [-1.61255346 -1.3742613 ]\n",
      " [ 0.72154463  0.51315596]\n",
      " [-1.53241275 -1.3742613 ]\n",
      " [ 0.17057727 -0.28177396]\n",
      " [ 0.5712808   0.76060496]\n",
      " [ 0.34087627  0.14198246]\n",
      " [ 1.12224816  1.54934866]\n",
      " [ 0.62136874  0.60594934]\n",
      " [-1.30200822 -1.34363949]\n",
      " [ 0.42101698  0.14198246]\n",
      " [-0.19005591 -0.65604058]\n",
      " [-1.75279969 -1.38384995]\n",
      " [ 0.47110492  0.45129371]\n",
      " [-1.68267658 -1.38137546]\n",
      " [ 0.62136874  0.48222484]\n",
      " [-1.67265899 -1.38292202]\n",
      " [ 0.77163257  0.76060496]\n",
      " [ 0.47110492  0.45129371]\n",
      " [ 0.77163257  0.83793278]\n",
      " [-1.43223687 -1.36683783]\n",
      " [ 0.27075315 -0.01267317]\n",
      " [ 0.47110492 -0.35291555]\n",
      " [-1.2318851  -1.34302087]\n",
      " [ 0.27075315 -0.19825992]\n",
      " [ 1.37268787  1.61121091]]\n"
     ]
    }
   ],
   "source": [
    "train_scaled = (train_input - mean) / std # 넘파이 배열 연산은 모든 행을 대상으로 계산됨\n",
    "print(train_scaled)"
   ]
  },
  {
   "cell_type": "code",
   "execution_count": 87,
   "id": "7ebbb1c7",
   "metadata": {},
   "outputs": [
    {
     "data": {
      "image/png": "[encoded data removed]",
      "text/plain": [
       "<Figure size 640x480 with 1 Axes>"
      ]
     },
     "metadata": {},
     "output_type": "display_data"
    }
   ],
   "source": [
    "# 표준 점수로 변환된 train_scaled를 시각화\n",
    "plt.scatter(train_scaled[:,0], train_scaled[:,1])\n",
    "plt.scatter(25, 150, marker='^')\n",
    "plt.xlabel('length')\n",
    "plt.ylabel('weight')\n",
    "plt.show()"
   ]
  },
  {
   "cell_type": "markdown",
   "id": "35012cd8",
   "metadata": {},
   "source": [
    "- 값의 범위가 달라져서 25, 150역시 스케일링 필요\n",
    "- 훈련세트의 mean, std값으로 스케일링해야 함"
   ]
  },
  {
   "cell_type": "code",
   "execution_count": 88,
   "id": "8926012c",
   "metadata": {},
   "outputs": [
    {
     "data": {
      "text/plain": [
       "array([-0.23012627, -0.94060693])"
      ]
     },
     "execution_count": 88,
     "metadata": {},
     "output_type": "execute_result"
    }
   ],
   "source": [
    "# [25, 150]를 훈련데이터셋의 스케일링과 동일하게 변경\n",
    "new = ([25, 150] - mean) / std\n",
    "new"
   ]
  },
  {
   "cell_type": "code",
   "execution_count": 89,
   "id": "b5918bbf",
   "metadata": {},
   "outputs": [
    {
     "data": {
      "image/png": "[encoded data removed]",
      "text/plain": [
       "<Figure size 640x480 with 1 Axes>"
      ]
     },
     "metadata": {},
     "output_type": "display_data"
    }
   ],
   "source": [
    "plt.scatter(train_scaled[:,0], train_scaled[:,1])\n",
    "plt.scatter(new[0], new[1], marker='^')\n",
    "plt.xlabel('length')\n",
    "plt.ylabel('weight')\n",
    "plt.show()"
   ]
  },
  {
   "cell_type": "markdown",
   "id": "b871eeb4",
   "metadata": {},
   "source": [
    "- 스케일링 하기 전과 형태가 거의 동일함.\n",
    "- 값의 크기만 일정하게 변환되었음"
   ]
  },
  {
   "cell_type": "markdown",
   "id": "6919fb24",
   "metadata": {},
   "source": [
    "### 다시 모델을 정의하여 테스트"
   ]
  },
  {
   "cell_type": "code",
   "execution_count": 90,
   "id": "3455ff2b",
   "metadata": {},
   "outputs": [
    {
     "data": {
      "text/plain": [
       "1.0"
      ]
     },
     "execution_count": 90,
     "metadata": {},
     "output_type": "execute_result"
    }
   ],
   "source": [
    "# KNeighborsClassifier 임포트하기\n",
    "from sklearn.neighbors import KNeighborsClassifier\n",
    "\n",
    "# KNeighborsClassifier 객체 생성\n",
    "kn = KNeighborsClassifier()\n",
    "\n",
    "# 학습하기\n",
    "kn.fit(train_scaled, train_target)\n",
    "\n",
    "# 모델 정확도 평가 점수 확인\n",
    "# 테스트 데이터(test_input)도 훈련데이터로 만든 기준으로 스케일링\n",
    "test_scaled = (test_input - mean) / std\n",
    "kn.score(test_scaled, test_target)"
   ]
  },
  {
   "cell_type": "code",
   "execution_count": 91,
   "id": "1b87345e",
   "metadata": {},
   "outputs": [
    {
     "name": "stdout",
     "output_type": "stream",
     "text": [
      "[1.]\n"
     ]
    }
   ],
   "source": [
    "# 25, 150을 스케일링한 값으로 예측 테스트\n",
    "print(kn.predict([new]))"
   ]
  },
  {
   "cell_type": "code",
   "execution_count": 92,
   "id": "e231ccd8",
   "metadata": {},
   "outputs": [
    {
     "data": {
      "image/png": "[encoded data removed]",
      "text/plain": [
       "<Figure size 640x480 with 1 Axes>"
      ]
     },
     "metadata": {},
     "output_type": "display_data"
    }
   ],
   "source": [
    "# 이웃 정보 확인하기\n",
    "distances, indexes = kn.kneighbors([new])\n",
    "plt.scatter(train_scaled[:,0], train_scaled[:,1])\n",
    "plt.scatter(new[0], new[1], marker='^')\n",
    "plt.scatter(train_scaled[indexes,0], train_scaled[indexes,1], marker='D')\n",
    "plt.xlabel('length')\n",
    "plt.ylabel('weight')\n",
    "plt.show()"
   ]
  },
  {
   "cell_type": "markdown",
   "id": "420b20fe",
   "metadata": {},
   "source": [
    "### 여기까지 정리하기"
   ]
  }
 ],
 "metadata": {
  "kernelspec": {
   "display_name": "Python 3 (ipykernel)",
   "language": "python",
   "name": "python3"
  },
  "language_info": {
   "codemirror_mode": {
    "name": "ipython",
    "version": 3
   },
   "file_extension": ".py",
   "mimetype": "text/x-python",
   "name": "python",
   "nbconvert_exporter": "python",
   "pygments_lexer": "ipython3",
   "version": "3.10.9"
  }
 },
 "nbformat": 4,
 "nbformat_minor": 5
}
