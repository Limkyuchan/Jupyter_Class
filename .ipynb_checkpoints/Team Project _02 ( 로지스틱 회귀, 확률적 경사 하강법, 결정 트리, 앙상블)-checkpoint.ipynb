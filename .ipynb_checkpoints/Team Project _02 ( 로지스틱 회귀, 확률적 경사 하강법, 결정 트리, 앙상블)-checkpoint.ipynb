{
 "cells": [
  {
   "cell_type": "markdown",
   "id": "24398762",
   "metadata": {},
   "source": [
    "<hr>"
   ]
  },
  {
   "cell_type": "code",
   "execution_count": 271,
   "id": "e0d56d11",
   "metadata": {},
   "outputs": [
    {
     "data": {
      "text/html": [
       "<div>\n",
       "<style scoped>\n",
       "    .dataframe tbody tr th:only-of-type {\n",
       "        vertical-align: middle;\n",
       "    }\n",
       "\n",
       "    .dataframe tbody tr th {\n",
       "        vertical-align: top;\n",
       "    }\n",
       "\n",
       "    .dataframe thead th {\n",
       "        text-align: right;\n",
       "    }\n",
       "</style>\n",
       "<table border=\"1\" class=\"dataframe\">\n",
       "  <thead>\n",
       "    <tr style=\"text-align: right;\">\n",
       "      <th></th>\n",
       "      <th>Person ID</th>\n",
       "      <th>Gender</th>\n",
       "      <th>Age</th>\n",
       "      <th>Occupation</th>\n",
       "      <th>Sleep Duration</th>\n",
       "      <th>Quality of Sleep</th>\n",
       "      <th>Physical Activity Level</th>\n",
       "      <th>Stress Level</th>\n",
       "      <th>BMI Category</th>\n",
       "      <th>Blood Pressure</th>\n",
       "      <th>Heart Rate</th>\n",
       "      <th>Daily Steps</th>\n",
       "      <th>Sleep Disorder</th>\n",
       "    </tr>\n",
       "  </thead>\n",
       "  <tbody>\n",
       "    <tr>\n",
       "      <th>0</th>\n",
       "      <td>1</td>\n",
       "      <td>Male</td>\n",
       "      <td>27</td>\n",
       "      <td>Software Engineer</td>\n",
       "      <td>6.1</td>\n",
       "      <td>6</td>\n",
       "      <td>42</td>\n",
       "      <td>6</td>\n",
       "      <td>Overweight</td>\n",
       "      <td>126/83</td>\n",
       "      <td>77</td>\n",
       "      <td>4200</td>\n",
       "      <td>None</td>\n",
       "    </tr>\n",
       "    <tr>\n",
       "      <th>1</th>\n",
       "      <td>2</td>\n",
       "      <td>Male</td>\n",
       "      <td>28</td>\n",
       "      <td>Doctor</td>\n",
       "      <td>6.2</td>\n",
       "      <td>6</td>\n",
       "      <td>60</td>\n",
       "      <td>8</td>\n",
       "      <td>Normal</td>\n",
       "      <td>125/80</td>\n",
       "      <td>75</td>\n",
       "      <td>10000</td>\n",
       "      <td>None</td>\n",
       "    </tr>\n",
       "    <tr>\n",
       "      <th>2</th>\n",
       "      <td>3</td>\n",
       "      <td>Male</td>\n",
       "      <td>28</td>\n",
       "      <td>Doctor</td>\n",
       "      <td>6.2</td>\n",
       "      <td>6</td>\n",
       "      <td>60</td>\n",
       "      <td>8</td>\n",
       "      <td>Normal</td>\n",
       "      <td>125/80</td>\n",
       "      <td>75</td>\n",
       "      <td>10000</td>\n",
       "      <td>None</td>\n",
       "    </tr>\n",
       "  </tbody>\n",
       "</table>\n",
       "</div>"
      ],
      "text/plain": [
       "   Person ID Gender  Age         Occupation  Sleep Duration  Quality of Sleep  \\\n",
       "0          1   Male   27  Software Engineer             6.1                 6   \n",
       "1          2   Male   28             Doctor             6.2                 6   \n",
       "2          3   Male   28             Doctor             6.2                 6   \n",
       "\n",
       "   Physical Activity Level  Stress Level BMI Category Blood Pressure  \\\n",
       "0                       42             6   Overweight         126/83   \n",
       "1                       60             8       Normal         125/80   \n",
       "2                       60             8       Normal         125/80   \n",
       "\n",
       "   Heart Rate  Daily Steps Sleep Disorder  \n",
       "0          77         4200           None  \n",
       "1          75        10000           None  \n",
       "2          75        10000           None  "
      ]
     },
     "execution_count": 271,
     "metadata": {},
     "output_type": "execute_result"
    }
   ],
   "source": [
    "import pandas as pd\n",
    "\n",
    "sleep = pd.read_csv(\"Sleep_health_and_lifestyle_dataset.csv\")\n",
    "\n",
    "sleep.head(3)"
   ]
  },
  {
   "cell_type": "markdown",
   "id": "ab3b4467",
   "metadata": {},
   "source": [
    "#### 성별(Gender) 숫자로 변환하기 (원 핫 인코딩)"
   ]
  },
  {
   "cell_type": "code",
   "execution_count": 272,
   "id": "b949ad39",
   "metadata": {},
   "outputs": [],
   "source": [
    "onehot_gender = pd.get_dummies(sleep['Gender'])\n",
    "sleep = pd.concat([sleep, onehot_gender], axis=1)\n",
    "\n",
    "sleep.drop(['Gender'], axis=1, inplace=True)"
   ]
  },
  {
   "cell_type": "code",
   "execution_count": 273,
   "id": "97aaa357",
   "metadata": {},
   "outputs": [
    {
     "data": {
      "text/html": [
       "<div>\n",
       "<style scoped>\n",
       "    .dataframe tbody tr th:only-of-type {\n",
       "        vertical-align: middle;\n",
       "    }\n",
       "\n",
       "    .dataframe tbody tr th {\n",
       "        vertical-align: top;\n",
       "    }\n",
       "\n",
       "    .dataframe thead th {\n",
       "        text-align: right;\n",
       "    }\n",
       "</style>\n",
       "<table border=\"1\" class=\"dataframe\">\n",
       "  <thead>\n",
       "    <tr style=\"text-align: right;\">\n",
       "      <th></th>\n",
       "      <th>Person ID</th>\n",
       "      <th>Age</th>\n",
       "      <th>Occupation</th>\n",
       "      <th>Sleep Duration</th>\n",
       "      <th>Quality of Sleep</th>\n",
       "      <th>Physical Activity Level</th>\n",
       "      <th>Stress Level</th>\n",
       "      <th>BMI Category</th>\n",
       "      <th>Blood Pressure</th>\n",
       "      <th>Heart Rate</th>\n",
       "      <th>Daily Steps</th>\n",
       "      <th>Sleep Disorder</th>\n",
       "      <th>Female</th>\n",
       "      <th>Male</th>\n",
       "    </tr>\n",
       "  </thead>\n",
       "  <tbody>\n",
       "    <tr>\n",
       "      <th>0</th>\n",
       "      <td>1</td>\n",
       "      <td>27</td>\n",
       "      <td>Software Engineer</td>\n",
       "      <td>6.1</td>\n",
       "      <td>6</td>\n",
       "      <td>42</td>\n",
       "      <td>6</td>\n",
       "      <td>Overweight</td>\n",
       "      <td>126/83</td>\n",
       "      <td>77</td>\n",
       "      <td>4200</td>\n",
       "      <td>None</td>\n",
       "      <td>0</td>\n",
       "      <td>1</td>\n",
       "    </tr>\n",
       "    <tr>\n",
       "      <th>1</th>\n",
       "      <td>2</td>\n",
       "      <td>28</td>\n",
       "      <td>Doctor</td>\n",
       "      <td>6.2</td>\n",
       "      <td>6</td>\n",
       "      <td>60</td>\n",
       "      <td>8</td>\n",
       "      <td>Normal</td>\n",
       "      <td>125/80</td>\n",
       "      <td>75</td>\n",
       "      <td>10000</td>\n",
       "      <td>None</td>\n",
       "      <td>0</td>\n",
       "      <td>1</td>\n",
       "    </tr>\n",
       "    <tr>\n",
       "      <th>2</th>\n",
       "      <td>3</td>\n",
       "      <td>28</td>\n",
       "      <td>Doctor</td>\n",
       "      <td>6.2</td>\n",
       "      <td>6</td>\n",
       "      <td>60</td>\n",
       "      <td>8</td>\n",
       "      <td>Normal</td>\n",
       "      <td>125/80</td>\n",
       "      <td>75</td>\n",
       "      <td>10000</td>\n",
       "      <td>None</td>\n",
       "      <td>0</td>\n",
       "      <td>1</td>\n",
       "    </tr>\n",
       "  </tbody>\n",
       "</table>\n",
       "</div>"
      ],
      "text/plain": [
       "   Person ID  Age         Occupation  Sleep Duration  Quality of Sleep  \\\n",
       "0          1   27  Software Engineer             6.1                 6   \n",
       "1          2   28             Doctor             6.2                 6   \n",
       "2          3   28             Doctor             6.2                 6   \n",
       "\n",
       "   Physical Activity Level  Stress Level BMI Category Blood Pressure  \\\n",
       "0                       42             6   Overweight         126/83   \n",
       "1                       60             8       Normal         125/80   \n",
       "2                       60             8       Normal         125/80   \n",
       "\n",
       "   Heart Rate  Daily Steps Sleep Disorder  Female  Male  \n",
       "0          77         4200           None       0     1  \n",
       "1          75        10000           None       0     1  \n",
       "2          75        10000           None       0     1  "
      ]
     },
     "execution_count": 273,
     "metadata": {},
     "output_type": "execute_result"
    }
   ],
   "source": [
    "sleep.head(3)"
   ]
  },
  {
   "cell_type": "markdown",
   "id": "61b2bb15",
   "metadata": {},
   "source": [
    "#### 사용하지 않을 Person ID, Occupation(직업) 열 제거"
   ]
  },
  {
   "cell_type": "code",
   "execution_count": 274,
   "id": "3d8acd0a",
   "metadata": {},
   "outputs": [],
   "source": [
    "sleep.drop(['Person ID','Occupation'], axis=1, inplace=True)       "
   ]
  },
  {
   "cell_type": "markdown",
   "id": "91e23830",
   "metadata": {},
   "source": [
    "##### BMI Category 수치를 숫자로 변경하기 "
   ]
  },
  {
   "cell_type": "code",
   "execution_count": 275,
   "id": "65a6f969",
   "metadata": {},
   "outputs": [
    {
     "data": {
      "text/plain": [
       "array(['Overweight', 'Normal', 'Obese', 'Normal Weight'], dtype=object)"
      ]
     },
     "execution_count": 275,
     "metadata": {},
     "output_type": "execute_result"
    }
   ],
   "source": [
    "sleep['BMI Category'].unique()"
   ]
  },
  {
   "cell_type": "code",
   "execution_count": 276,
   "id": "51db6b65",
   "metadata": {},
   "outputs": [],
   "source": [
    "onehot_bmi = pd.get_dummies(sleep['BMI Category'])\n",
    "sleep = pd.concat([sleep, onehot_bmi], axis=1)\n",
    "\n",
    "sleep.drop(['BMI Category'], axis=1, inplace=True)"
   ]
  },
  {
   "cell_type": "code",
   "execution_count": null,
   "id": "9cdb5a4e",
   "metadata": {},
   "outputs": [],
   "source": [
    "## 방법 2) 레이블 인코딩\n",
    "\n",
    "#from sklearn.preprocessing import LabelEncoder\n",
    "\n",
    "# encoder = LabelEncoder()\n",
    "# encoder.fit(sleep['BMI Category'])\n",
    "\n",
    "# sleep['BMI Category'] = encoder.transform(sleep['BMI Category'])\n",
    "\n",
    "# print(encoder.classes_)    \n",
    "\n",
    "## Normal : 0,  Normal Weight : 1,  Obese : 2 ,  Overweight :3\n",
    "\n",
    "\n",
    "\n",
    "\n",
    "## 방법 3) for문 사용해서 일일이 값 바꿔주는 방법\n",
    "\n",
    "# for i in range(len(sleep['BMI Category'])):\n",
    "#     if sleep['BMI Category'][i] == 'Overweight':\n",
    "#         sleep.loc[i, 'BMI Category'] = 0\n",
    "#     elif sleep['BMI Category'][i] == 'Normal':\n",
    "#         sleep.loc[i, 'BMI Category'] = 1\n",
    "#     elif sleep['BMI Category'][i] == 'Obese':\n",
    "#         sleep.loc[i, 'BMI Category'] = 2\n",
    "#     elif sleep['BMI Category'][i] == 'Normal Weight':\n",
    "#         sleep.loc[i, 'BMI Category'] = 3"
   ]
  },
  {
   "cell_type": "code",
   "execution_count": 277,
   "id": "a55ee47c",
   "metadata": {},
   "outputs": [
    {
     "data": {
      "text/html": [
       "<div>\n",
       "<style scoped>\n",
       "    .dataframe tbody tr th:only-of-type {\n",
       "        vertical-align: middle;\n",
       "    }\n",
       "\n",
       "    .dataframe tbody tr th {\n",
       "        vertical-align: top;\n",
       "    }\n",
       "\n",
       "    .dataframe thead th {\n",
       "        text-align: right;\n",
       "    }\n",
       "</style>\n",
       "<table border=\"1\" class=\"dataframe\">\n",
       "  <thead>\n",
       "    <tr style=\"text-align: right;\">\n",
       "      <th></th>\n",
       "      <th>Age</th>\n",
       "      <th>Sleep Duration</th>\n",
       "      <th>Quality of Sleep</th>\n",
       "      <th>Physical Activity Level</th>\n",
       "      <th>Stress Level</th>\n",
       "      <th>Blood Pressure</th>\n",
       "      <th>Heart Rate</th>\n",
       "      <th>Daily Steps</th>\n",
       "      <th>Sleep Disorder</th>\n",
       "      <th>Female</th>\n",
       "      <th>Male</th>\n",
       "      <th>Normal</th>\n",
       "      <th>Normal Weight</th>\n",
       "      <th>Obese</th>\n",
       "      <th>Overweight</th>\n",
       "    </tr>\n",
       "  </thead>\n",
       "  <tbody>\n",
       "    <tr>\n",
       "      <th>0</th>\n",
       "      <td>27</td>\n",
       "      <td>6.1</td>\n",
       "      <td>6</td>\n",
       "      <td>42</td>\n",
       "      <td>6</td>\n",
       "      <td>126/83</td>\n",
       "      <td>77</td>\n",
       "      <td>4200</td>\n",
       "      <td>None</td>\n",
       "      <td>0</td>\n",
       "      <td>1</td>\n",
       "      <td>0</td>\n",
       "      <td>0</td>\n",
       "      <td>0</td>\n",
       "      <td>1</td>\n",
       "    </tr>\n",
       "    <tr>\n",
       "      <th>1</th>\n",
       "      <td>28</td>\n",
       "      <td>6.2</td>\n",
       "      <td>6</td>\n",
       "      <td>60</td>\n",
       "      <td>8</td>\n",
       "      <td>125/80</td>\n",
       "      <td>75</td>\n",
       "      <td>10000</td>\n",
       "      <td>None</td>\n",
       "      <td>0</td>\n",
       "      <td>1</td>\n",
       "      <td>1</td>\n",
       "      <td>0</td>\n",
       "      <td>0</td>\n",
       "      <td>0</td>\n",
       "    </tr>\n",
       "    <tr>\n",
       "      <th>2</th>\n",
       "      <td>28</td>\n",
       "      <td>6.2</td>\n",
       "      <td>6</td>\n",
       "      <td>60</td>\n",
       "      <td>8</td>\n",
       "      <td>125/80</td>\n",
       "      <td>75</td>\n",
       "      <td>10000</td>\n",
       "      <td>None</td>\n",
       "      <td>0</td>\n",
       "      <td>1</td>\n",
       "      <td>1</td>\n",
       "      <td>0</td>\n",
       "      <td>0</td>\n",
       "      <td>0</td>\n",
       "    </tr>\n",
       "  </tbody>\n",
       "</table>\n",
       "</div>"
      ],
      "text/plain": [
       "   Age  Sleep Duration  Quality of Sleep  Physical Activity Level  \\\n",
       "0   27             6.1                 6                       42   \n",
       "1   28             6.2                 6                       60   \n",
       "2   28             6.2                 6                       60   \n",
       "\n",
       "   Stress Level Blood Pressure  Heart Rate  Daily Steps Sleep Disorder  \\\n",
       "0             6         126/83          77         4200           None   \n",
       "1             8         125/80          75        10000           None   \n",
       "2             8         125/80          75        10000           None   \n",
       "\n",
       "   Female  Male  Normal  Normal Weight  Obese  Overweight  \n",
       "0       0     1       0              0      0           1  \n",
       "1       0     1       1              0      0           0  \n",
       "2       0     1       1              0      0           0  "
      ]
     },
     "execution_count": 277,
     "metadata": {},
     "output_type": "execute_result"
    }
   ],
   "source": [
    "sleep.head(3)"
   ]
  },
  {
   "cell_type": "markdown",
   "id": "bb1d2d0f",
   "metadata": {},
   "source": [
    "#### Blodd Pressure 혈압에서 수축기 자료만 가져오기"
   ]
  },
  {
   "cell_type": "code",
   "execution_count": 278,
   "id": "a6737977",
   "metadata": {},
   "outputs": [],
   "source": [
    "for i in range(len(sleep['Blood Pressure'])):\n",
    "    sleep.loc[i, 'Blood Pressure'] = sleep['Blood Pressure'][i].split('/')[0]"
   ]
  },
  {
   "cell_type": "code",
   "execution_count": 279,
   "id": "feb2c686",
   "metadata": {},
   "outputs": [],
   "source": [
    "sleep['Blood Pressure'] = sleep['Blood Pressure'].astype('int')"
   ]
  },
  {
   "cell_type": "code",
   "execution_count": 280,
   "id": "04269108",
   "metadata": {},
   "outputs": [
    {
     "data": {
      "text/html": [
       "<div>\n",
       "<style scoped>\n",
       "    .dataframe tbody tr th:only-of-type {\n",
       "        vertical-align: middle;\n",
       "    }\n",
       "\n",
       "    .dataframe tbody tr th {\n",
       "        vertical-align: top;\n",
       "    }\n",
       "\n",
       "    .dataframe thead th {\n",
       "        text-align: right;\n",
       "    }\n",
       "</style>\n",
       "<table border=\"1\" class=\"dataframe\">\n",
       "  <thead>\n",
       "    <tr style=\"text-align: right;\">\n",
       "      <th></th>\n",
       "      <th>Age</th>\n",
       "      <th>Sleep Duration</th>\n",
       "      <th>Quality of Sleep</th>\n",
       "      <th>Physical Activity Level</th>\n",
       "      <th>Stress Level</th>\n",
       "      <th>Blood Pressure</th>\n",
       "      <th>Heart Rate</th>\n",
       "      <th>Daily Steps</th>\n",
       "      <th>Sleep Disorder</th>\n",
       "      <th>Female</th>\n",
       "      <th>Male</th>\n",
       "      <th>Normal</th>\n",
       "      <th>Normal Weight</th>\n",
       "      <th>Obese</th>\n",
       "      <th>Overweight</th>\n",
       "    </tr>\n",
       "  </thead>\n",
       "  <tbody>\n",
       "    <tr>\n",
       "      <th>0</th>\n",
       "      <td>27</td>\n",
       "      <td>6.1</td>\n",
       "      <td>6</td>\n",
       "      <td>42</td>\n",
       "      <td>6</td>\n",
       "      <td>126</td>\n",
       "      <td>77</td>\n",
       "      <td>4200</td>\n",
       "      <td>None</td>\n",
       "      <td>0</td>\n",
       "      <td>1</td>\n",
       "      <td>0</td>\n",
       "      <td>0</td>\n",
       "      <td>0</td>\n",
       "      <td>1</td>\n",
       "    </tr>\n",
       "    <tr>\n",
       "      <th>1</th>\n",
       "      <td>28</td>\n",
       "      <td>6.2</td>\n",
       "      <td>6</td>\n",
       "      <td>60</td>\n",
       "      <td>8</td>\n",
       "      <td>125</td>\n",
       "      <td>75</td>\n",
       "      <td>10000</td>\n",
       "      <td>None</td>\n",
       "      <td>0</td>\n",
       "      <td>1</td>\n",
       "      <td>1</td>\n",
       "      <td>0</td>\n",
       "      <td>0</td>\n",
       "      <td>0</td>\n",
       "    </tr>\n",
       "    <tr>\n",
       "      <th>2</th>\n",
       "      <td>28</td>\n",
       "      <td>6.2</td>\n",
       "      <td>6</td>\n",
       "      <td>60</td>\n",
       "      <td>8</td>\n",
       "      <td>125</td>\n",
       "      <td>75</td>\n",
       "      <td>10000</td>\n",
       "      <td>None</td>\n",
       "      <td>0</td>\n",
       "      <td>1</td>\n",
       "      <td>1</td>\n",
       "      <td>0</td>\n",
       "      <td>0</td>\n",
       "      <td>0</td>\n",
       "    </tr>\n",
       "  </tbody>\n",
       "</table>\n",
       "</div>"
      ],
      "text/plain": [
       "   Age  Sleep Duration  Quality of Sleep  Physical Activity Level  \\\n",
       "0   27             6.1                 6                       42   \n",
       "1   28             6.2                 6                       60   \n",
       "2   28             6.2                 6                       60   \n",
       "\n",
       "   Stress Level  Blood Pressure  Heart Rate  Daily Steps Sleep Disorder  \\\n",
       "0             6             126          77         4200           None   \n",
       "1             8             125          75        10000           None   \n",
       "2             8             125          75        10000           None   \n",
       "\n",
       "   Female  Male  Normal  Normal Weight  Obese  Overweight  \n",
       "0       0     1       0              0      0           1  \n",
       "1       0     1       1              0      0           0  \n",
       "2       0     1       1              0      0           0  "
      ]
     },
     "execution_count": 280,
     "metadata": {},
     "output_type": "execute_result"
    }
   ],
   "source": [
    "sleep.head(3)"
   ]
  },
  {
   "cell_type": "markdown",
   "id": "591d8184",
   "metadata": {},
   "source": [
    "##### Sleep Disorder 값 숫자로 변경하기 (레이블 인코딩)"
   ]
  },
  {
   "cell_type": "code",
   "execution_count": 281,
   "id": "dab7538b",
   "metadata": {},
   "outputs": [
    {
     "data": {
      "text/plain": [
       "array(['None', 'Sleep Apnea', 'Insomnia'], dtype=object)"
      ]
     },
     "execution_count": 281,
     "metadata": {},
     "output_type": "execute_result"
    }
   ],
   "source": [
    "sleep['Sleep Disorder'].unique()"
   ]
  },
  {
   "cell_type": "code",
   "execution_count": 282,
   "id": "8f9cdb91",
   "metadata": {},
   "outputs": [
    {
     "name": "stdout",
     "output_type": "stream",
     "text": [
      "['Insomnia' 'None' 'Sleep Apnea']\n"
     ]
    }
   ],
   "source": [
    "from sklearn.preprocessing import LabelEncoder\n",
    "\n",
    "encoder = LabelEncoder()\n",
    "encoder.fit(sleep['Sleep Disorder'])\n",
    "\n",
    "sleep['Sleep Disorder'] = encoder.transform(sleep['Sleep Disorder'])\n",
    "\n",
    "print(encoder.classes_)               \n",
    "\n",
    "# Insomnia : 0,  None : 1,  Sleep Apnea : 2"
   ]
  },
  {
   "cell_type": "code",
   "execution_count": 283,
   "id": "865a605b",
   "metadata": {},
   "outputs": [
    {
     "data": {
      "text/html": [
       "<div>\n",
       "<style scoped>\n",
       "    .dataframe tbody tr th:only-of-type {\n",
       "        vertical-align: middle;\n",
       "    }\n",
       "\n",
       "    .dataframe tbody tr th {\n",
       "        vertical-align: top;\n",
       "    }\n",
       "\n",
       "    .dataframe thead th {\n",
       "        text-align: right;\n",
       "    }\n",
       "</style>\n",
       "<table border=\"1\" class=\"dataframe\">\n",
       "  <thead>\n",
       "    <tr style=\"text-align: right;\">\n",
       "      <th></th>\n",
       "      <th>Age</th>\n",
       "      <th>Sleep Duration</th>\n",
       "      <th>Quality of Sleep</th>\n",
       "      <th>Physical Activity Level</th>\n",
       "      <th>Stress Level</th>\n",
       "      <th>Blood Pressure</th>\n",
       "      <th>Heart Rate</th>\n",
       "      <th>Daily Steps</th>\n",
       "      <th>Sleep Disorder</th>\n",
       "      <th>Female</th>\n",
       "      <th>Male</th>\n",
       "      <th>Normal</th>\n",
       "      <th>Normal Weight</th>\n",
       "      <th>Obese</th>\n",
       "      <th>Overweight</th>\n",
       "    </tr>\n",
       "  </thead>\n",
       "  <tbody>\n",
       "    <tr>\n",
       "      <th>0</th>\n",
       "      <td>27</td>\n",
       "      <td>6.1</td>\n",
       "      <td>6</td>\n",
       "      <td>42</td>\n",
       "      <td>6</td>\n",
       "      <td>126</td>\n",
       "      <td>77</td>\n",
       "      <td>4200</td>\n",
       "      <td>1</td>\n",
       "      <td>0</td>\n",
       "      <td>1</td>\n",
       "      <td>0</td>\n",
       "      <td>0</td>\n",
       "      <td>0</td>\n",
       "      <td>1</td>\n",
       "    </tr>\n",
       "    <tr>\n",
       "      <th>1</th>\n",
       "      <td>28</td>\n",
       "      <td>6.2</td>\n",
       "      <td>6</td>\n",
       "      <td>60</td>\n",
       "      <td>8</td>\n",
       "      <td>125</td>\n",
       "      <td>75</td>\n",
       "      <td>10000</td>\n",
       "      <td>1</td>\n",
       "      <td>0</td>\n",
       "      <td>1</td>\n",
       "      <td>1</td>\n",
       "      <td>0</td>\n",
       "      <td>0</td>\n",
       "      <td>0</td>\n",
       "    </tr>\n",
       "    <tr>\n",
       "      <th>2</th>\n",
       "      <td>28</td>\n",
       "      <td>6.2</td>\n",
       "      <td>6</td>\n",
       "      <td>60</td>\n",
       "      <td>8</td>\n",
       "      <td>125</td>\n",
       "      <td>75</td>\n",
       "      <td>10000</td>\n",
       "      <td>1</td>\n",
       "      <td>0</td>\n",
       "      <td>1</td>\n",
       "      <td>1</td>\n",
       "      <td>0</td>\n",
       "      <td>0</td>\n",
       "      <td>0</td>\n",
       "    </tr>\n",
       "  </tbody>\n",
       "</table>\n",
       "</div>"
      ],
      "text/plain": [
       "   Age  Sleep Duration  Quality of Sleep  Physical Activity Level  \\\n",
       "0   27             6.1                 6                       42   \n",
       "1   28             6.2                 6                       60   \n",
       "2   28             6.2                 6                       60   \n",
       "\n",
       "   Stress Level  Blood Pressure  Heart Rate  Daily Steps  Sleep Disorder  \\\n",
       "0             6             126          77         4200               1   \n",
       "1             8             125          75        10000               1   \n",
       "2             8             125          75        10000               1   \n",
       "\n",
       "   Female  Male  Normal  Normal Weight  Obese  Overweight  \n",
       "0       0     1       0              0      0           1  \n",
       "1       0     1       1              0      0           0  \n",
       "2       0     1       1              0      0           0  "
      ]
     },
     "execution_count": 283,
     "metadata": {},
     "output_type": "execute_result"
    }
   ],
   "source": [
    "sleep.head(3)"
   ]
  },
  {
   "cell_type": "code",
   "execution_count": 284,
   "id": "6f3f3435",
   "metadata": {},
   "outputs": [
    {
     "name": "stdout",
     "output_type": "stream",
     "text": [
      "<class 'pandas.core.frame.DataFrame'>\n",
      "RangeIndex: 374 entries, 0 to 373\n",
      "Data columns (total 15 columns):\n",
      " #   Column                   Non-Null Count  Dtype  \n",
      "---  ------                   --------------  -----  \n",
      " 0   Age                      374 non-null    int64  \n",
      " 1   Sleep Duration           374 non-null    float64\n",
      " 2   Quality of Sleep         374 non-null    int64  \n",
      " 3   Physical Activity Level  374 non-null    int64  \n",
      " 4   Stress Level             374 non-null    int64  \n",
      " 5   Blood Pressure           374 non-null    int32  \n",
      " 6   Heart Rate               374 non-null    int64  \n",
      " 7   Daily Steps              374 non-null    int64  \n",
      " 8   Sleep Disorder           374 non-null    int32  \n",
      " 9   Female                   374 non-null    uint8  \n",
      " 10  Male                     374 non-null    uint8  \n",
      " 11  Normal                   374 non-null    uint8  \n",
      " 12  Normal Weight            374 non-null    uint8  \n",
      " 13  Obese                    374 non-null    uint8  \n",
      " 14  Overweight               374 non-null    uint8  \n",
      "dtypes: float64(1), int32(2), int64(6), uint8(6)\n",
      "memory usage: 25.7 KB\n"
     ]
    }
   ],
   "source": [
    "sleep.info()"
   ]
  },
  {
   "cell_type": "markdown",
   "id": "1c31180d",
   "metadata": {},
   "source": [
    "<hr>"
   ]
  },
  {
   "cell_type": "markdown",
   "id": "40038a91",
   "metadata": {},
   "source": [
    "#### 훈련 데이터와 테스트 데이터 나누기 (비율 7 : 3)"
   ]
  },
  {
   "cell_type": "code",
   "execution_count": 285,
   "id": "88368fc2",
   "metadata": {},
   "outputs": [],
   "source": [
    "from sklearn.model_selection import train_test_split\n",
    "\n",
    "X = sleep[['Age', 'Sleep Duration', 'Quality of Sleep', 'Physical Activity Level', \n",
    "           'Stress Level','Blood Pressure', 'Heart Rate', 'Daily Steps', 'Female', 'Male', \n",
    "           'Normal', 'Normal Weight', 'Obese', 'Overweight' ]].to_numpy()\n",
    "y = sleep['Sleep Disorder'].to_numpy()\n",
    "\n",
    "X_train, X_test, y_train, y_test = train_test_split(X, y, test_size=0.3, random_state=42)                "
   ]
  },
  {
   "cell_type": "code",
   "execution_count": 286,
   "id": "b9eca42c",
   "metadata": {},
   "outputs": [
    {
     "data": {
      "text/plain": [
       "((261, 14), (113, 14))"
      ]
     },
     "execution_count": 286,
     "metadata": {},
     "output_type": "execute_result"
    }
   ],
   "source": [
    "X_train.shape, X_test.shape"
   ]
  },
  {
   "cell_type": "code",
   "execution_count": 287,
   "id": "d37a4b16",
   "metadata": {},
   "outputs": [
    {
     "data": {
      "text/plain": [
       "((261,), (113,))"
      ]
     },
     "execution_count": 287,
     "metadata": {},
     "output_type": "execute_result"
    }
   ],
   "source": [
    "y_train.shape, y_test.shape"
   ]
  },
  {
   "cell_type": "markdown",
   "id": "8dfc8c74",
   "metadata": {},
   "source": [
    "<hr>"
   ]
  },
  {
   "cell_type": "markdown",
   "id": "b01af5cb",
   "metadata": {},
   "source": [
    "## 로지스틱 회귀 ( Scale X )\n",
    "\n",
    "#### 훈련 데이터 7 : 3 테스트 데이터"
   ]
  },
  {
   "cell_type": "code",
   "execution_count": 288,
   "id": "718699cf",
   "metadata": {},
   "outputs": [
    {
     "name": "stdout",
     "output_type": "stream",
     "text": [
      "0.9042145593869731\n",
      "0.9026548672566371\n"
     ]
    },
    {
     "name": "stderr",
     "output_type": "stream",
     "text": [
      "C:\\Users\\denni\\anaconda3\\lib\\site-packages\\sklearn\\linear_model\\_logistic.py:458: ConvergenceWarning: lbfgs failed to converge (status=1):\n",
      "STOP: TOTAL NO. of ITERATIONS REACHED LIMIT.\n",
      "\n",
      "Increase the number of iterations (max_iter) or scale the data as shown in:\n",
      "    https://scikit-learn.org/stable/modules/preprocessing.html\n",
      "Please also refer to the documentation for alternative solver options:\n",
      "    https://scikit-learn.org/stable/modules/linear_model.html#logistic-regression\n",
      "  n_iter_i = _check_optimize_result(\n"
     ]
    }
   ],
   "source": [
    "from sklearn.linear_model import LogisticRegression\n",
    "\n",
    "lr = LogisticRegression(C=20, max_iter=1000)\n",
    "lr.fit(X_train, y_train)\n",
    "\n",
    "print(lr.score(X_train, y_train))\n",
    "print(lr.score(X_test, y_test))"
   ]
  },
  {
   "cell_type": "markdown",
   "id": "8160f1d0",
   "metadata": {},
   "source": [
    "## 로지스틱 회귀 ( Scale O )\n",
    "\n",
    "#### 훈련 데이터 7 : 3 테스트 데이터"
   ]
  },
  {
   "cell_type": "code",
   "execution_count": 289,
   "id": "ea5851e5",
   "metadata": {},
   "outputs": [],
   "source": [
    "from sklearn.preprocessing import StandardScaler\n",
    "\n",
    "ss = StandardScaler()\n",
    "ss.fit(X_train)\n",
    "\n",
    "X_train_scaled = ss.transform(X_train)\n",
    "X_test_scaled = ss.transform(X_test)"
   ]
  },
  {
   "cell_type": "code",
   "execution_count": 290,
   "id": "95e3a0f3",
   "metadata": {},
   "outputs": [
    {
     "data": {
      "text/plain": [
       "array([[-1.46257142,  0.58666288, -0.29170765,  0.70030655,  0.38031356,\n",
       "        -1.07030278, -0.03809277,  0.68679947, -1.04307238,  1.04307238,\n",
       "         0.96609178, -0.25555063, -0.153393  , -0.81389212],\n",
       "       [ 1.86095841,  1.10005438,  1.41920689,  0.70030655, -1.33109746,\n",
       "         1.46923381, -0.52307881,  0.06867995,  0.95870624, -0.95870624,\n",
       "        -1.03509834, -0.25555063, -0.153393  ,  1.22866406],\n",
       "       [-1.10647894, -1.46690309, -1.14716493, -1.46590373,  1.52125424,\n",
       "        -0.43541863,  0.44689326, -1.1675591 , -1.04307238,  1.04307238,\n",
       "         0.96609178, -0.25555063, -0.153393  , -0.81389212]])"
      ]
     },
     "execution_count": 290,
     "metadata": {},
     "output_type": "execute_result"
    }
   ],
   "source": [
    "X_train_scaled[:3]"
   ]
  },
  {
   "cell_type": "code",
   "execution_count": 291,
   "id": "51598f0a",
   "metadata": {},
   "outputs": [
    {
     "name": "stdout",
     "output_type": "stream",
     "text": [
      "0.9272030651340997\n",
      "0.911504424778761\n"
     ]
    }
   ],
   "source": [
    "from sklearn.linear_model import LogisticRegression\n",
    "\n",
    "lr2 = LogisticRegression(C=20, max_iter=1000)\n",
    "lr2.fit(X_train_scaled, y_train)\n",
    "\n",
    "print(lr2.score(X_train_scaled, y_train))\n",
    "print(lr2.score(X_test_scaled, y_test))"
   ]
  },
  {
   "cell_type": "markdown",
   "id": "2f8bd9a7",
   "metadata": {},
   "source": [
    "### 로지스틱 회귀 결과\n",
    "\n",
    "- Scale 하지 않았을 때 <br>\n",
    "    훈련데이터 점수: 0.9042145593869731 <br>\n",
    "    테스트데이터 점수: 0.9026548672566371 <br>\n",
    "- Scale 했을 때\n",
    "    훈련데이터 점수: 0.9272030651340997 <br>\n",
    "    테스트데이터 점수: 0.911504424778761 <br>\n",
    "<br>\n",
    "- 스케일 진행 후 테스트를 했을 때 검사 결과가 더 좋음을 확인할 수 있음"
   ]
  },
  {
   "cell_type": "markdown",
   "id": "53755464",
   "metadata": {},
   "source": [
    "<hr>"
   ]
  },
  {
   "cell_type": "markdown",
   "id": "b2290d0f",
   "metadata": {},
   "source": [
    "## 확률적 경사 하강법"
   ]
  },
  {
   "cell_type": "code",
   "execution_count": 292,
   "id": "4773149c",
   "metadata": {},
   "outputs": [],
   "source": [
    "from sklearn.preprocessing import StandardScaler\n",
    "\n",
    "ss = StandardScaler()\n",
    "ss.fit(X_train)\n",
    "\n",
    "X_train_scaled = ss.transform(X_train)\n",
    "X_test_scaled = ss.transform(X_test)"
   ]
  },
  {
   "cell_type": "code",
   "execution_count": 293,
   "id": "b5f392f5",
   "metadata": {},
   "outputs": [
    {
     "name": "stdout",
     "output_type": "stream",
     "text": [
      "10번 반복하여 경사 내려온 결과\n",
      "0.9080459770114943\n",
      "0.911504424778761\n"
     ]
    },
    {
     "name": "stderr",
     "output_type": "stream",
     "text": [
      "C:\\Users\\denni\\anaconda3\\lib\\site-packages\\sklearn\\linear_model\\_stochastic_gradient.py:163: FutureWarning: The loss 'log' was deprecated in v1.1 and will be removed in version 1.3. Use `loss='log_loss'` which is equivalent.\n",
      "  warnings.warn(\n",
      "C:\\Users\\denni\\anaconda3\\lib\\site-packages\\sklearn\\linear_model\\_stochastic_gradient.py:702: ConvergenceWarning: Maximum number of iteration reached before convergence. Consider increasing max_iter to improve the fit.\n",
      "  warnings.warn(\n"
     ]
    }
   ],
   "source": [
    "from sklearn.linear_model import SGDClassifier\n",
    "\n",
    "sc = SGDClassifier(loss='log', max_iter=10, random_state=42)\n",
    "sc.fit(X_train_scaled, y_train)\n",
    "\n",
    "print(\"10번 반복하여 경사 내려온 결과\")                                                                   \n",
    "print(sc.score(X_train_scaled, y_train))\n",
    "print(sc.score(X_test_scaled, y_test))"
   ]
  },
  {
   "cell_type": "code",
   "execution_count": 294,
   "id": "e16982e2",
   "metadata": {},
   "outputs": [
    {
     "name": "stdout",
     "output_type": "stream",
     "text": [
      "추가 학습 진행 결과\n",
      "0.9118773946360154\n",
      "0.9026548672566371\n"
     ]
    }
   ],
   "source": [
    "sc.partial_fit(X_train_scaled, y_train) \n",
    "\n",
    "print(\"추가 학습 진행 결과\")\n",
    "print(sc.score(X_train_scaled, y_train))\n",
    "print(sc.score(X_test_scaled, y_test))"
   ]
  },
  {
   "cell_type": "markdown",
   "id": "fad55ac5",
   "metadata": {},
   "source": [
    "### 적정한 에포크 값 찾기"
   ]
  },
  {
   "cell_type": "code",
   "execution_count": 295,
   "id": "b2754037",
   "metadata": {},
   "outputs": [
    {
     "data": {
      "text/plain": [
       "array([0, 1, 2])"
      ]
     },
     "execution_count": 295,
     "metadata": {},
     "output_type": "execute_result"
    }
   ],
   "source": [
    "from sklearn.linear_model import SGDClassifier\n",
    "import numpy as np\n",
    "\n",
    "sc = SGDClassifier(loss='log_loss', random_state=42)\n",
    "\n",
    "train_score = []\n",
    "test_score = []\n",
    "\n",
    "classes = np.unique(y_train)\n",
    "classes"
   ]
  },
  {
   "cell_type": "code",
   "execution_count": 296,
   "id": "a4b599cc",
   "metadata": {},
   "outputs": [],
   "source": [
    "for _ in range(0, 300):\n",
    "    sc.partial_fit(X_train_scaled, y_train, classes=classes)\n",
    "    \n",
    "    train_score.append(sc.score(X_train_scaled, y_train))\n",
    "    test_score.append(sc.score(X_test_scaled, y_test))"
   ]
  },
  {
   "cell_type": "code",
   "execution_count": 297,
   "id": "7e289faa",
   "metadata": {},
   "outputs": [
    {
     "data": {
      "image/png": "[encoded data removed]",
      "text/plain": [
       "<Figure size 640x480 with 1 Axes>"
      ]
     },
     "metadata": {},
     "output_type": "display_data"
    }
   ],
   "source": [
    "import matplotlib.pyplot as plt\n",
    "\n",
    "plt.plot(train_score)\n",
    "plt.plot(test_score)\n",
    "plt.xlabel('epoch')\n",
    "plt.ylabel('accuracy')\n",
    "plt.show()    "
   ]
  },
  {
   "cell_type": "code",
   "execution_count": 300,
   "id": "612d66b1",
   "metadata": {},
   "outputs": [
    {
     "name": "stdout",
     "output_type": "stream",
     "text": [
      "0.8659003831417624\n",
      "0.8849557522123894\n"
     ]
    }
   ],
   "source": [
    "from sklearn.linear_model import SGDClassifier\n",
    "\n",
    "sc = SGDClassifier(loss='log_loss', max_iter=150, random_state=42)\n",
    "sc.fit(X_train_scaled, y_train)\n",
    "\n",
    "print(sc.score(X_train_scaled, y_train))\n",
    "print(sc.score(X_test_scaled, y_test))"
   ]
  },
  {
   "cell_type": "markdown",
   "id": "35cf0130",
   "metadata": {},
   "source": [
    "### 확률적 경사 하강법 결과\n",
    "\n",
    "- 10번 반복 결과 <br>\n",
    "    훈련데이터 점수: 0.9080459770114943 <br>\n",
    "    테스트데이터 점수: 0.911504424778761 <br><br>   \n",
    "\n",
    "- 추가 학습 결과 (partial_fit) <br>\n",
    "    훈련데이터 점수: 0.9118773946360154 <br>\n",
    "    테스트데이터 점수: 0.9026548672566371 <br><br>   \n",
    "\n",
    "- 150회 반복 실행 시 결과. <br>\n",
    "    훈련데이터 점수: 0.8659003831417624 <br>\n",
    "    테스트데이터 점수: 0.8849557522123894 <br>  "
   ]
  },
  {
   "cell_type": "markdown",
   "id": "bfb14240",
   "metadata": {},
   "source": [
    "<hr>"
   ]
  },
  {
   "cell_type": "markdown",
   "id": "6099e4f3",
   "metadata": {},
   "source": [
    "## 결정트리"
   ]
  },
  {
   "cell_type": "code",
   "execution_count": 301,
   "id": "56e7acf6",
   "metadata": {},
   "outputs": [
    {
     "name": "stdout",
     "output_type": "stream",
     "text": [
      "0.9348659003831418\n",
      "0.8584070796460177\n"
     ]
    }
   ],
   "source": [
    "from sklearn.tree import DecisionTreeClassifier\n",
    "\n",
    "dt = DecisionTreeClassifier(random_state=42)\n",
    "dt.fit(X_train_scaled, y_train)\n",
    "\n",
    "print(dt.score(X_train_scaled, y_train))         \n",
    "print(dt.score(X_test_scaled, y_test))"
   ]
  },
  {
   "cell_type": "code",
   "execution_count": 302,
   "id": "6f5df85d",
   "metadata": {},
   "outputs": [
    {
     "name": "stdout",
     "output_type": "stream",
     "text": [
      "0.9348659003831418\n",
      "0.8938053097345132\n"
     ]
    },
    {
     "data": {
      "image/png": "[encoded data removed]",
      "text/plain": [
       "<Figure size 2000x1500 with 1 Axes>"
      ]
     },
     "metadata": {},
     "output_type": "display_data"
    }
   ],
   "source": [
    "from sklearn.tree import DecisionTreeClassifier\n",
    "\n",
    "dt = DecisionTreeClassifier(max_depth=5, min_impurity_decrease=0.0005, random_state=42)\n",
    "dt.fit(X_train, y_train)\n",
    "\n",
    "print(dt.score(X_train, y_train))\n",
    "print(dt.score(X_test, y_test))\n",
    "\n",
    "import matplotlib.pyplot as plt\n",
    "from sklearn.tree import plot_tree\n",
    "\n",
    "plt.figure(figsize=(20,15))\n",
    "plot_tree(dt, filled=True, feature_names=['Male', 'Female', 'Age', 'Sleep Duration', 'Quality of Sleep', 'Physical Activity Level', \n",
    "           'Stress Level', 'Normal','Normal Weight','Obese','Overweight', 'Blood Pressure', 'Heart Rate', 'Daily Steps'])\n",
    "plt.show()"
   ]
  },
  {
   "cell_type": "code",
   "execution_count": 304,
   "id": "14adeb97",
   "metadata": {},
   "outputs": [
    {
     "data": {
      "text/plain": [
       "array([0.00538613, 0.013264  , 0.        , 0.        , 0.        ,\n",
       "       0.35463112, 0.16149753, 0.00151845, 0.01921782, 0.        ,\n",
       "       0.        , 0.        , 0.        , 0.44448495])"
      ]
     },
     "execution_count": 304,
     "metadata": {},
     "output_type": "execute_result"
    }
   ],
   "source": [
    "dt.feature_importances_             # 특성 중요도"
   ]
  },
  {
   "cell_type": "markdown",
   "id": "27f3ee79",
   "metadata": {},
   "source": [
    "#### 교차 검증 진행"
   ]
  },
  {
   "cell_type": "code",
   "execution_count": 305,
   "id": "de32a44c",
   "metadata": {},
   "outputs": [
    {
     "data": {
      "text/plain": [
       "{'fit_time': array([0.00301242, 0.00395179, 0.00300145, 0.00505948, 0.00401402,\n",
       "        0.00300002, 0.00199962, 0.00302052, 0.00200343, 0.00199866]),\n",
       " 'score_time': array([0.00106239, 0.00100517, 0.00099564, 0.00096297, 0.00299859,\n",
       "        0.0009923 , 0.00100112, 0.0010004 , 0.00099778, 0.00100255]),\n",
       " 'test_score': array([0.92592593, 0.96153846, 0.76923077, 0.76923077, 0.96153846,\n",
       "        0.92307692, 0.84615385, 0.84615385, 0.88461538, 0.96153846]),\n",
       " 'train_score': array([0.93162393, 0.93191489, 0.94468085, 0.94468085, 0.93191489,\n",
       "        0.93617021, 0.94468085, 0.94042553, 0.94042553, 0.93191489])}"
      ]
     },
     "execution_count": 305,
     "metadata": {},
     "output_type": "execute_result"
    }
   ],
   "source": [
    "from sklearn.tree import DecisionTreeClassifier\n",
    "from sklearn.model_selection import cross_validate \n",
    "from sklearn.model_selection import StratifiedKFold\n",
    "import numpy as np\n",
    "\n",
    "dt = DecisionTreeClassifier(random_state=42)\n",
    "\n",
    "splitter = StratifiedKFold(n_splits=10, shuffle=True, random_state=42)\n",
    "\n",
    "scores = cross_validate(dt, X_train, y_train, return_train_score=True, cv=splitter)\n",
    "scores                     "
   ]
  },
  {
   "cell_type": "code",
   "execution_count": 306,
   "id": "c236b414",
   "metadata": {},
   "outputs": [
    {
     "name": "stdout",
     "output_type": "stream",
     "text": [
      "10번 진행한 결과의 평균 값\n",
      "0.9378432442262229\n",
      "0.8849002849002849\n"
     ]
    }
   ],
   "source": [
    "print(\"10번 진행한 결과의 평균 값\")\n",
    "print(np.mean(scores['train_score']))\n",
    "print(np.mean(scores['test_score']))                       "
   ]
  },
  {
   "cell_type": "markdown",
   "id": "f7779f8c",
   "metadata": {},
   "source": [
    "#### 그리드 서치"
   ]
  },
  {
   "cell_type": "code",
   "execution_count": 307,
   "id": "9dea4b80",
   "metadata": {},
   "outputs": [
    {
     "data": {
      "text/html": [
       "<style>#sk-container-id-7 {color: black;background-color: white;}#sk-container-id-7 pre{padding: 0;}#sk-container-id-7 div.sk-toggleable {background-color: white;}#sk-container-id-7 label.sk-toggleable__label {cursor: pointer;display: block;width: 100%;margin-bottom: 0;padding: 0.3em;box-sizing: border-box;text-align: center;}#sk-container-id-7 label.sk-toggleable__label-arrow:before {content: \"▸\";float: left;margin-right: 0.25em;color: #696969;}#sk-container-id-7 label.sk-toggleable__label-arrow:hover:before {color: black;}#sk-container-id-7 div.sk-estimator:hover label.sk-toggleable__label-arrow:before {color: black;}#sk-container-id-7 div.sk-toggleable__content {max-height: 0;max-width: 0;overflow: hidden;text-align: left;background-color: #f0f8ff;}#sk-container-id-7 div.sk-toggleable__content pre {margin: 0.2em;color: black;border-radius: 0.25em;background-color: #f0f8ff;}#sk-container-id-7 input.sk-toggleable__control:checked~div.sk-toggleable__content {max-height: 200px;max-width: 100%;overflow: auto;}#sk-container-id-7 input.sk-toggleable__control:checked~label.sk-toggleable__label-arrow:before {content: \"▾\";}#sk-container-id-7 div.sk-estimator input.sk-toggleable__control:checked~label.sk-toggleable__label {background-color: #d4ebff;}#sk-container-id-7 div.sk-label input.sk-toggleable__control:checked~label.sk-toggleable__label {background-color: #d4ebff;}#sk-container-id-7 input.sk-hidden--visually {border: 0;clip: rect(1px 1px 1px 1px);clip: rect(1px, 1px, 1px, 1px);height: 1px;margin: -1px;overflow: hidden;padding: 0;position: absolute;width: 1px;}#sk-container-id-7 div.sk-estimator {font-family: monospace;background-color: #f0f8ff;border: 1px dotted black;border-radius: 0.25em;box-sizing: border-box;margin-bottom: 0.5em;}#sk-container-id-7 div.sk-estimator:hover {background-color: #d4ebff;}#sk-container-id-7 div.sk-parallel-item::after {content: \"\";width: 100%;border-bottom: 1px solid gray;flex-grow: 1;}#sk-container-id-7 div.sk-label:hover label.sk-toggleable__label {background-color: #d4ebff;}#sk-container-id-7 div.sk-serial::before {content: \"\";position: absolute;border-left: 1px solid gray;box-sizing: border-box;top: 0;bottom: 0;left: 50%;z-index: 0;}#sk-container-id-7 div.sk-serial {display: flex;flex-direction: column;align-items: center;background-color: white;padding-right: 0.2em;padding-left: 0.2em;position: relative;}#sk-container-id-7 div.sk-item {position: relative;z-index: 1;}#sk-container-id-7 div.sk-parallel {display: flex;align-items: stretch;justify-content: center;background-color: white;position: relative;}#sk-container-id-7 div.sk-item::before, #sk-container-id-7 div.sk-parallel-item::before {content: \"\";position: absolute;border-left: 1px solid gray;box-sizing: border-box;top: 0;bottom: 0;left: 50%;z-index: -1;}#sk-container-id-7 div.sk-parallel-item {display: flex;flex-direction: column;z-index: 1;position: relative;background-color: white;}#sk-container-id-7 div.sk-parallel-item:first-child::after {align-self: flex-end;width: 50%;}#sk-container-id-7 div.sk-parallel-item:last-child::after {align-self: flex-start;width: 50%;}#sk-container-id-7 div.sk-parallel-item:only-child::after {width: 0;}#sk-container-id-7 div.sk-dashed-wrapped {border: 1px dashed gray;margin: 0 0.4em 0.5em 0.4em;box-sizing: border-box;padding-bottom: 0.4em;background-color: white;}#sk-container-id-7 div.sk-label label {font-family: monospace;font-weight: bold;display: inline-block;line-height: 1.2em;}#sk-container-id-7 div.sk-label-container {text-align: center;}#sk-container-id-7 div.sk-container {/* jupyter's `normalize.less` sets `[hidden] { display: none; }` but bootstrap.min.css set `[hidden] { display: none !important; }` so we also need the `!important` here to be able to override the default hidden behavior on the sphinx rendered scikit-learn.org. See: https://github.com/scikit-learn/scikit-learn/issues/21755 */display: inline-block !important;position: relative;}#sk-container-id-7 div.sk-text-repr-fallback {display: none;}</style><div id=\"sk-container-id-7\" class=\"sk-top-container\"><div class=\"sk-text-repr-fallback\"><pre>RandomizedSearchCV(estimator=DecisionTreeClassifier(random_state=42),\n",
       "                   n_iter=100,\n",
       "                   param_distributions={&#x27;max_depth&#x27;: &lt;scipy.stats._distn_infrastructure.rv_discrete_frozen object at 0x000002140C89C7C0&gt;,\n",
       "                                        &#x27;min_impurity_decrease&#x27;: &lt;scipy.stats._distn_infrastructure.rv_continuous_frozen object at 0x000002140E8BE0B0&gt;,\n",
       "                                        &#x27;min_samples_leaf&#x27;: &lt;scipy.stats._distn_infrastructure.rv_discrete_frozen object at 0x000002140C8BA830&gt;,\n",
       "                                        &#x27;min_samples_split&#x27;: &lt;scipy.stats._distn_infrastructure.rv_discrete_frozen object at 0x000002140E92B3D0&gt;},\n",
       "                   random_state=42)</pre><b>In a Jupyter environment, please rerun this cell to show the HTML representation or trust the notebook. <br />On GitHub, the HTML representation is unable to render, please try loading this page with nbviewer.org.</b></div><div class=\"sk-container\" hidden><div class=\"sk-item sk-dashed-wrapped\"><div class=\"sk-label-container\"><div class=\"sk-label sk-toggleable\"><input class=\"sk-toggleable__control sk-hidden--visually\" id=\"sk-estimator-id-19\" type=\"checkbox\" ><label for=\"sk-estimator-id-19\" class=\"sk-toggleable__label sk-toggleable__label-arrow\">RandomizedSearchCV</label><div class=\"sk-toggleable__content\"><pre>RandomizedSearchCV(estimator=DecisionTreeClassifier(random_state=42),\n",
       "                   n_iter=100,\n",
       "                   param_distributions={&#x27;max_depth&#x27;: &lt;scipy.stats._distn_infrastructure.rv_discrete_frozen object at 0x000002140C89C7C0&gt;,\n",
       "                                        &#x27;min_impurity_decrease&#x27;: &lt;scipy.stats._distn_infrastructure.rv_continuous_frozen object at 0x000002140E8BE0B0&gt;,\n",
       "                                        &#x27;min_samples_leaf&#x27;: &lt;scipy.stats._distn_infrastructure.rv_discrete_frozen object at 0x000002140C8BA830&gt;,\n",
       "                                        &#x27;min_samples_split&#x27;: &lt;scipy.stats._distn_infrastructure.rv_discrete_frozen object at 0x000002140E92B3D0&gt;},\n",
       "                   random_state=42)</pre></div></div></div><div class=\"sk-parallel\"><div class=\"sk-parallel-item\"><div class=\"sk-item\"><div class=\"sk-label-container\"><div class=\"sk-label sk-toggleable\"><input class=\"sk-toggleable__control sk-hidden--visually\" id=\"sk-estimator-id-20\" type=\"checkbox\" ><label for=\"sk-estimator-id-20\" class=\"sk-toggleable__label sk-toggleable__label-arrow\">estimator: DecisionTreeClassifier</label><div class=\"sk-toggleable__content\"><pre>DecisionTreeClassifier(random_state=42)</pre></div></div></div><div class=\"sk-serial\"><div class=\"sk-item\"><div class=\"sk-estimator sk-toggleable\"><input class=\"sk-toggleable__control sk-hidden--visually\" id=\"sk-estimator-id-21\" type=\"checkbox\" ><label for=\"sk-estimator-id-21\" class=\"sk-toggleable__label sk-toggleable__label-arrow\">DecisionTreeClassifier</label><div class=\"sk-toggleable__content\"><pre>DecisionTreeClassifier(random_state=42)</pre></div></div></div></div></div></div></div></div></div></div>"
      ],
      "text/plain": [
       "RandomizedSearchCV(estimator=DecisionTreeClassifier(random_state=42),\n",
       "                   n_iter=100,\n",
       "                   param_distributions={'max_depth': <scipy.stats._distn_infrastructure.rv_discrete_frozen object at 0x000002140C89C7C0>,\n",
       "                                        'min_impurity_decrease': <scipy.stats._distn_infrastructure.rv_continuous_frozen object at 0x000002140E8BE0B0>,\n",
       "                                        'min_samples_leaf': <scipy.stats._distn_infrastructure.rv_discrete_frozen object at 0x000002140C8BA830>,\n",
       "                                        'min_samples_split': <scipy.stats._distn_infrastructure.rv_discrete_frozen object at 0x000002140E92B3D0>},\n",
       "                   random_state=42)"
      ]
     },
     "execution_count": 307,
     "metadata": {},
     "output_type": "execute_result"
    }
   ],
   "source": [
    "from sklearn.tree import DecisionTreeClassifier\n",
    "from sklearn.model_selection import RandomizedSearchCV\n",
    "from scipy.stats import uniform, randint\n",
    "\n",
    "params = {'min_impurity_decrease': uniform(0.0001, 0.001),             \n",
    "          'max_depth': randint(20, 50),\n",
    "          'min_samples_split': randint(2, 25),\n",
    "          'min_samples_leaf': randint(1, 25),\n",
    "          }\n",
    "\n",
    "gs = RandomizedSearchCV(DecisionTreeClassifier(random_state=42), params, n_iter=100, random_state=42)       \n",
    "gs.fit(X_train, y_train)"
   ]
  },
  {
   "cell_type": "code",
   "execution_count": 308,
   "id": "69b0e0cf",
   "metadata": {},
   "outputs": [
    {
     "data": {
      "text/plain": [
       "{'max_depth': 26,\n",
       " 'min_impurity_decrease': 0.0005753702231821118,\n",
       " 'min_samples_leaf': 4,\n",
       " 'min_samples_split': 6}"
      ]
     },
     "execution_count": 308,
     "metadata": {},
     "output_type": "execute_result"
    }
   ],
   "source": [
    "gs.best_params_"
   ]
  },
  {
   "cell_type": "code",
   "execution_count": 309,
   "id": "d3e5b872",
   "metadata": {},
   "outputs": [
    {
     "name": "stdout",
     "output_type": "stream",
     "text": [
      "0.9233716475095786\n",
      "0.8938053097345132\n"
     ]
    }
   ],
   "source": [
    "dt = gs.best_estimator_\n",
    "\n",
    "print(dt.score(X_train, y_train))\n",
    "print(dt.score(X_test, y_test))"
   ]
  },
  {
   "cell_type": "markdown",
   "id": "7347fa12",
   "metadata": {},
   "source": [
    "### 결정트리, 교차 검증,  그리드 서치 결과\n",
    "\n",
    "- 결정트리.\n",
    "    - 결과 <br>\n",
    "    훈련데이터 점수: 0.9348659003831418 <br>\n",
    "    테스트데이터 점수: 0.8584070796460177 <br>\n",
    "    - 하이퍼파라미터 튜닝 결과 <br>\n",
    "    훈련데이터 점수: 0.9348659003831418 <br>\n",
    "    테스트데이터 점수: 0.8938053097345132 <br>\n",
    "- 교차 검증\n",
    "    - 평균 결과 값 <br>\n",
    "    훈련데이터 점수: 0.9378432442262229 <br>\n",
    "    테스트데이터 점수: 0.8849002849002849 <br>\n",
    "- 그리드 서치\n",
    "    - 결과 <br>\n",
    "    훈련데이터 점수: 0.9233716475095786 <br>\n",
    "    테스트데이터 점수: 0.8938053097345132 <br>\n",
    "<br>\n",
    "- 그리드 서치의 결과가 가장 적절해 보임."
   ]
  },
  {
   "cell_type": "markdown",
   "id": "2f4060c2",
   "metadata": {},
   "source": [
    "<hr>"
   ]
  },
  {
   "cell_type": "markdown",
   "id": "3a243cab",
   "metadata": {},
   "source": [
    "## 앙상블"
   ]
  },
  {
   "cell_type": "markdown",
   "id": "b3c9cf63",
   "metadata": {},
   "source": [
    "#### 랜덤 포레스트"
   ]
  },
  {
   "cell_type": "code",
   "execution_count": 310,
   "id": "2092df54",
   "metadata": {},
   "outputs": [
    {
     "name": "stdout",
     "output_type": "stream",
     "text": [
      "0.9377438351122562\n",
      "0.9082728592162554\n"
     ]
    }
   ],
   "source": [
    "from sklearn.model_selection import cross_validate\n",
    "from sklearn.ensemble import RandomForestClassifier \n",
    "import numpy as np\n",
    "\n",
    "rf = RandomForestClassifier(random_state=42)\n",
    "scores = cross_validate(rf, X_train, y_train, return_train_score=True)\n",
    "\n",
    "print(np.mean(scores['train_score']))\n",
    "print(np.mean(scores['test_score']))"
   ]
  },
  {
   "cell_type": "code",
   "execution_count": 311,
   "id": "45f11c78",
   "metadata": {},
   "outputs": [
    {
     "data": {
      "text/plain": [
       "array([0.13285001, 0.13829316, 0.03240695, 0.07621588, 0.04140964,\n",
       "       0.18710199, 0.06186333, 0.07120795, 0.00513033, 0.01344834,\n",
       "       0.08968512, 0.00544875, 0.00440562, 0.14053292])"
      ]
     },
     "execution_count": 311,
     "metadata": {},
     "output_type": "execute_result"
    }
   ],
   "source": [
    "rf.fit(X_train, y_train)\n",
    "rf.feature_importances_            # 특성 중요도"
   ]
  },
  {
   "cell_type": "code",
   "execution_count": 312,
   "id": "c7682bd2",
   "metadata": {},
   "outputs": [
    {
     "data": {
      "text/plain": [
       "0.9080459770114943"
      ]
     },
     "execution_count": 312,
     "metadata": {},
     "output_type": "execute_result"
    }
   ],
   "source": [
    "rf = RandomForestClassifier(oob_score=True, random_state=42)       \n",
    "                                                                             \n",
    "rf.fit(X_train, y_train)                                              \n",
    "rf.oob_score_"
   ]
  },
  {
   "cell_type": "markdown",
   "id": "69b439c6",
   "metadata": {},
   "source": [
    "- 교차검증에서의 테스트 점수 : 0.8849002849002849\n",
    "- 랜덤포레스트의 테스트 점수 : 0.9080459770114943"
   ]
  },
  {
   "cell_type": "markdown",
   "id": "19322501",
   "metadata": {},
   "source": [
    "#### 엑스트라 트리"
   ]
  },
  {
   "cell_type": "code",
   "execution_count": 313,
   "id": "af81daa1",
   "metadata": {},
   "outputs": [
    {
     "name": "stdout",
     "output_type": "stream",
     "text": [
      "0.9377438351122562\n",
      "0.8890420899854863\n"
     ]
    }
   ],
   "source": [
    "from sklearn.ensemble import ExtraTreesClassifier\n",
    "\n",
    "et = ExtraTreesClassifier(random_state=42)\n",
    "scores = cross_validate(et, X_train, y_train, return_train_score=True)\n",
    "\n",
    "print(np.mean(scores['train_score']))\n",
    "print(np.mean(scores['test_score']))"
   ]
  },
  {
   "cell_type": "code",
   "execution_count": 314,
   "id": "bd7c61a8",
   "metadata": {},
   "outputs": [
    {
     "data": {
      "text/plain": [
       "array([0.07176287, 0.08452485, 0.05392893, 0.08589421, 0.05861988,\n",
       "       0.12471344, 0.05520015, 0.07048745, 0.02351827, 0.02353404,\n",
       "       0.1371831 , 0.02084026, 0.00767561, 0.18211693])"
      ]
     },
     "execution_count": 314,
     "metadata": {},
     "output_type": "execute_result"
    }
   ],
   "source": [
    "et.fit(X_train, y_train)\n",
    "et.feature_importances_"
   ]
  },
  {
   "cell_type": "markdown",
   "id": "97e71bf1",
   "metadata": {},
   "source": [
    "#### 그레이언트 부스팅"
   ]
  },
  {
   "cell_type": "code",
   "execution_count": 315,
   "id": "a624695f",
   "metadata": {},
   "outputs": [
    {
     "name": "stdout",
     "output_type": "stream",
     "text": [
      "0.9377438351122562\n",
      "0.9005805515239478\n"
     ]
    }
   ],
   "source": [
    "from sklearn.ensemble import GradientBoostingClassifier\n",
    "\n",
    "gb = GradientBoostingClassifier(n_estimators=500, learning_rate=0.2, random_state=42)\n",
    "scores = cross_validate(gb, X_train, y_train, return_train_score=True)\n",
    "\n",
    "print(np.mean(scores['train_score']))\n",
    "print(np.mean(scores['test_score']))"
   ]
  },
  {
   "cell_type": "code",
   "execution_count": 316,
   "id": "70df620a",
   "metadata": {},
   "outputs": [
    {
     "data": {
      "text/plain": [
       "array([2.46018460e-02, 2.49668207e-02, 5.83559303e-03, 1.23935736e-01,\n",
       "       1.91127668e-02, 4.20245642e-01, 4.91941786e-02, 5.88227776e-02,\n",
       "       3.44686316e-03, 9.81556302e-04, 3.85070966e-03, 2.05189940e-04,\n",
       "       4.62886219e-07, 2.64799857e-01])"
      ]
     },
     "execution_count": 316,
     "metadata": {},
     "output_type": "execute_result"
    }
   ],
   "source": [
    "gb.fit(X_train, y_train)\n",
    "gb.feature_importances_"
   ]
  },
  {
   "cell_type": "markdown",
   "id": "bed88d93",
   "metadata": {},
   "source": [
    "#### 히스토그램 기반 그레이언트 부스팅"
   ]
  },
  {
   "cell_type": "code",
   "execution_count": 317,
   "id": "927558bd",
   "metadata": {},
   "outputs": [
    {
     "name": "stdout",
     "output_type": "stream",
     "text": [
      "0.9367868973132131\n",
      "0.9082728592162554\n"
     ]
    }
   ],
   "source": [
    "from sklearn.ensemble import HistGradientBoostingClassifier\n",
    "\n",
    "hgb = HistGradientBoostingClassifier(random_state=42)\n",
    "scores = cross_validate(hgb, X_train, y_train, return_train_score=True)\n",
    "\n",
    "print(np.mean(scores['train_score']))\n",
    "print(np.mean(scores['test_score']))"
   ]
  },
  {
   "cell_type": "markdown",
   "id": "84bd7431",
   "metadata": {},
   "source": [
    "##### 훈련 세트, 테스트 세트의 특성 중요도"
   ]
  },
  {
   "cell_type": "code",
   "execution_count": 318,
   "id": "6583b43d",
   "metadata": {},
   "outputs": [
    {
     "data": {
      "text/plain": [
       "array([0.01532567, 0.09846743, 0.00038314, 0.01455939, 0.00191571,\n",
       "       0.24137931, 0.03793103, 0.02528736, 0.        , 0.        ,\n",
       "       0.02337165, 0.        , 0.        , 0.00076628])"
      ]
     },
     "execution_count": 318,
     "metadata": {},
     "output_type": "execute_result"
    }
   ],
   "source": [
    "from sklearn.inspection import permutation_importance\n",
    "\n",
    "hgb.fit(X_train, y_train)\n",
    "result = permutation_importance(hgb, X_train, y_train, n_repeats=10, random_state=42)\n",
    "result.importances_mean"
   ]
  },
  {
   "cell_type": "code",
   "execution_count": 319,
   "id": "ea0b25ee",
   "metadata": {},
   "outputs": [
    {
     "data": {
      "text/plain": [
       "array([0.0159292 , 0.11238938, 0.        , 0.02035398, 0.01150442,\n",
       "       0.29026549, 0.07699115, 0.03185841, 0.00884956, 0.        ,\n",
       "       0.06283186, 0.        , 0.        , 0.01504425])"
      ]
     },
     "execution_count": 319,
     "metadata": {},
     "output_type": "execute_result"
    }
   ],
   "source": [
    "result = permutation_importance(hgb, X_test, y_test, n_repeats=10,random_state=42)\n",
    "result.importances_mean"
   ]
  },
  {
   "cell_type": "code",
   "execution_count": 320,
   "id": "5d2c58da",
   "metadata": {},
   "outputs": [
    {
     "name": "stdout",
     "output_type": "stream",
     "text": [
      "0.9348659003831418\n",
      "0.9026548672566371\n"
     ]
    }
   ],
   "source": [
    "print(hgb.score(X_train, y_train))\n",
    "print(hgb.score(X_test, y_test))"
   ]
  },
  {
   "cell_type": "markdown",
   "id": "e9a0d74e",
   "metadata": {},
   "source": [
    "### 랜덤 포레스트, 엑스트라 트리, 그레이언트 부스팅, 히스토그램 기반 그레이언트 부스팅\n",
    "\n",
    "- 랜덤 포레스트\n",
    "    - 결과 <br>\n",
    "    훈련데이터 점수: 0.9377438351122562 <br>\n",
    "    테스트데이터 점수: 0.9080459770114943 <br>\n",
    "- 엑스트라 트리<br>\n",
    "    - 결과 <br>\n",
    "    훈련데이터 점수: 0.9377438351122562 <br>\n",
    "    테스트데이터 점수: 0.8890420899854863 <br>\n",
    "- 그레이언트 부스팅 <br>\n",
    "    - 결과 <br>\n",
    "    훈련데이터 점수: 0.9377438351122562 <br>\n",
    "    테스트데이터 점수: 0.9005805515239478 <br>\n",
    "- 히스토그램 기반 그레이언트 부스팅 <br>\n",
    "    - 결과 <br>\n",
    "    훈련데이터 점수: 0.9348659003831418 <br>\n",
    "    테스트데이터 점수: 0.9026548672566371 <br>\n",
    "<br>\n",
    "- 랜덤 포레스트의 결과가 조금 더 좋게 나옴을 알 수 있음."
   ]
  },
  {
   "cell_type": "markdown",
   "id": "85b3797c",
   "metadata": {},
   "source": [
    "<hr>"
   ]
  },
  {
   "cell_type": "markdown",
   "id": "3bd375db",
   "metadata": {},
   "source": [
    "< 속성 ><br>\n",
    "'Age', 'Sleep Duration', 'Quality of Sleep', 'Physical Activity Level', <br>\n",
    "'Stress Level','Blood Pressure', 'Heart Rate', 'Daily Steps', 'Female', 'Male', <br> \n",
    "'Normal', 'Normal Weight', 'Obese', 'Overweight' <br>\n",
    "- 결정 트리에서의 특성 중요도 <br>\n",
    "[0.00538613, 0.013264  , 0.        , 0.        , 0.        ,\n",
    "       0.35463112, 0.16149753, 0.00151845, 0.01921782, 0.        ,\n",
    "       0.        , 0.        , 0.        , 0.44448495] <br><br>\n",
    "- 랜덤 포레스트에서의 특성 중요도 <br>\n",
    "[0.13285001, 0.13829316, 0.03240695, 0.07621588, 0.04140964,\n",
    "       0.18710199, 0.06186333, 0.07120795, 0.00513033, 0.01344834,\n",
    "       0.08968512, 0.00544875, 0.00440562, 0.14053292] <br><br>\n",
    "- 엑스트라 트리에서의 특성 중요도 <br>\n",
    "[0.01545808, 0.03257073, 0.07902233, 0.09224914, 0.05309902,\n",
    "       0.08452651, 0.04540753, 0.12990065, 0.01118916, 0.0111724 ,\n",
    "       0.16383107, 0.16780574, 0.04696099, 0.06680665] <br><br>\n",
    "- 그레이언트 부스팅에서의 특성 중요도 <br>\n",
    "[2.46018460e-02, 2.49668207e-02, 5.83559303e-03, 1.23935736e-01,\n",
    "       1.91127668e-02, 4.20245642e-01, 4.91941786e-02, 5.88227776e-02,\n",
    "       3.44686316e-03, 9.81556302e-04, 3.85070966e-03, 2.05189940e-04,\n",
    "       4.62886219e-07, 2.64799857e-01]<br><br>\n",
    "- 히스토그램기반 그레이언트 부스팅에서의 특성 중요도 <br>\n",
    "[0.0159292 , 0.11238938, 0.        , 0.02035398, 0.01150442,\n",
    "       0.29026549, 0.07699115, 0.03185841, 0.00884956, 0.        ,\n",
    "       0.06283186, 0.        , 0.        , 0.01504425]<br>"
   ]
  }
 ],
 "metadata": {
  "kernelspec": {
   "display_name": "Python 3 (ipykernel)",
   "language": "python",
   "name": "python3"
  },
  "language_info": {
   "codemirror_mode": {
    "name": "ipython",
    "version": 3
   },
   "file_extension": ".py",
   "mimetype": "text/x-python",
   "name": "python",
   "nbconvert_exporter": "python",
   "pygments_lexer": "ipython3",
   "version": "3.10.9"
  }
 },
 "nbformat": 4,
 "nbformat_minor": 5
}
