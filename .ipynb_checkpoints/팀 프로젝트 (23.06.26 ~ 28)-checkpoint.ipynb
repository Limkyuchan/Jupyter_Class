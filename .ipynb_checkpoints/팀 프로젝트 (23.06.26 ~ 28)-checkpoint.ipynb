{
 "cells": [
  {
   "cell_type": "markdown",
   "id": "ee78465b",
   "metadata": {},
   "source": [
    "월간 (22.7 ~ 23.6) -> 12번 / 4분기  (50개씩)\n",
    "\n",
    "Calumn\n",
    "<br>번호(ISBN) | 제목 | 장르 | 저자(지은이) |  평점(0.1~10.0) | 가격(판매가) | ( 발행일자 )"
   ]
  },
  {
   "cell_type": "code",
   "execution_count": 86,
   "id": "de581c9b",
   "metadata": {},
   "outputs": [
    {
     "name": "stdout",
     "output_type": "stream",
     "text": [
      "['세이노의 가르침', '흔한남매 13', '사장학개론', '모든 삶은 흐른다', '스즈메의 문단속', '메리골드 마음 세탁소', '당신은 결국 무엇이든 해내는 사람(10만 부 기념 특별 리커버 에디션)', '원씽(The One Thing)(리커버 특별판)', '챗GPT, 질문이 돈이 되는 세상', '돌연한 출발', '구의 증명', '내가 가진 것을 세상이 원하게 하라', '역행자(확장판)', '장하준의 경제학 레시피', '2023 제14회 젊은작가상 수상작품집', '김미경의 마흔 수업', '나의 돈 많은 고등학교 친구', '도둑맞은 집중력', '돈의 속성(300쇄 리커버에디션)', '불편한 편의점(벚꽃 에디션)', '바다가 들리는 편의점', '도파민네이션', '하늘과 바람과 별과 인간', '이지성의 1만 킬로미터', '최애의 아이 1', '물고기는 존재하지 않는다', '유연함의 힘', '내면소통', '봇치ㆍ더ㆍ록! 5', '아버지의 해방일지', '인생에서 가장 후회되는 게 뭐냐고 묻는다면', '건강과 다이어트를 동시에 잡는 7대 3의 법칙 채소·과일식', '던전앤파이터 진각성 아트북 세트', '대한민국 생존전략', '불편한 편의점 2(단풍 에디션)', '데일 카네기 인간관계론', '생각하는 대로 해내는 시간 연금술사', '부자 아빠 가난한 아빠 1(20주년 특별 기념판)', '돈은 너로부터다', '여학교의 별 3', '거인의 노트', '모순', '아주 세속적인 지혜', '백앤아 1: 미스터리 100층 감옥', '모성', '기분이 태도가 되지 말자', '세상의 마지막 기차역(리커버 에디션)', '몰입', '원피스 105: 루피의 꿈', '고래']\n"
     ]
    }
   ],
   "source": [
    "# from selenium.webdriver import Chrome\n",
    "# from bs4 import BeautifulSoup\n",
    "# import time\n",
    "\n",
    "# kyobo_list_name = []\n",
    "# for i in range(1,4):\n",
    "    \n",
    "#     chrome = Chrome()\n",
    "    \n",
    "#     if i < 3:\n",
    "#         url = f\"https://product.kyobobook.co.kr/bestseller/total?period=003#?page={i}&per=20&period=003&ymw=&bsslBksClstCode=A\"\n",
    "\n",
    "#         chrome.get(url)\n",
    "#         time.sleep(5)\n",
    "\n",
    "#         response = chrome.page_source\n",
    "\n",
    "#         time.sleep(2)\n",
    "#         chrome.close()\n",
    "\n",
    "#         kyobo = BeautifulSoup(response)\n",
    "\n",
    "#         for j in kyobo.find_all('span', {'class':'prod_name'}):\n",
    "#             kyobo_list_name.append(j.text)\n",
    "                                   \n",
    "#     else:\n",
    "#         url = f\"https://product.kyobobook.co.kr/bestseller/total?period=003#?page={i}&per=20&period=003&ymw=&bsslBksClstCode=A\"\n",
    "        \n",
    "#         chrome.get(url)\n",
    "#         time.sleep(5)\n",
    "\n",
    "#         response = chrome.page_source\n",
    "\n",
    "#         time.sleep(2)\n",
    "#         chrome.close()\n",
    "\n",
    "#         kyobo = BeautifulSoup(response)\n",
    "\n",
    "#         for j in kyobo.find_all('span', {'class':'prod_name'})[:10]:\n",
    "#             kyobo_list_name.append(j.text)\n",
    "\n",
    "print(kyobo_list_name)"
   ]
  },
  {
   "cell_type": "code",
   "execution_count": null,
   "id": "05c7ab00",
   "metadata": {},
   "outputs": [],
   "source": []
  },
  {
   "cell_type": "code",
   "execution_count": null,
   "id": "8654d529",
   "metadata": {},
   "outputs": [],
   "source": []
  },
  {
   "cell_type": "code",
   "execution_count": null,
   "id": "27d7b5b9",
   "metadata": {},
   "outputs": [],
   "source": []
  },
  {
   "cell_type": "code",
   "execution_count": null,
   "id": "995206f9",
   "metadata": {},
   "outputs": [],
   "source": []
  },
  {
   "cell_type": "code",
   "execution_count": null,
   "id": "1076354d",
   "metadata": {},
   "outputs": [],
   "source": []
  },
  {
   "cell_type": "code",
   "execution_count": 85,
   "id": "2eb603bb",
   "metadata": {},
   "outputs": [
    {
     "ename": "ElementClickInterceptedException",
     "evalue": "Message: element click intercepted: Element <span class=\"prod_name\">...</span> is not clickable at point (762, 672). Other element would receive the click: <a class=\"burst_banner_link\" href=\"http://imac.kyobobook.co.kr/click/INK/ink_sub_new/ink_sub_channel@sub_bestsllr_01?adsno=136518&amp;ctvno=100135&amp;clkno=100174\">...</a>\n  (Session info: chrome=114.0.5735.134)\nStacktrace:\nBacktrace:\n\tGetHandleVerifier [0x00B5A813+48355]\n\t(No symbol) [0x00AEC4B1]\n\t(No symbol) [0x009F5358]\n\t(No symbol) [0x00A25062]\n\t(No symbol) [0x00A23B98]\n\t(No symbol) [0x00A2239B]\n\t(No symbol) [0x00A2179E]\n\t(No symbol) [0x00A19F5C]\n\t(No symbol) [0x00A3A73C]\n\t(No symbol) [0x00A19A36]\n\t(No symbol) [0x00A3AA94]\n\t(No symbol) [0x00A4C922]\n\t(No symbol) [0x00A3A536]\n\t(No symbol) [0x00A182DC]\n\t(No symbol) [0x00A193DD]\n\tGetHandleVerifier [0x00DBAABD+2539405]\n\tGetHandleVerifier [0x00DFA78F+2800735]\n\tGetHandleVerifier [0x00DF456C+2775612]\n\tGetHandleVerifier [0x00BE51E0+616112]\n\t(No symbol) [0x00AF5F8C]\n\t(No symbol) [0x00AF2328]\n\t(No symbol) [0x00AF240B]\n\t(No symbol) [0x00AE4FF7]\n\tBaseThreadInitThunk [0x767B7D59+25]\n\tRtlInitializeExceptionChain [0x771BB74B+107]\n\tRtlClearBits [0x771BB6CF+191]\n",
     "output_type": "error",
     "traceback": [
      "\u001b[1;31m---------------------------------------------------------------------------\u001b[0m",
      "\u001b[1;31mElementClickInterceptedException\u001b[0m          Traceback (most recent call last)",
      "Cell \u001b[1;32mIn[85], line 27\u001b[0m\n\u001b[0;32m     25\u001b[0m         kyobo_list_name\u001b[38;5;241m.\u001b[39mappend(j\u001b[38;5;241m.\u001b[39mtext)\n\u001b[0;32m     26\u001b[0m         box \u001b[38;5;241m=\u001b[39m chrome\u001b[38;5;241m.\u001b[39mfind_element(By\u001b[38;5;241m.\u001b[39mXPATH, value\u001b[38;5;241m=\u001b[39m\u001b[38;5;124m'\u001b[39m\u001b[38;5;124m//*[@id=\u001b[39m\u001b[38;5;124m\"\u001b[39m\u001b[38;5;124mtabRoot\u001b[39m\u001b[38;5;124m\"\u001b[39m\u001b[38;5;124m]/div[3]/ol[1]/li[1]/div[2]/div[2]/a/span\u001b[39m\u001b[38;5;124m'\u001b[39m)\n\u001b[1;32m---> 27\u001b[0m         \u001b[43mbox\u001b[49m\u001b[38;5;241;43m.\u001b[39;49m\u001b[43mclick\u001b[49m\u001b[43m(\u001b[49m\u001b[43m)\u001b[49m            \n\u001b[0;32m     29\u001b[0m \u001b[38;5;28;01melse\u001b[39;00m:\n\u001b[0;32m     30\u001b[0m     url \u001b[38;5;241m=\u001b[39m \u001b[38;5;124mf\u001b[39m\u001b[38;5;124m\"\u001b[39m\u001b[38;5;124mhttps://product.kyobobook.co.kr/bestseller/total?period=003#?page=\u001b[39m\u001b[38;5;132;01m{\u001b[39;00mi\u001b[38;5;132;01m}\u001b[39;00m\u001b[38;5;124m&per=20&period=003&ymw=&bsslBksClstCode=A\u001b[39m\u001b[38;5;124m\"\u001b[39m\n",
      "File \u001b[1;32m~\\anaconda3\\lib\\site-packages\\selenium\\webdriver\\remote\\webelement.py:94\u001b[0m, in \u001b[0;36mWebElement.click\u001b[1;34m(self)\u001b[0m\n\u001b[0;32m     92\u001b[0m \u001b[38;5;28;01mdef\u001b[39;00m \u001b[38;5;21mclick\u001b[39m(\u001b[38;5;28mself\u001b[39m) \u001b[38;5;241m-\u001b[39m\u001b[38;5;241m>\u001b[39m \u001b[38;5;28;01mNone\u001b[39;00m:\n\u001b[0;32m     93\u001b[0m     \u001b[38;5;124;03m\"\"\"Clicks the element.\"\"\"\u001b[39;00m\n\u001b[1;32m---> 94\u001b[0m     \u001b[38;5;28;43mself\u001b[39;49m\u001b[38;5;241;43m.\u001b[39;49m\u001b[43m_execute\u001b[49m\u001b[43m(\u001b[49m\u001b[43mCommand\u001b[49m\u001b[38;5;241;43m.\u001b[39;49m\u001b[43mCLICK_ELEMENT\u001b[49m\u001b[43m)\u001b[49m\n",
      "File \u001b[1;32m~\\anaconda3\\lib\\site-packages\\selenium\\webdriver\\remote\\webelement.py:395\u001b[0m, in \u001b[0;36mWebElement._execute\u001b[1;34m(self, command, params)\u001b[0m\n\u001b[0;32m    393\u001b[0m     params \u001b[38;5;241m=\u001b[39m {}\n\u001b[0;32m    394\u001b[0m params[\u001b[38;5;124m\"\u001b[39m\u001b[38;5;124mid\u001b[39m\u001b[38;5;124m\"\u001b[39m] \u001b[38;5;241m=\u001b[39m \u001b[38;5;28mself\u001b[39m\u001b[38;5;241m.\u001b[39m_id\n\u001b[1;32m--> 395\u001b[0m \u001b[38;5;28;01mreturn\u001b[39;00m \u001b[38;5;28;43mself\u001b[39;49m\u001b[38;5;241;43m.\u001b[39;49m\u001b[43m_parent\u001b[49m\u001b[38;5;241;43m.\u001b[39;49m\u001b[43mexecute\u001b[49m\u001b[43m(\u001b[49m\u001b[43mcommand\u001b[49m\u001b[43m,\u001b[49m\u001b[43m \u001b[49m\u001b[43mparams\u001b[49m\u001b[43m)\u001b[49m\n",
      "File \u001b[1;32m~\\anaconda3\\lib\\site-packages\\selenium\\webdriver\\remote\\webdriver.py:346\u001b[0m, in \u001b[0;36mWebDriver.execute\u001b[1;34m(self, driver_command, params)\u001b[0m\n\u001b[0;32m    344\u001b[0m response \u001b[38;5;241m=\u001b[39m \u001b[38;5;28mself\u001b[39m\u001b[38;5;241m.\u001b[39mcommand_executor\u001b[38;5;241m.\u001b[39mexecute(driver_command, params)\n\u001b[0;32m    345\u001b[0m \u001b[38;5;28;01mif\u001b[39;00m response:\n\u001b[1;32m--> 346\u001b[0m     \u001b[38;5;28;43mself\u001b[39;49m\u001b[38;5;241;43m.\u001b[39;49m\u001b[43merror_handler\u001b[49m\u001b[38;5;241;43m.\u001b[39;49m\u001b[43mcheck_response\u001b[49m\u001b[43m(\u001b[49m\u001b[43mresponse\u001b[49m\u001b[43m)\u001b[49m\n\u001b[0;32m    347\u001b[0m     response[\u001b[38;5;124m\"\u001b[39m\u001b[38;5;124mvalue\u001b[39m\u001b[38;5;124m\"\u001b[39m] \u001b[38;5;241m=\u001b[39m \u001b[38;5;28mself\u001b[39m\u001b[38;5;241m.\u001b[39m_unwrap_value(response\u001b[38;5;241m.\u001b[39mget(\u001b[38;5;124m\"\u001b[39m\u001b[38;5;124mvalue\u001b[39m\u001b[38;5;124m\"\u001b[39m, \u001b[38;5;28;01mNone\u001b[39;00m))\n\u001b[0;32m    348\u001b[0m     \u001b[38;5;28;01mreturn\u001b[39;00m response\n",
      "File \u001b[1;32m~\\anaconda3\\lib\\site-packages\\selenium\\webdriver\\remote\\errorhandler.py:245\u001b[0m, in \u001b[0;36mErrorHandler.check_response\u001b[1;34m(self, response)\u001b[0m\n\u001b[0;32m    243\u001b[0m         alert_text \u001b[38;5;241m=\u001b[39m value[\u001b[38;5;124m\"\u001b[39m\u001b[38;5;124malert\u001b[39m\u001b[38;5;124m\"\u001b[39m]\u001b[38;5;241m.\u001b[39mget(\u001b[38;5;124m\"\u001b[39m\u001b[38;5;124mtext\u001b[39m\u001b[38;5;124m\"\u001b[39m)\n\u001b[0;32m    244\u001b[0m     \u001b[38;5;28;01mraise\u001b[39;00m exception_class(message, screen, stacktrace, alert_text)  \u001b[38;5;66;03m# type: ignore[call-arg]  # mypy is not smart enough here\u001b[39;00m\n\u001b[1;32m--> 245\u001b[0m \u001b[38;5;28;01mraise\u001b[39;00m exception_class(message, screen, stacktrace)\n",
      "\u001b[1;31mElementClickInterceptedException\u001b[0m: Message: element click intercepted: Element <span class=\"prod_name\">...</span> is not clickable at point (762, 672). Other element would receive the click: <a class=\"burst_banner_link\" href=\"http://imac.kyobobook.co.kr/click/INK/ink_sub_new/ink_sub_channel@sub_bestsllr_01?adsno=136518&amp;ctvno=100135&amp;clkno=100174\">...</a>\n  (Session info: chrome=114.0.5735.134)\nStacktrace:\nBacktrace:\n\tGetHandleVerifier [0x00B5A813+48355]\n\t(No symbol) [0x00AEC4B1]\n\t(No symbol) [0x009F5358]\n\t(No symbol) [0x00A25062]\n\t(No symbol) [0x00A23B98]\n\t(No symbol) [0x00A2239B]\n\t(No symbol) [0x00A2179E]\n\t(No symbol) [0x00A19F5C]\n\t(No symbol) [0x00A3A73C]\n\t(No symbol) [0x00A19A36]\n\t(No symbol) [0x00A3AA94]\n\t(No symbol) [0x00A4C922]\n\t(No symbol) [0x00A3A536]\n\t(No symbol) [0x00A182DC]\n\t(No symbol) [0x00A193DD]\n\tGetHandleVerifier [0x00DBAABD+2539405]\n\tGetHandleVerifier [0x00DFA78F+2800735]\n\tGetHandleVerifier [0x00DF456C+2775612]\n\tGetHandleVerifier [0x00BE51E0+616112]\n\t(No symbol) [0x00AF5F8C]\n\t(No symbol) [0x00AF2328]\n\t(No symbol) [0x00AF240B]\n\t(No symbol) [0x00AE4FF7]\n\tBaseThreadInitThunk [0x767B7D59+25]\n\tRtlInitializeExceptionChain [0x771BB74B+107]\n\tRtlClearBits [0x771BB6CF+191]\n"
     ]
    }
   ],
   "source": [
    "from selenium.webdriver.common.by import By\n",
    "from selenium.webdriver.common.keys import Keys\n",
    "from selenium.webdriver import Chrome\n",
    "from bs4 import BeautifulSoup\n",
    "import time\n",
    "\n",
    "\n",
    "kyobo_list_name = []\n",
    "kyobo_list_isbn = []\n",
    "\n",
    "for i in range(1,4):\n",
    "    \n",
    "    chrome = Chrome()\n",
    "    \n",
    "    if i < 3:\n",
    "        url = f\"https://product.kyobobook.co.kr/bestseller/total?period=003#?page={i}&per=20&period=003&ymw=&bsslBksClstCode=A\"\n",
    "\n",
    "        chrome.get(url)\n",
    "        time.sleep(5)\n",
    "\n",
    "        response = chrome.page_source     \n",
    "        kyobo = BeautifulSoup(response)\n",
    "\n",
    "        for j in kyobo.find_all('span', {'class':'prod_name'}):\n",
    "            kyobo_list_name.append(j.text)\n",
    "            box = chrome.find_element(By.XPATH, value='//*[@id=\"tabRoot\"]/div[3]/ol[1]/li[1]/div[2]/div[2]/a/span')\n",
    "            box.click()            \n",
    "                                   \n",
    "    else:\n",
    "        url = f\"https://product.kyobobook.co.kr/bestseller/total?period=003#?page={i}&per=20&period=003&ymw=&bsslBksClstCode=A\"\n",
    "        \n",
    "        chrome.get(url)\n",
    "        time.sleep(5)\n",
    "\n",
    "        response = chrome.page_source\n",
    "\n",
    "        time.sleep(2)\n",
    "        chrome.close()\n",
    "\n",
    "        kyobo = BeautifulSoup(response)\n",
    "\n",
    "        for j in kyobo.find_all('span', {'class':'prod_name'})[:10]:\n",
    "            kyobo_list_name.append(j.text)\n",
    "\n",
    "print(kyobo_list_name)\n"
   ]
  },
  {
   "cell_type": "code",
   "execution_count": null,
   "id": "68851504",
   "metadata": {},
   "outputs": [],
   "source": []
  },
  {
   "cell_type": "code",
   "execution_count": 140,
   "id": "44068bc7",
   "metadata": {},
   "outputs": [
    {
     "name": "stdout",
     "output_type": "stream",
     "text": [
      "<selenium.webdriver.remote.webelement.WebElement (session=\"e5feb25f8fafb5029d11a61a75e4d121\", element=\"3FC146D13AD81146A381E271FB8C1E6C_element_92\")>\n",
      "<selenium.webdriver.remote.webelement.WebElement (session=\"e5feb25f8fafb5029d11a61a75e4d121\", element=\"E538F62224D540198F52F6AA27080B73_element_168\")>\n"
     ]
    },
    {
     "ename": "NoSuchElementException",
     "evalue": "Message: no such element: Unable to locate element: {\"method\":\"xpath\",\"selector\":\"//*[@id=\"tabRoot\"]/div[3]/ol[1]/li[3]/div[2]/div[2]/a/span\"}\n  (Session info: chrome=114.0.5735.134); For documentation on this error, please visit: https://www.selenium.dev/documentation/webdriver/troubleshooting/errors#no-such-element-exception\nStacktrace:\nBacktrace:\n\tGetHandleVerifier [0x00B5A813+48355]\n\t(No symbol) [0x00AEC4B1]\n\t(No symbol) [0x009F5358]\n\t(No symbol) [0x00A209A5]\n\t(No symbol) [0x00A20B3B]\n\t(No symbol) [0x00A4E232]\n\t(No symbol) [0x00A3A784]\n\t(No symbol) [0x00A4C922]\n\t(No symbol) [0x00A3A536]\n\t(No symbol) [0x00A182DC]\n\t(No symbol) [0x00A193DD]\n\tGetHandleVerifier [0x00DBAABD+2539405]\n\tGetHandleVerifier [0x00DFA78F+2800735]\n\tGetHandleVerifier [0x00DF456C+2775612]\n\tGetHandleVerifier [0x00BE51E0+616112]\n\t(No symbol) [0x00AF5F8C]\n\t(No symbol) [0x00AF2328]\n\t(No symbol) [0x00AF240B]\n\t(No symbol) [0x00AE4FF7]\n\tBaseThreadInitThunk [0x767B7D59+25]\n\tRtlInitializeExceptionChain [0x771BB74B+107]\n\tRtlClearBits [0x771BB6CF+191]\n",
     "output_type": "error",
     "traceback": [
      "\u001b[1;31m---------------------------------------------------------------------------\u001b[0m",
      "\u001b[1;31mNoSuchElementException\u001b[0m                    Traceback (most recent call last)",
      "Cell \u001b[1;32mIn[140], line 22\u001b[0m\n\u001b[0;32m     19\u001b[0m \u001b[38;5;28;01mfor\u001b[39;00m j \u001b[38;5;129;01min\u001b[39;00m kyobo\u001b[38;5;241m.\u001b[39mfind_all(\u001b[38;5;124m'\u001b[39m\u001b[38;5;124mspan\u001b[39m\u001b[38;5;124m'\u001b[39m, {\u001b[38;5;124m'\u001b[39m\u001b[38;5;124mclass\u001b[39m\u001b[38;5;124m'\u001b[39m:\u001b[38;5;124m'\u001b[39m\u001b[38;5;124mprod_name\u001b[39m\u001b[38;5;124m'\u001b[39m}):\n\u001b[0;32m     21\u001b[0m     \u001b[38;5;28;01mif\u001b[39;00m num \u001b[38;5;241m<\u001b[39m\u001b[38;5;241m=\u001b[39m \u001b[38;5;241m10\u001b[39m:\n\u001b[1;32m---> 22\u001b[0m         box \u001b[38;5;241m=\u001b[39m \u001b[43mdriver\u001b[49m\u001b[38;5;241;43m.\u001b[39;49m\u001b[43mfind_element\u001b[49m\u001b[43m(\u001b[49m\u001b[43mBy\u001b[49m\u001b[38;5;241;43m.\u001b[39;49m\u001b[43mXPATH\u001b[49m\u001b[43m,\u001b[49m\u001b[43m \u001b[49m\u001b[43mvalue\u001b[49m\u001b[38;5;241;43m=\u001b[39;49m\u001b[38;5;124;43m'\u001b[39;49m\u001b[38;5;124;43m//*[@id=\u001b[39;49m\u001b[38;5;124;43m\"\u001b[39;49m\u001b[38;5;124;43mtabRoot\u001b[39;49m\u001b[38;5;124;43m\"\u001b[39;49m\u001b[38;5;124;43m]/div[3]/ol[1]/li[\u001b[39;49m\u001b[38;5;124;43m'\u001b[39;49m\u001b[38;5;241;43m+\u001b[39;49m\u001b[38;5;28;43mstr\u001b[39;49m\u001b[43m(\u001b[49m\u001b[43mnum\u001b[49m\u001b[43m)\u001b[49m\u001b[38;5;241;43m+\u001b[39;49m\u001b[38;5;124;43m'\u001b[39;49m\u001b[38;5;124;43m]/div[2]/div[2]/a/span\u001b[39;49m\u001b[38;5;124;43m'\u001b[39;49m\u001b[43m)\u001b[49m\n\u001b[0;32m     24\u001b[0m     \u001b[38;5;28;01melse\u001b[39;00m:\n\u001b[0;32m     25\u001b[0m         num\u001b[38;5;241m=\u001b[39m\u001b[38;5;241m1\u001b[39m\n",
      "File \u001b[1;32m~\\anaconda3\\lib\\site-packages\\selenium\\webdriver\\remote\\webdriver.py:740\u001b[0m, in \u001b[0;36mWebDriver.find_element\u001b[1;34m(self, by, value)\u001b[0m\n\u001b[0;32m    737\u001b[0m     by \u001b[38;5;241m=\u001b[39m By\u001b[38;5;241m.\u001b[39mCSS_SELECTOR\n\u001b[0;32m    738\u001b[0m     value \u001b[38;5;241m=\u001b[39m \u001b[38;5;124mf\u001b[39m\u001b[38;5;124m'\u001b[39m\u001b[38;5;124m[name=\u001b[39m\u001b[38;5;124m\"\u001b[39m\u001b[38;5;132;01m{\u001b[39;00mvalue\u001b[38;5;132;01m}\u001b[39;00m\u001b[38;5;124m\"\u001b[39m\u001b[38;5;124m]\u001b[39m\u001b[38;5;124m'\u001b[39m\n\u001b[1;32m--> 740\u001b[0m \u001b[38;5;28;01mreturn\u001b[39;00m \u001b[38;5;28;43mself\u001b[39;49m\u001b[38;5;241;43m.\u001b[39;49m\u001b[43mexecute\u001b[49m\u001b[43m(\u001b[49m\u001b[43mCommand\u001b[49m\u001b[38;5;241;43m.\u001b[39;49m\u001b[43mFIND_ELEMENT\u001b[49m\u001b[43m,\u001b[49m\u001b[43m \u001b[49m\u001b[43m{\u001b[49m\u001b[38;5;124;43m\"\u001b[39;49m\u001b[38;5;124;43musing\u001b[39;49m\u001b[38;5;124;43m\"\u001b[39;49m\u001b[43m:\u001b[49m\u001b[43m \u001b[49m\u001b[43mby\u001b[49m\u001b[43m,\u001b[49m\u001b[43m \u001b[49m\u001b[38;5;124;43m\"\u001b[39;49m\u001b[38;5;124;43mvalue\u001b[39;49m\u001b[38;5;124;43m\"\u001b[39;49m\u001b[43m:\u001b[49m\u001b[43m \u001b[49m\u001b[43mvalue\u001b[49m\u001b[43m}\u001b[49m\u001b[43m)\u001b[49m[\u001b[38;5;124m\"\u001b[39m\u001b[38;5;124mvalue\u001b[39m\u001b[38;5;124m\"\u001b[39m]\n",
      "File \u001b[1;32m~\\anaconda3\\lib\\site-packages\\selenium\\webdriver\\remote\\webdriver.py:346\u001b[0m, in \u001b[0;36mWebDriver.execute\u001b[1;34m(self, driver_command, params)\u001b[0m\n\u001b[0;32m    344\u001b[0m response \u001b[38;5;241m=\u001b[39m \u001b[38;5;28mself\u001b[39m\u001b[38;5;241m.\u001b[39mcommand_executor\u001b[38;5;241m.\u001b[39mexecute(driver_command, params)\n\u001b[0;32m    345\u001b[0m \u001b[38;5;28;01mif\u001b[39;00m response:\n\u001b[1;32m--> 346\u001b[0m     \u001b[38;5;28;43mself\u001b[39;49m\u001b[38;5;241;43m.\u001b[39;49m\u001b[43merror_handler\u001b[49m\u001b[38;5;241;43m.\u001b[39;49m\u001b[43mcheck_response\u001b[49m\u001b[43m(\u001b[49m\u001b[43mresponse\u001b[49m\u001b[43m)\u001b[49m\n\u001b[0;32m    347\u001b[0m     response[\u001b[38;5;124m\"\u001b[39m\u001b[38;5;124mvalue\u001b[39m\u001b[38;5;124m\"\u001b[39m] \u001b[38;5;241m=\u001b[39m \u001b[38;5;28mself\u001b[39m\u001b[38;5;241m.\u001b[39m_unwrap_value(response\u001b[38;5;241m.\u001b[39mget(\u001b[38;5;124m\"\u001b[39m\u001b[38;5;124mvalue\u001b[39m\u001b[38;5;124m\"\u001b[39m, \u001b[38;5;28;01mNone\u001b[39;00m))\n\u001b[0;32m    348\u001b[0m     \u001b[38;5;28;01mreturn\u001b[39;00m response\n",
      "File \u001b[1;32m~\\anaconda3\\lib\\site-packages\\selenium\\webdriver\\remote\\errorhandler.py:245\u001b[0m, in \u001b[0;36mErrorHandler.check_response\u001b[1;34m(self, response)\u001b[0m\n\u001b[0;32m    243\u001b[0m         alert_text \u001b[38;5;241m=\u001b[39m value[\u001b[38;5;124m\"\u001b[39m\u001b[38;5;124malert\u001b[39m\u001b[38;5;124m\"\u001b[39m]\u001b[38;5;241m.\u001b[39mget(\u001b[38;5;124m\"\u001b[39m\u001b[38;5;124mtext\u001b[39m\u001b[38;5;124m\"\u001b[39m)\n\u001b[0;32m    244\u001b[0m     \u001b[38;5;28;01mraise\u001b[39;00m exception_class(message, screen, stacktrace, alert_text)  \u001b[38;5;66;03m# type: ignore[call-arg]  # mypy is not smart enough here\u001b[39;00m\n\u001b[1;32m--> 245\u001b[0m \u001b[38;5;28;01mraise\u001b[39;00m exception_class(message, screen, stacktrace)\n",
      "\u001b[1;31mNoSuchElementException\u001b[0m: Message: no such element: Unable to locate element: {\"method\":\"xpath\",\"selector\":\"//*[@id=\"tabRoot\"]/div[3]/ol[1]/li[3]/div[2]/div[2]/a/span\"}\n  (Session info: chrome=114.0.5735.134); For documentation on this error, please visit: https://www.selenium.dev/documentation/webdriver/troubleshooting/errors#no-such-element-exception\nStacktrace:\nBacktrace:\n\tGetHandleVerifier [0x00B5A813+48355]\n\t(No symbol) [0x00AEC4B1]\n\t(No symbol) [0x009F5358]\n\t(No symbol) [0x00A209A5]\n\t(No symbol) [0x00A20B3B]\n\t(No symbol) [0x00A4E232]\n\t(No symbol) [0x00A3A784]\n\t(No symbol) [0x00A4C922]\n\t(No symbol) [0x00A3A536]\n\t(No symbol) [0x00A182DC]\n\t(No symbol) [0x00A193DD]\n\tGetHandleVerifier [0x00DBAABD+2539405]\n\tGetHandleVerifier [0x00DFA78F+2800735]\n\tGetHandleVerifier [0x00DF456C+2775612]\n\tGetHandleVerifier [0x00BE51E0+616112]\n\t(No symbol) [0x00AF5F8C]\n\t(No symbol) [0x00AF2328]\n\t(No symbol) [0x00AF240B]\n\t(No symbol) [0x00AE4FF7]\n\tBaseThreadInitThunk [0x767B7D59+25]\n\tRtlInitializeExceptionChain [0x771BB74B+107]\n\tRtlClearBits [0x771BB6CF+191]\n"
     ]
    }
   ],
   "source": [
    "from selenium.webdriver.common.by import By\n",
    "from selenium.webdriver.common.keys import Keys\n",
    "from selenium.webdriver import Chrome\n",
    "from bs4 import BeautifulSoup\n",
    "import time\n",
    "\n",
    "driver = Chrome()\n",
    "\n",
    "url = f\"https://product.kyobobook.co.kr/bestseller/total?period=003#?page=2&per=20&period=003&ymw=&bsslBksClstCode=A\"\n",
    "\n",
    "driver.get(url)\n",
    "time.sleep(5)\n",
    "\n",
    "response = driver.page_source     \n",
    "kyobo = BeautifulSoup(response)\n",
    "time.sleep(1)\n",
    "\n",
    "num = 1\n",
    "for j in kyobo.find_all('span', {'class':'prod_name'}):\n",
    "    \n",
    "    if num <= 10:\n",
    "        box = driver.find_element(By.XPATH, value='//*[@id=\"tabRoot\"]/div[3]/ol[1]/li['+str(num)+']/div[2]/div[2]/a/span')\n",
    "\n",
    "    else:\n",
    "        num=1\n",
    "        box = driver.find_element(By.XPATH, value='//*[@id=\"tabRoot\"]/div[3]/ol[2]/li['+str(num)+']/div[2]/div[2]/a/span')\n",
    "    \n",
    "    print(box)    \n",
    "    try :\n",
    "        box.click()\n",
    "    except :\n",
    "        pass\n",
    "\n",
    "    time.sleep(1)\n",
    "    driver.back()\n",
    "    time.sleep(7)\n",
    "    num+=1\n"
   ]
  },
  {
   "cell_type": "code",
   "execution_count": null,
   "id": "d166e16a",
   "metadata": {},
   "outputs": [],
   "source": []
  },
  {
   "cell_type": "code",
   "execution_count": null,
   "id": "e70b4316",
   "metadata": {},
   "outputs": [],
   "source": [
    "번호(ISBN) | 제목 | 장르 | 저자(지은이) |  평점(0.1~10.0) | 가격(판매가) | ( 발행일자 )"
   ]
  },
  {
   "cell_type": "code",
   "execution_count": 39,
   "id": "0e810336",
   "metadata": {},
   "outputs": [
    {
     "name": "stdout",
     "output_type": "stream",
     "text": [
      "[['9791168473690', '세이노의 가르침', '자기계발', '세이노(SayNo)', '9.3', '6,480원', '2023년03월02일']]\n",
      "=========================================================================================================\n",
      "[['9791168415232', '흔한남매 13', '어린이(초등)', '흔한남매', '9.9', '13,050원', '2023년04월25일']]\n",
      "=========================================================================================================\n",
      "[['9791188331888', '사장학개론', '경제/경영', '김승호', '9.9', '22,500원', '2023년04월19일']]\n",
      "=========================================================================================================\n",
      "[['9791188331888', '사장학개론', '경제/경영', '김승호', '9.9', '22,500원', '2023년04월19일']]\n"
     ]
    }
   ],
   "source": [
    "from selenium.webdriver import Chrome\n",
    "from bs4 import BeautifulSoup\n",
    "import time\n",
    "\n",
    "url = \"https://product.kyobobook.co.kr/bestseller/total?period=003#?page=1&per=20&period=003&ymw=202305&bsslBksClstCode=A\"\n",
    "\n",
    "chrome = Chrome()\n",
    "chrome.get(url)\n",
    "\n",
    "time.sleep(3)\n",
    "soup = BeautifulSoup(chrome.page_source)\n",
    "\n",
    "time.sleep(1)\n",
    "chrome.close()\n",
    "\n",
    "kyobo_atag = soup.find_all('a', {'class':'prod_info'})\n",
    "\n",
    "for url in kyobo_atag[:3]:\n",
    "    kyobo_list = []\n",
    "    kyobo_url = url.attrs['href']\n",
    "\n",
    "    driver = Chrome()\n",
    "    driver.get(kyobo_url)\n",
    "    time.sleep(2)\n",
    "    \n",
    "    bs = BeautifulSoup(driver.page_source)\n",
    "    \n",
    "    kyobo_isbn = bs.select_one(\"div.tbl_row_wrap > table > tbody > tr:nth-child(1) > td\")\n",
    "    isbn = kyobo_isbn.text\n",
    "    \n",
    "    kyobo_name = bs.select_one(\"div.auto_overflow_contents > div > h1 > span\")\n",
    "    name = kyobo_name.text\n",
    "    \n",
    "    kyobo_genre = bs.select_one(\"div.intro_book > ul > li:nth-child(1) > a:nth-child(3)\")\n",
    "    genre = kyobo_genre.text\n",
    "\n",
    "    kyobo_writer = bs.select_one(\"div.auto_overflow_contents > div > div > a:nth-child(1)\")\n",
    "    writer = kyobo_writer.text\n",
    "    \n",
    "    kyobo_score = bs.select_one(\"div.prod_review_box > div:nth-child(1) > span.review_score.feel_lucky\")\n",
    "    score = kyobo_score.text\n",
    "    \n",
    "    kyobo_price = bs.select_one(\"div.prod_price_wrap > div.prod_price_box > div > span.price > span\")\n",
    "    price = kyobo_price.text\n",
    "    \n",
    "    kyobo_date = bs.select_one(\"div.tbl_row_wrap > table > tbody > tr:nth-child(2) > td\")\n",
    "    date = kyobo_date.text.replace(\"\\n\",\"\").replace(\" \",\"\")\n",
    "    \n",
    "    kyobo_list.append([isbn, name, genre, writer, score, price, date])\n",
    "    print(kyobo_list)\n",
    "    \n",
    " \n",
    "    time.sleep(2)    \n",
    "    driver.close()\n",
    "    "
   ]
  },
  {
   "cell_type": "code",
   "execution_count": null,
   "id": "ef491841",
   "metadata": {},
   "outputs": [],
   "source": []
  },
  {
   "cell_type": "code",
   "execution_count": null,
   "id": "ca5dc0fb",
   "metadata": {},
   "outputs": [],
   "source": []
  },
  {
   "cell_type": "markdown",
   "id": "38bbc49a",
   "metadata": {},
   "source": [
    "## ======================================================"
   ]
  },
  {
   "cell_type": "code",
   "execution_count": null,
   "id": "c86b7c84",
   "metadata": {},
   "outputs": [],
   "source": []
  },
  {
   "cell_type": "code",
   "execution_count": 4,
   "id": "d5e51bf1",
   "metadata": {},
   "outputs": [
    {
     "ename": "KeyboardInterrupt",
     "evalue": "",
     "output_type": "error",
     "traceback": [
      "\u001b[1;31m---------------------------------------------------------------------------\u001b[0m",
      "\u001b[1;31mKeyboardInterrupt\u001b[0m                         Traceback (most recent call last)",
      "Cell \u001b[1;32mIn[4], line 105\u001b[0m\n\u001b[0;32m    100\u001b[0m             year \u001b[38;5;241m+\u001b[39m\u001b[38;5;241m=\u001b[39m (i\u001b[38;5;241m-\u001b[39m\u001b[38;5;241m6\u001b[39m)\n\u001b[0;32m    102\u001b[0m         kyobo_book(year)\n\u001b[1;32m--> 105\u001b[0m \u001b[43msearch_day\u001b[49m\u001b[43m(\u001b[49m\u001b[43m)\u001b[49m\n",
      "Cell \u001b[1;32mIn[4], line 102\u001b[0m, in \u001b[0;36msearch_day\u001b[1;34m()\u001b[0m\n\u001b[0;32m     99\u001b[0m     year \u001b[38;5;241m=\u001b[39m \u001b[38;5;241m2300\u001b[39m\n\u001b[0;32m    100\u001b[0m     year \u001b[38;5;241m+\u001b[39m\u001b[38;5;241m=\u001b[39m (i\u001b[38;5;241m-\u001b[39m\u001b[38;5;241m6\u001b[39m)\n\u001b[1;32m--> 102\u001b[0m \u001b[43mkyobo_book\u001b[49m\u001b[43m(\u001b[49m\u001b[43myear\u001b[49m\u001b[43m)\u001b[49m\n",
      "Cell \u001b[1;32mIn[4], line 13\u001b[0m, in \u001b[0;36mkyobo_book\u001b[1;34m(value)\u001b[0m\n\u001b[0;32m     10\u001b[0m url \u001b[38;5;241m=\u001b[39m \u001b[38;5;124mf\u001b[39m\u001b[38;5;124m\"\u001b[39m\u001b[38;5;124mhttps://product.kyobobook.co.kr/bestseller/total?period=003#?page=1&per=20&period=003&ymw=20\u001b[39m\u001b[38;5;132;01m{\u001b[39;00mvalue\u001b[38;5;132;01m}\u001b[39;00m\u001b[38;5;124m&bsslBksClstCode=A\u001b[39m\u001b[38;5;124m\"\u001b[39m\n\u001b[0;32m     12\u001b[0m chrome \u001b[38;5;241m=\u001b[39m Chrome()\n\u001b[1;32m---> 13\u001b[0m \u001b[43mchrome\u001b[49m\u001b[38;5;241;43m.\u001b[39;49m\u001b[43mget\u001b[49m\u001b[43m(\u001b[49m\u001b[43murl\u001b[49m\u001b[43m)\u001b[49m\n\u001b[0;32m     15\u001b[0m time\u001b[38;5;241m.\u001b[39msleep(\u001b[38;5;241m3\u001b[39m)\n\u001b[0;32m     16\u001b[0m soup \u001b[38;5;241m=\u001b[39m BeautifulSoup(chrome\u001b[38;5;241m.\u001b[39mpage_source)\n",
      "File \u001b[1;32m~\\anaconda3\\lib\\site-packages\\selenium\\webdriver\\remote\\webdriver.py:355\u001b[0m, in \u001b[0;36mWebDriver.get\u001b[1;34m(self, url)\u001b[0m\n\u001b[0;32m    353\u001b[0m \u001b[38;5;28;01mdef\u001b[39;00m \u001b[38;5;21mget\u001b[39m(\u001b[38;5;28mself\u001b[39m, url: \u001b[38;5;28mstr\u001b[39m) \u001b[38;5;241m-\u001b[39m\u001b[38;5;241m>\u001b[39m \u001b[38;5;28;01mNone\u001b[39;00m:\n\u001b[0;32m    354\u001b[0m     \u001b[38;5;124;03m\"\"\"Loads a web page in the current browser session.\"\"\"\u001b[39;00m\n\u001b[1;32m--> 355\u001b[0m     \u001b[38;5;28;43mself\u001b[39;49m\u001b[38;5;241;43m.\u001b[39;49m\u001b[43mexecute\u001b[49m\u001b[43m(\u001b[49m\u001b[43mCommand\u001b[49m\u001b[38;5;241;43m.\u001b[39;49m\u001b[43mGET\u001b[49m\u001b[43m,\u001b[49m\u001b[43m \u001b[49m\u001b[43m{\u001b[49m\u001b[38;5;124;43m\"\u001b[39;49m\u001b[38;5;124;43murl\u001b[39;49m\u001b[38;5;124;43m\"\u001b[39;49m\u001b[43m:\u001b[49m\u001b[43m \u001b[49m\u001b[43murl\u001b[49m\u001b[43m}\u001b[49m\u001b[43m)\u001b[49m\n",
      "File \u001b[1;32m~\\anaconda3\\lib\\site-packages\\selenium\\webdriver\\remote\\webdriver.py:344\u001b[0m, in \u001b[0;36mWebDriver.execute\u001b[1;34m(self, driver_command, params)\u001b[0m\n\u001b[0;32m    341\u001b[0m     \u001b[38;5;28;01melif\u001b[39;00m \u001b[38;5;124m\"\u001b[39m\u001b[38;5;124msessionId\u001b[39m\u001b[38;5;124m\"\u001b[39m \u001b[38;5;129;01mnot\u001b[39;00m \u001b[38;5;129;01min\u001b[39;00m params:\n\u001b[0;32m    342\u001b[0m         params[\u001b[38;5;124m\"\u001b[39m\u001b[38;5;124msessionId\u001b[39m\u001b[38;5;124m\"\u001b[39m] \u001b[38;5;241m=\u001b[39m \u001b[38;5;28mself\u001b[39m\u001b[38;5;241m.\u001b[39msession_id\n\u001b[1;32m--> 344\u001b[0m response \u001b[38;5;241m=\u001b[39m \u001b[38;5;28;43mself\u001b[39;49m\u001b[38;5;241;43m.\u001b[39;49m\u001b[43mcommand_executor\u001b[49m\u001b[38;5;241;43m.\u001b[39;49m\u001b[43mexecute\u001b[49m\u001b[43m(\u001b[49m\u001b[43mdriver_command\u001b[49m\u001b[43m,\u001b[49m\u001b[43m \u001b[49m\u001b[43mparams\u001b[49m\u001b[43m)\u001b[49m\n\u001b[0;32m    345\u001b[0m \u001b[38;5;28;01mif\u001b[39;00m response:\n\u001b[0;32m    346\u001b[0m     \u001b[38;5;28mself\u001b[39m\u001b[38;5;241m.\u001b[39merror_handler\u001b[38;5;241m.\u001b[39mcheck_response(response)\n",
      "File \u001b[1;32m~\\anaconda3\\lib\\site-packages\\selenium\\webdriver\\remote\\remote_connection.py:290\u001b[0m, in \u001b[0;36mRemoteConnection.execute\u001b[1;34m(self, command, params)\u001b[0m\n\u001b[0;32m    288\u001b[0m data \u001b[38;5;241m=\u001b[39m utils\u001b[38;5;241m.\u001b[39mdump_json(params)\n\u001b[0;32m    289\u001b[0m url \u001b[38;5;241m=\u001b[39m \u001b[38;5;124mf\u001b[39m\u001b[38;5;124m\"\u001b[39m\u001b[38;5;132;01m{\u001b[39;00m\u001b[38;5;28mself\u001b[39m\u001b[38;5;241m.\u001b[39m_url\u001b[38;5;132;01m}\u001b[39;00m\u001b[38;5;132;01m{\u001b[39;00mpath\u001b[38;5;132;01m}\u001b[39;00m\u001b[38;5;124m\"\u001b[39m\n\u001b[1;32m--> 290\u001b[0m \u001b[38;5;28;01mreturn\u001b[39;00m \u001b[38;5;28;43mself\u001b[39;49m\u001b[38;5;241;43m.\u001b[39;49m\u001b[43m_request\u001b[49m\u001b[43m(\u001b[49m\u001b[43mcommand_info\u001b[49m\u001b[43m[\u001b[49m\u001b[38;5;241;43m0\u001b[39;49m\u001b[43m]\u001b[49m\u001b[43m,\u001b[49m\u001b[43m \u001b[49m\u001b[43murl\u001b[49m\u001b[43m,\u001b[49m\u001b[43m \u001b[49m\u001b[43mbody\u001b[49m\u001b[38;5;241;43m=\u001b[39;49m\u001b[43mdata\u001b[49m\u001b[43m)\u001b[49m\n",
      "File \u001b[1;32m~\\anaconda3\\lib\\site-packages\\selenium\\webdriver\\remote\\remote_connection.py:311\u001b[0m, in \u001b[0;36mRemoteConnection._request\u001b[1;34m(self, method, url, body)\u001b[0m\n\u001b[0;32m    308\u001b[0m     body \u001b[38;5;241m=\u001b[39m \u001b[38;5;28;01mNone\u001b[39;00m\n\u001b[0;32m    310\u001b[0m \u001b[38;5;28;01mif\u001b[39;00m \u001b[38;5;28mself\u001b[39m\u001b[38;5;241m.\u001b[39mkeep_alive:\n\u001b[1;32m--> 311\u001b[0m     response \u001b[38;5;241m=\u001b[39m \u001b[38;5;28;43mself\u001b[39;49m\u001b[38;5;241;43m.\u001b[39;49m\u001b[43m_conn\u001b[49m\u001b[38;5;241;43m.\u001b[39;49m\u001b[43mrequest\u001b[49m\u001b[43m(\u001b[49m\u001b[43mmethod\u001b[49m\u001b[43m,\u001b[49m\u001b[43m \u001b[49m\u001b[43murl\u001b[49m\u001b[43m,\u001b[49m\u001b[43m \u001b[49m\u001b[43mbody\u001b[49m\u001b[38;5;241;43m=\u001b[39;49m\u001b[43mbody\u001b[49m\u001b[43m,\u001b[49m\u001b[43m \u001b[49m\u001b[43mheaders\u001b[49m\u001b[38;5;241;43m=\u001b[39;49m\u001b[43mheaders\u001b[49m\u001b[43m)\u001b[49m\n\u001b[0;32m    312\u001b[0m     statuscode \u001b[38;5;241m=\u001b[39m response\u001b[38;5;241m.\u001b[39mstatus\n\u001b[0;32m    313\u001b[0m \u001b[38;5;28;01melse\u001b[39;00m:\n",
      "File \u001b[1;32m~\\anaconda3\\lib\\site-packages\\urllib3\\request.py:78\u001b[0m, in \u001b[0;36mRequestMethods.request\u001b[1;34m(self, method, url, fields, headers, **urlopen_kw)\u001b[0m\n\u001b[0;32m     74\u001b[0m     \u001b[38;5;28;01mreturn\u001b[39;00m \u001b[38;5;28mself\u001b[39m\u001b[38;5;241m.\u001b[39mrequest_encode_url(\n\u001b[0;32m     75\u001b[0m         method, url, fields\u001b[38;5;241m=\u001b[39mfields, headers\u001b[38;5;241m=\u001b[39mheaders, \u001b[38;5;241m*\u001b[39m\u001b[38;5;241m*\u001b[39murlopen_kw\n\u001b[0;32m     76\u001b[0m     )\n\u001b[0;32m     77\u001b[0m \u001b[38;5;28;01melse\u001b[39;00m:\n\u001b[1;32m---> 78\u001b[0m     \u001b[38;5;28;01mreturn\u001b[39;00m \u001b[38;5;28mself\u001b[39m\u001b[38;5;241m.\u001b[39mrequest_encode_body(\n\u001b[0;32m     79\u001b[0m         method, url, fields\u001b[38;5;241m=\u001b[39mfields, headers\u001b[38;5;241m=\u001b[39mheaders, \u001b[38;5;241m*\u001b[39m\u001b[38;5;241m*\u001b[39murlopen_kw\n\u001b[0;32m     80\u001b[0m     )\n",
      "File \u001b[1;32m~\\anaconda3\\lib\\site-packages\\urllib3\\request.py:170\u001b[0m, in \u001b[0;36mRequestMethods.request_encode_body\u001b[1;34m(self, method, url, fields, headers, encode_multipart, multipart_boundary, **urlopen_kw)\u001b[0m\n\u001b[0;32m    167\u001b[0m extra_kw[\u001b[38;5;124m\"\u001b[39m\u001b[38;5;124mheaders\u001b[39m\u001b[38;5;124m\"\u001b[39m]\u001b[38;5;241m.\u001b[39mupdate(headers)\n\u001b[0;32m    168\u001b[0m extra_kw\u001b[38;5;241m.\u001b[39mupdate(urlopen_kw)\n\u001b[1;32m--> 170\u001b[0m \u001b[38;5;28;01mreturn\u001b[39;00m \u001b[38;5;28mself\u001b[39m\u001b[38;5;241m.\u001b[39murlopen(method, url, \u001b[38;5;241m*\u001b[39m\u001b[38;5;241m*\u001b[39mextra_kw)\n",
      "File \u001b[1;32m~\\anaconda3\\lib\\site-packages\\urllib3\\poolmanager.py:376\u001b[0m, in \u001b[0;36mPoolManager.urlopen\u001b[1;34m(self, method, url, redirect, **kw)\u001b[0m\n\u001b[0;32m    374\u001b[0m     response \u001b[38;5;241m=\u001b[39m conn\u001b[38;5;241m.\u001b[39murlopen(method, url, \u001b[38;5;241m*\u001b[39m\u001b[38;5;241m*\u001b[39mkw)\n\u001b[0;32m    375\u001b[0m \u001b[38;5;28;01melse\u001b[39;00m:\n\u001b[1;32m--> 376\u001b[0m     response \u001b[38;5;241m=\u001b[39m conn\u001b[38;5;241m.\u001b[39murlopen(method, u\u001b[38;5;241m.\u001b[39mrequest_uri, \u001b[38;5;241m*\u001b[39m\u001b[38;5;241m*\u001b[39mkw)\n\u001b[0;32m    378\u001b[0m redirect_location \u001b[38;5;241m=\u001b[39m redirect \u001b[38;5;129;01mand\u001b[39;00m response\u001b[38;5;241m.\u001b[39mget_redirect_location()\n\u001b[0;32m    379\u001b[0m \u001b[38;5;28;01mif\u001b[39;00m \u001b[38;5;129;01mnot\u001b[39;00m redirect_location:\n",
      "File \u001b[1;32m~\\anaconda3\\lib\\site-packages\\urllib3\\connectionpool.py:703\u001b[0m, in \u001b[0;36mHTTPConnectionPool.urlopen\u001b[1;34m(self, method, url, body, headers, retries, redirect, assert_same_host, timeout, pool_timeout, release_conn, chunked, body_pos, **response_kw)\u001b[0m\n\u001b[0;32m    700\u001b[0m     \u001b[38;5;28mself\u001b[39m\u001b[38;5;241m.\u001b[39m_prepare_proxy(conn)\n\u001b[0;32m    702\u001b[0m \u001b[38;5;66;03m# Make the request on the httplib connection object.\u001b[39;00m\n\u001b[1;32m--> 703\u001b[0m httplib_response \u001b[38;5;241m=\u001b[39m \u001b[38;5;28;43mself\u001b[39;49m\u001b[38;5;241;43m.\u001b[39;49m\u001b[43m_make_request\u001b[49m\u001b[43m(\u001b[49m\n\u001b[0;32m    704\u001b[0m \u001b[43m    \u001b[49m\u001b[43mconn\u001b[49m\u001b[43m,\u001b[49m\n\u001b[0;32m    705\u001b[0m \u001b[43m    \u001b[49m\u001b[43mmethod\u001b[49m\u001b[43m,\u001b[49m\n\u001b[0;32m    706\u001b[0m \u001b[43m    \u001b[49m\u001b[43murl\u001b[49m\u001b[43m,\u001b[49m\n\u001b[0;32m    707\u001b[0m \u001b[43m    \u001b[49m\u001b[43mtimeout\u001b[49m\u001b[38;5;241;43m=\u001b[39;49m\u001b[43mtimeout_obj\u001b[49m\u001b[43m,\u001b[49m\n\u001b[0;32m    708\u001b[0m \u001b[43m    \u001b[49m\u001b[43mbody\u001b[49m\u001b[38;5;241;43m=\u001b[39;49m\u001b[43mbody\u001b[49m\u001b[43m,\u001b[49m\n\u001b[0;32m    709\u001b[0m \u001b[43m    \u001b[49m\u001b[43mheaders\u001b[49m\u001b[38;5;241;43m=\u001b[39;49m\u001b[43mheaders\u001b[49m\u001b[43m,\u001b[49m\n\u001b[0;32m    710\u001b[0m \u001b[43m    \u001b[49m\u001b[43mchunked\u001b[49m\u001b[38;5;241;43m=\u001b[39;49m\u001b[43mchunked\u001b[49m\u001b[43m,\u001b[49m\n\u001b[0;32m    711\u001b[0m \u001b[43m\u001b[49m\u001b[43m)\u001b[49m\n\u001b[0;32m    713\u001b[0m \u001b[38;5;66;03m# If we're going to release the connection in ``finally:``, then\u001b[39;00m\n\u001b[0;32m    714\u001b[0m \u001b[38;5;66;03m# the response doesn't need to know about the connection. Otherwise\u001b[39;00m\n\u001b[0;32m    715\u001b[0m \u001b[38;5;66;03m# it will also try to release it and we'll have a double-release\u001b[39;00m\n\u001b[0;32m    716\u001b[0m \u001b[38;5;66;03m# mess.\u001b[39;00m\n\u001b[0;32m    717\u001b[0m response_conn \u001b[38;5;241m=\u001b[39m conn \u001b[38;5;28;01mif\u001b[39;00m \u001b[38;5;129;01mnot\u001b[39;00m release_conn \u001b[38;5;28;01melse\u001b[39;00m \u001b[38;5;28;01mNone\u001b[39;00m\n",
      "File \u001b[1;32m~\\anaconda3\\lib\\site-packages\\urllib3\\connectionpool.py:449\u001b[0m, in \u001b[0;36mHTTPConnectionPool._make_request\u001b[1;34m(self, conn, method, url, timeout, chunked, **httplib_request_kw)\u001b[0m\n\u001b[0;32m    444\u001b[0m             httplib_response \u001b[38;5;241m=\u001b[39m conn\u001b[38;5;241m.\u001b[39mgetresponse()\n\u001b[0;32m    445\u001b[0m         \u001b[38;5;28;01mexcept\u001b[39;00m \u001b[38;5;167;01mBaseException\u001b[39;00m \u001b[38;5;28;01mas\u001b[39;00m e:\n\u001b[0;32m    446\u001b[0m             \u001b[38;5;66;03m# Remove the TypeError from the exception chain in\u001b[39;00m\n\u001b[0;32m    447\u001b[0m             \u001b[38;5;66;03m# Python 3 (including for exceptions like SystemExit).\u001b[39;00m\n\u001b[0;32m    448\u001b[0m             \u001b[38;5;66;03m# Otherwise it looks like a bug in the code.\u001b[39;00m\n\u001b[1;32m--> 449\u001b[0m             \u001b[43msix\u001b[49m\u001b[38;5;241;43m.\u001b[39;49m\u001b[43mraise_from\u001b[49m\u001b[43m(\u001b[49m\u001b[43me\u001b[49m\u001b[43m,\u001b[49m\u001b[43m \u001b[49m\u001b[38;5;28;43;01mNone\u001b[39;49;00m\u001b[43m)\u001b[49m\n\u001b[0;32m    450\u001b[0m \u001b[38;5;28;01mexcept\u001b[39;00m (SocketTimeout, BaseSSLError, SocketError) \u001b[38;5;28;01mas\u001b[39;00m e:\n\u001b[0;32m    451\u001b[0m     \u001b[38;5;28mself\u001b[39m\u001b[38;5;241m.\u001b[39m_raise_timeout(err\u001b[38;5;241m=\u001b[39me, url\u001b[38;5;241m=\u001b[39murl, timeout_value\u001b[38;5;241m=\u001b[39mread_timeout)\n",
      "File \u001b[1;32m<string>:3\u001b[0m, in \u001b[0;36mraise_from\u001b[1;34m(value, from_value)\u001b[0m\n",
      "File \u001b[1;32m~\\anaconda3\\lib\\site-packages\\urllib3\\connectionpool.py:444\u001b[0m, in \u001b[0;36mHTTPConnectionPool._make_request\u001b[1;34m(self, conn, method, url, timeout, chunked, **httplib_request_kw)\u001b[0m\n\u001b[0;32m    441\u001b[0m \u001b[38;5;28;01mexcept\u001b[39;00m \u001b[38;5;167;01mTypeError\u001b[39;00m:\n\u001b[0;32m    442\u001b[0m     \u001b[38;5;66;03m# Python 3\u001b[39;00m\n\u001b[0;32m    443\u001b[0m     \u001b[38;5;28;01mtry\u001b[39;00m:\n\u001b[1;32m--> 444\u001b[0m         httplib_response \u001b[38;5;241m=\u001b[39m \u001b[43mconn\u001b[49m\u001b[38;5;241;43m.\u001b[39;49m\u001b[43mgetresponse\u001b[49m\u001b[43m(\u001b[49m\u001b[43m)\u001b[49m\n\u001b[0;32m    445\u001b[0m     \u001b[38;5;28;01mexcept\u001b[39;00m \u001b[38;5;167;01mBaseException\u001b[39;00m \u001b[38;5;28;01mas\u001b[39;00m e:\n\u001b[0;32m    446\u001b[0m         \u001b[38;5;66;03m# Remove the TypeError from the exception chain in\u001b[39;00m\n\u001b[0;32m    447\u001b[0m         \u001b[38;5;66;03m# Python 3 (including for exceptions like SystemExit).\u001b[39;00m\n\u001b[0;32m    448\u001b[0m         \u001b[38;5;66;03m# Otherwise it looks like a bug in the code.\u001b[39;00m\n\u001b[0;32m    449\u001b[0m         six\u001b[38;5;241m.\u001b[39mraise_from(e, \u001b[38;5;28;01mNone\u001b[39;00m)\n",
      "File \u001b[1;32m~\\anaconda3\\lib\\http\\client.py:1374\u001b[0m, in \u001b[0;36mHTTPConnection.getresponse\u001b[1;34m(self)\u001b[0m\n\u001b[0;32m   1372\u001b[0m \u001b[38;5;28;01mtry\u001b[39;00m:\n\u001b[0;32m   1373\u001b[0m     \u001b[38;5;28;01mtry\u001b[39;00m:\n\u001b[1;32m-> 1374\u001b[0m         \u001b[43mresponse\u001b[49m\u001b[38;5;241;43m.\u001b[39;49m\u001b[43mbegin\u001b[49m\u001b[43m(\u001b[49m\u001b[43m)\u001b[49m\n\u001b[0;32m   1375\u001b[0m     \u001b[38;5;28;01mexcept\u001b[39;00m \u001b[38;5;167;01mConnectionError\u001b[39;00m:\n\u001b[0;32m   1376\u001b[0m         \u001b[38;5;28mself\u001b[39m\u001b[38;5;241m.\u001b[39mclose()\n",
      "File \u001b[1;32m~\\anaconda3\\lib\\http\\client.py:318\u001b[0m, in \u001b[0;36mHTTPResponse.begin\u001b[1;34m(self)\u001b[0m\n\u001b[0;32m    316\u001b[0m \u001b[38;5;66;03m# read until we get a non-100 response\u001b[39;00m\n\u001b[0;32m    317\u001b[0m \u001b[38;5;28;01mwhile\u001b[39;00m \u001b[38;5;28;01mTrue\u001b[39;00m:\n\u001b[1;32m--> 318\u001b[0m     version, status, reason \u001b[38;5;241m=\u001b[39m \u001b[38;5;28;43mself\u001b[39;49m\u001b[38;5;241;43m.\u001b[39;49m\u001b[43m_read_status\u001b[49m\u001b[43m(\u001b[49m\u001b[43m)\u001b[49m\n\u001b[0;32m    319\u001b[0m     \u001b[38;5;28;01mif\u001b[39;00m status \u001b[38;5;241m!=\u001b[39m CONTINUE:\n\u001b[0;32m    320\u001b[0m         \u001b[38;5;28;01mbreak\u001b[39;00m\n",
      "File \u001b[1;32m~\\anaconda3\\lib\\http\\client.py:279\u001b[0m, in \u001b[0;36mHTTPResponse._read_status\u001b[1;34m(self)\u001b[0m\n\u001b[0;32m    278\u001b[0m \u001b[38;5;28;01mdef\u001b[39;00m \u001b[38;5;21m_read_status\u001b[39m(\u001b[38;5;28mself\u001b[39m):\n\u001b[1;32m--> 279\u001b[0m     line \u001b[38;5;241m=\u001b[39m \u001b[38;5;28mstr\u001b[39m(\u001b[38;5;28;43mself\u001b[39;49m\u001b[38;5;241;43m.\u001b[39;49m\u001b[43mfp\u001b[49m\u001b[38;5;241;43m.\u001b[39;49m\u001b[43mreadline\u001b[49m\u001b[43m(\u001b[49m\u001b[43m_MAXLINE\u001b[49m\u001b[43m \u001b[49m\u001b[38;5;241;43m+\u001b[39;49m\u001b[43m \u001b[49m\u001b[38;5;241;43m1\u001b[39;49m\u001b[43m)\u001b[49m, \u001b[38;5;124m\"\u001b[39m\u001b[38;5;124miso-8859-1\u001b[39m\u001b[38;5;124m\"\u001b[39m)\n\u001b[0;32m    280\u001b[0m     \u001b[38;5;28;01mif\u001b[39;00m \u001b[38;5;28mlen\u001b[39m(line) \u001b[38;5;241m>\u001b[39m _MAXLINE:\n\u001b[0;32m    281\u001b[0m         \u001b[38;5;28;01mraise\u001b[39;00m LineTooLong(\u001b[38;5;124m\"\u001b[39m\u001b[38;5;124mstatus line\u001b[39m\u001b[38;5;124m\"\u001b[39m)\n",
      "File \u001b[1;32m~\\anaconda3\\lib\\socket.py:705\u001b[0m, in \u001b[0;36mSocketIO.readinto\u001b[1;34m(self, b)\u001b[0m\n\u001b[0;32m    703\u001b[0m \u001b[38;5;28;01mwhile\u001b[39;00m \u001b[38;5;28;01mTrue\u001b[39;00m:\n\u001b[0;32m    704\u001b[0m     \u001b[38;5;28;01mtry\u001b[39;00m:\n\u001b[1;32m--> 705\u001b[0m         \u001b[38;5;28;01mreturn\u001b[39;00m \u001b[38;5;28;43mself\u001b[39;49m\u001b[38;5;241;43m.\u001b[39;49m\u001b[43m_sock\u001b[49m\u001b[38;5;241;43m.\u001b[39;49m\u001b[43mrecv_into\u001b[49m\u001b[43m(\u001b[49m\u001b[43mb\u001b[49m\u001b[43m)\u001b[49m\n\u001b[0;32m    706\u001b[0m     \u001b[38;5;28;01mexcept\u001b[39;00m timeout:\n\u001b[0;32m    707\u001b[0m         \u001b[38;5;28mself\u001b[39m\u001b[38;5;241m.\u001b[39m_timeout_occurred \u001b[38;5;241m=\u001b[39m \u001b[38;5;28;01mTrue\u001b[39;00m\n",
      "\u001b[1;31mKeyboardInterrupt\u001b[0m: "
     ]
    }
   ],
   "source": [
    "from selenium.webdriver import Chrome\n",
    "from bs4 import BeautifulSoup\n",
    "import numpy as np\n",
    "import pandas as pd\n",
    "import time, os\n",
    "\n",
    "\n",
    "def kyobo_book(value):\n",
    "\n",
    "    url = f\"https://product.kyobobook.co.kr/bestseller/total?period=003#?page=1&per=20&period=003&ymw=20{value}&bsslBksClstCode=A\"\n",
    "\n",
    "    chrome = Chrome()\n",
    "    chrome.get(url)\n",
    "\n",
    "    time.sleep(3)\n",
    "    soup = BeautifulSoup(chrome.page_source)\n",
    "\n",
    "    time.sleep(1)\n",
    "    chrome.close()\n",
    "\n",
    "    kyobo_atag = soup.find_all('a', {'class':'prod_info'})\n",
    "    \n",
    "    try : \n",
    "        kyobo_list = []\n",
    "        for url in kyobo_atag:\n",
    "\n",
    "            kyobo_url = url.attrs['href']\n",
    "\n",
    "            driver = Chrome()\n",
    "            driver.get(kyobo_url)\n",
    "            time.sleep(2)\n",
    "\n",
    "            bs = BeautifulSoup(driver.page_source)\n",
    "\n",
    "            kyobo_isbn = bs.select_one(\"div.tbl_row_wrap > table > tbody > tr:nth-child(1) > td\")\n",
    "            isbn = kyobo_isbn.text\n",
    "\n",
    "            kyobo_name = bs.select_one(\"div.auto_overflow_contents > div > h1 > span\")\n",
    "            name = kyobo_name.text\n",
    "\n",
    "            kyobo_genre = bs.select_one(\"div.intro_book > ul > li:nth-child(1) > a:nth-child(3)\")\n",
    "            genre = kyobo_genre.text\n",
    "\n",
    "            kyobo_writer = bs.select_one(\"div.auto_overflow_contents > div > div > a:nth-child(1)\")\n",
    "            writer = kyobo_writer.text\n",
    "\n",
    "            kyobo_score = bs.select_one(\"div.prod_review_box > div:nth-child(1) > span.review_score.feel_lucky\")\n",
    "            score = kyobo_score.text\n",
    "\n",
    "            kyobo_price = bs.select_one(\"div.prod_price_wrap > div.prod_price_box > div > span.price > span\")\n",
    "            price = kyobo_price.text\n",
    "\n",
    "            kyobo_date = bs.select_one(\"div.tbl_row_wrap > table > tbody > tr:nth-child(2) > td\")\n",
    "            date = kyobo_date.text.replace(\"\\n\",\"\").replace(\" \",\"\")[:11]\n",
    "\n",
    "            kyobo_list.append([isbn, name, genre, writer, score, price, date])\n",
    "\n",
    "            time.sleep(2)    \n",
    "            driver.close()\n",
    "\n",
    "        value = str(value)\n",
    "        kyobo_year = \"20\"+ value[:2]\n",
    "        kyobo_month = value[2:]\n",
    "\n",
    "        return make_csv(kyobo_list, kyobo_year, kyobo_month)\n",
    "\n",
    "    except:\n",
    "        pass\n",
    "\n",
    "\n",
    "\n",
    "def make_csv(kyobo_list, kyobo_year, kyobo_month):\n",
    "    \n",
    "    list = ['ISBN', '책 제목', '도서 장르', '저자', '평점', '판매가격', '발행일']\n",
    "    \n",
    "    index_df = pd.DataFrame(columns=list)\n",
    "    index_df.loc[0] = ['', '', '', '', '', '', '']\n",
    "    index_df.index = [str(kyobo_year) + '년' + str(kyobo_month) + '월']\n",
    "        \n",
    "    book_list = pd.DataFrame(np.array(kyobo_list), columns=list)\n",
    "    book_list.index = range(1, len(book_list)+1)\n",
    "    book_list = pd.concat([index_df,book_list])\n",
    "    \n",
    "    if not os.path.exists('KyoboBestSeller.csv') :\n",
    "        book_list.to_csv('KyoboBestSeller.csv', encoding='CP949', mode = 'w')\n",
    "    else :\n",
    "        book_list.to_csv('KyoboBestSeller.csv', encoding='CP949', mode = 'a', header=False)\n",
    "\n",
    "    return print(f\"{kyobo_year}년 {kyobo_month}월 저장완료!\")\n",
    "\n",
    "\n",
    "\n",
    "def search_day():\n",
    "    for i in range(1,12):\n",
    "        if i < 7:\n",
    "            year = 2206\n",
    "            year += i\n",
    "        else:\n",
    "            year = 2300\n",
    "            year += (i-6)\n",
    "    \n",
    "        kyobo_book(year)\n",
    "   \n",
    "  \n",
    "search_day()"
   ]
  },
  {
   "cell_type": "code",
   "execution_count": null,
   "id": "eb5cc806",
   "metadata": {},
   "outputs": [],
   "source": []
  },
  {
   "cell_type": "code",
   "execution_count": null,
   "id": "457631df",
   "metadata": {},
   "outputs": [],
   "source": []
  },
  {
   "cell_type": "code",
   "execution_count": null,
   "id": "ac07b05b",
   "metadata": {},
   "outputs": [],
   "source": []
  },
  {
   "cell_type": "code",
   "execution_count": 140,
   "id": "f09a9402",
   "metadata": {},
   "outputs": [
    {
     "name": "stdout",
     "output_type": "stream",
     "text": [
      "﻿\r\n",
      "<!DOCTYPE html PUBLIC \"-//W3C//DTD XHTML 1.0 Transitional//EN\" \"http://www.w3.org/TR/xhtml1/DTD/xhtml1-transitional.dtd\">\n",
      "\n",
      "<meta charset=\"utf-8\"/>\n",
      "<html xmlns=\"http://www.w3.org/1999/xhtml\">\n",
      "<head>\n",
      "<title> 서비스 점검 - 교보문고 </title>\n",
      "<meta content=\"width=device-width, initial-scale=1.0, maximum-scale=1.0, minimum-scale=1.0, user-scalable=no, target-densitydpi=medium-dpi\" name=\"viewport\"/>\n",
      "<meta content=\"\" name=\"author\">\n",
      "<meta content=\"\" name=\"keywords\">\n",
      "<meta content=\"\" name=\"description\"/>\n",
      "<style type=\"text/css\">\r\n",
      "\t* {padding:0;margin:0;list-style:none;}\r\n",
      "  </style>\n",
      "</meta></meta></head>\n",
      "<body>\n",
      "<style type=\"text/css\">\r\n",
      "\t.errorPage_wrap {width:680px;margin:117px auto 0;}\r\n",
      "\t.errorPage_wrap .logo {font-size: 0; line-height: 0; text-align:center;}\r\n",
      "\t.errorPage_wrap .title {font-size:45px; color:#333; margin:23px 0 0 0; text-align:center;}\r\n",
      "\t.errorPage_wrap .title strong{color:#ff6600;}\r\n",
      "\r\n",
      "\t.errorPage_wrap .errorMsg01_wrap {margin:45px 0 46px;text-align:center; font-size:18px; line-height:1.4; color:#444444;}\r\n",
      "\t.errorPage_wrap .errorMsg01_wrap p.txt01{margin-bottom:20px;}\r\n",
      "\t.errorPage_wrap .errorMsg02_wrap {padding:13px 0 38px; background-color:#eeeeee; font-size:18px; line-height:1.4; color:#444444; border-radius:20px; text-align:center;}\r\n",
      "\t.errorPage_wrap .errorMsg02_wrap .box_title{display:inline-block; margin:22px auto 0; color:#222222; font-weight:bold; border-bottom:2px solid #555;}\r\n",
      "\t.errorPage_wrap .errorMsg02_wrap .box_text{margin-top:8px;;}\r\n",
      "\t.errorPage_wrap .errorMsg03_wrap {margin:50px 0 30px;text-align:center; font-size:18px; line-height:1.4; color:#444444;}\r\n",
      "\t.errorPage_wrap .errorMsg03_wrap p.txt01 {margin-top: 20px;}\r\n",
      "\t.errorPage_wrap .errorMsg03_wrap p.txt01 strong{font-size:24px;line-height:1.4; font-weight:600;}\r\n",
      "\t.errorPage_wrap br {display:none;}\r\n",
      "\r\n",
      "\t@media screen and (max-width:768px){\r\n",
      "\t\t.errorPage_wrap {margin:40px 20px 0;width:auto !important;}\r\n",
      "\t\t.errorPage_wrap .title {font-size:6vw; font-weight:bold;}\r\n",
      "\t\t.errorPage_wrap .errorMsg01_wrap {margin:20px 0; font-size:2.5vw;}\r\n",
      "\t\t.errorPage_wrap .errorMsg02_wrap {padding:5px 20px 25px; font-size:2.5vw;}\r\n",
      "\t\t.errorPage_wrap .errorMsg02_wrap .box_title {margin-top: 15px;}\r\n",
      "\t\t.errorPage_wrap .errorMsg03_wrap {margin:20px 0; font-size:2.5vw;}\r\n",
      "\t\t.errorPage_wrap .errorMsg03_wrap strong{font-size:5vw;}\r\n",
      "\t\t.errorPage_wrap br {display:block;}\r\n",
      "\t} \r\n",
      "\r\n",
      "\t@media screen and (max-width:480px){\r\n",
      "\t\t.errorPage_wrap .logo img{width:120px; height:36px; }\r\n",
      "\t\t.errorPage_wrap .title {font-size:30px; }\r\n",
      "\t\t.errorPage_wrap .errorMsg01_wrap {margin:15px 0; font-size:14px;}\r\n",
      "\t\t.errorPage_wrap .errorMsg02_wrap {padding:0 10px 20px;font-size:14px;}\r\n",
      "\t\t.errorPage_wrap .errorMsg03_wrap {margin:15px 0; font-size:14px;}\r\n",
      "\t} \r\n",
      "\r\n",
      "\r\n",
      "\r\n",
      "</style>\n",
      "<div class=\"errorPage_wrap\">\n",
      "<div class=\"title\">서비스 <strong>점검 중</strong>입니다</div>\n",
      "<div class=\"errorMsg01_wrap\">\n",
      "<p class=\"txt01\">안녕하세요. <strong>교보문고</strong>입니다.</p>\n",
      "<p>홈페이지의 원활한 서비스를 위하여 <br/>임시 점검을 실시합니다.</p>\n",
      "<p>점검 중에는 서비스를 이용하실 수 없으니 <br/>고객님의 양해 부탁드립니다.</p>\n",
      "</div>\n",
      "<div class=\"errorMsg02_wrap\">\n",
      "<div class=\"box_title\">점검 일시</div>\n",
      "<div class=\"box_text\">2023년 6월 18일 00:30 ~ 09:00</div>\n",
      "<div class=\"box_title\">점검 범위</div>\n",
      "<div class=\"box_text\">인터넷/모바일 교보문고, 교보eBook 등 교보문고 모든 서비스</div>\n",
      "</div>\n",
      "<div class=\"errorMsg03_wrap\">\n",
      "<p>서비스 점검 시간 동안 이용에 <br/>불편 드리게된 점 사과 드리며,</p>\n",
      "<p>약속한 시간 내에<br/> 조속히 점검을 마칠 수 있도록 <br/>최선을 다하겠습니다.</p>\n",
      "<p class=\"txt01\"><strong>감사합니다.</strong></p>\n",
      "</div>\n",
      "</div>\n",
      "</body>\n",
      "</html>\n",
      "\n",
      "\n",
      "\n"
     ]
    }
   ],
   "source": [
    "from bs4 import BeautifulSoup\n",
    "import requests\n",
    "\n",
    "url = 'https://product.kyobobook.co.kr/bestseller/total?period=003#?page=1&per=20&period=003&ymw=202207&bsslBksClstCode=A'\n",
    "\n",
    "res = requests.get(url)\n",
    "res.encoding=\"utf-8\"\n",
    "\n",
    "soup = BeautifulSoup(res.text, \"html.parser\")\n",
    "print(soup)"
   ]
  },
  {
   "cell_type": "code",
   "execution_count": 1,
   "id": "644603f7",
   "metadata": {},
   "outputs": [
    {
     "name": "stderr",
     "output_type": "stream",
     "text": [
      "C:\\Users\\denni\\AppData\\Local\\Temp\\ipykernel_13724\\134672047.py:82: FutureWarning: The frame.append method is deprecated and will be removed from pandas in a future version. Use pandas.concat instead.\n",
      "  book_list = index_df.append(book_list)\n"
     ]
    },
    {
     "name": "stdout",
     "output_type": "stream",
     "text": [
      "2022년 07월 저장완료!\n"
     ]
    },
    {
     "name": "stderr",
     "output_type": "stream",
     "text": [
      "C:\\Users\\denni\\AppData\\Local\\Temp\\ipykernel_13724\\134672047.py:82: FutureWarning: The frame.append method is deprecated and will be removed from pandas in a future version. Use pandas.concat instead.\n",
      "  book_list = index_df.append(book_list)\n"
     ]
    },
    {
     "name": "stdout",
     "output_type": "stream",
     "text": [
      "2022년 08월 저장완료!\n"
     ]
    },
    {
     "name": "stderr",
     "output_type": "stream",
     "text": [
      "C:\\Users\\denni\\AppData\\Local\\Temp\\ipykernel_13724\\134672047.py:82: FutureWarning: The frame.append method is deprecated and will be removed from pandas in a future version. Use pandas.concat instead.\n",
      "  book_list = index_df.append(book_list)\n"
     ]
    },
    {
     "name": "stdout",
     "output_type": "stream",
     "text": [
      "2022년 09월 저장완료!\n"
     ]
    },
    {
     "name": "stderr",
     "output_type": "stream",
     "text": [
      "C:\\Users\\denni\\AppData\\Local\\Temp\\ipykernel_13724\\134672047.py:82: FutureWarning: The frame.append method is deprecated and will be removed from pandas in a future version. Use pandas.concat instead.\n",
      "  book_list = index_df.append(book_list)\n"
     ]
    },
    {
     "name": "stdout",
     "output_type": "stream",
     "text": [
      "2022년 10월 저장완료!\n"
     ]
    },
    {
     "name": "stderr",
     "output_type": "stream",
     "text": [
      "C:\\Users\\denni\\AppData\\Local\\Temp\\ipykernel_13724\\134672047.py:82: FutureWarning: The frame.append method is deprecated and will be removed from pandas in a future version. Use pandas.concat instead.\n",
      "  book_list = index_df.append(book_list)\n"
     ]
    },
    {
     "name": "stdout",
     "output_type": "stream",
     "text": [
      "2022년 11월 저장완료!\n"
     ]
    },
    {
     "name": "stderr",
     "output_type": "stream",
     "text": [
      "C:\\Users\\denni\\AppData\\Local\\Temp\\ipykernel_13724\\134672047.py:82: FutureWarning: The frame.append method is deprecated and will be removed from pandas in a future version. Use pandas.concat instead.\n",
      "  book_list = index_df.append(book_list)\n"
     ]
    },
    {
     "name": "stdout",
     "output_type": "stream",
     "text": [
      "2022년 12월 저장완료!\n"
     ]
    },
    {
     "name": "stderr",
     "output_type": "stream",
     "text": [
      "C:\\Users\\denni\\AppData\\Local\\Temp\\ipykernel_13724\\134672047.py:82: FutureWarning: The frame.append method is deprecated and will be removed from pandas in a future version. Use pandas.concat instead.\n",
      "  book_list = index_df.append(book_list)\n"
     ]
    },
    {
     "name": "stdout",
     "output_type": "stream",
     "text": [
      "2023년 01월 저장완료!\n"
     ]
    },
    {
     "name": "stderr",
     "output_type": "stream",
     "text": [
      "C:\\Users\\denni\\AppData\\Local\\Temp\\ipykernel_13724\\134672047.py:82: FutureWarning: The frame.append method is deprecated and will be removed from pandas in a future version. Use pandas.concat instead.\n",
      "  book_list = index_df.append(book_list)\n"
     ]
    },
    {
     "name": "stdout",
     "output_type": "stream",
     "text": [
      "2023년 02월 저장완료!\n"
     ]
    },
    {
     "name": "stderr",
     "output_type": "stream",
     "text": [
      "C:\\Users\\denni\\AppData\\Local\\Temp\\ipykernel_13724\\134672047.py:82: FutureWarning: The frame.append method is deprecated and will be removed from pandas in a future version. Use pandas.concat instead.\n",
      "  book_list = index_df.append(book_list)\n"
     ]
    },
    {
     "name": "stdout",
     "output_type": "stream",
     "text": [
      "2023년 03월 저장완료!\n"
     ]
    },
    {
     "name": "stderr",
     "output_type": "stream",
     "text": [
      "C:\\Users\\denni\\AppData\\Local\\Temp\\ipykernel_13724\\134672047.py:82: FutureWarning: The frame.append method is deprecated and will be removed from pandas in a future version. Use pandas.concat instead.\n",
      "  book_list = index_df.append(book_list)\n"
     ]
    },
    {
     "name": "stdout",
     "output_type": "stream",
     "text": [
      "2023년 04월 저장완료!\n"
     ]
    },
    {
     "name": "stderr",
     "output_type": "stream",
     "text": [
      "C:\\Users\\denni\\AppData\\Local\\Temp\\ipykernel_13724\\134672047.py:82: FutureWarning: The frame.append method is deprecated and will be removed from pandas in a future version. Use pandas.concat instead.\n",
      "  book_list = index_df.append(book_list)\n"
     ]
    },
    {
     "name": "stdout",
     "output_type": "stream",
     "text": [
      "2023년 05월 저장완료!\n"
     ]
    }
   ],
   "source": [
    "from selenium.webdriver import Chrome\n",
    "from bs4 import BeautifulSoup\n",
    "import numpy as np\n",
    "import pandas as pd\n",
    "import time, os\n",
    "\n",
    "\n",
    "def kyobo_book(value):\n",
    "\n",
    "    url = f\"https://product.kyobobook.co.kr/bestseller/total?period=003#?page=1&per=20&period=003&ymw=20{value}&bsslBksClstCode=A\"\n",
    "\n",
    "    chrome = Chrome()\n",
    "    chrome.get(url)\n",
    "\n",
    "    time.sleep(3)\n",
    "    soup = BeautifulSoup(chrome.page_source)\n",
    "\n",
    "    time.sleep(1)\n",
    "    chrome.close()\n",
    "\n",
    "    kyobo_atag = soup.find_all('a', {'class':'prod_info'})\n",
    "    \n",
    "    try : \n",
    "        kyobo_list = []\n",
    "        for url in kyobo_atag:\n",
    "\n",
    "            kyobo_url = url.attrs['href']\n",
    "\n",
    "            driver = Chrome()\n",
    "            driver.get(kyobo_url)\n",
    "            time.sleep(2)\n",
    "\n",
    "            bs = BeautifulSoup(driver.page_source)\n",
    "\n",
    "            kyobo_isbn = bs.select_one(\"div.tbl_row_wrap > table > tbody > tr:nth-child(1) > td\")\n",
    "            isbn = kyobo_isbn.text\n",
    "\n",
    "            kyobo_name = bs.select_one(\"div.auto_overflow_contents > div > h1 > span\")\n",
    "            name = kyobo_name.text\n",
    "\n",
    "            kyobo_genre = bs.select_one(\"div.intro_book > ul > li:nth-child(1) > a:nth-child(3)\")\n",
    "            genre = kyobo_genre.text\n",
    "\n",
    "            kyobo_writer = bs.select_one(\"div.auto_overflow_contents > div > div > a:nth-child(1)\")\n",
    "            writer = kyobo_writer.text\n",
    "\n",
    "            kyobo_score = bs.select_one(\"div.prod_review_box > div:nth-child(1) > span.review_score.feel_lucky\")\n",
    "            score = kyobo_score.text\n",
    "\n",
    "            kyobo_price = bs.select_one(\"div.prod_price_wrap > div.prod_price_box > div > span.price > span\")\n",
    "            price = kyobo_price.text\n",
    "\n",
    "            kyobo_date = bs.select_one(\"div.tbl_row_wrap > table > tbody > tr:nth-child(2) > td\")\n",
    "            date = kyobo_date.text.replace(\"\\n\",\"\").replace(\" \",\"\")[:11]\n",
    "\n",
    "            kyobo_list.append([isbn, name, genre, writer, score, price, date])\n",
    "\n",
    "            time.sleep(2)    \n",
    "            driver.close()\n",
    "\n",
    "        value = str(value)\n",
    "        kyobo_year = \"20\"+ value[:2]\n",
    "        kyobo_month = value[2:]\n",
    "\n",
    "        return make_csv(kyobo_list, kyobo_year, kyobo_month)\n",
    "\n",
    "    except:\n",
    "        pass\n",
    "\n",
    "    \n",
    "    \n",
    "def make_csv(kyobo_list, kyobo_year, kyobo_month):\n",
    "    \n",
    "    list = ['ISBN', '책 제목', '도서 장르', '저자', '평점', '판매가격', '발행일']\n",
    "    \n",
    "    index_df = pd.DataFrame(columns=list)\n",
    "    index_df.loc[0] = ['', '', '', '', '', '', '']\n",
    "    index_df.index = [str(kyobo_year) + '년' + str(kyobo_month) + '월']\n",
    "        \n",
    "    book_list = pd.DataFrame(np.array(kyobo_list), columns=list)\n",
    "    book_list.index = range(1, len(book_list)+1)\n",
    "    book_list = index_df.append(book_list)\n",
    "\n",
    "    return save_csv(book_list, kyobo_year, kyobo_month)\n",
    "\n",
    "    \n",
    "    \n",
    "def save_csv(book_list, kyobo_year, kyobo_month):\n",
    "    \n",
    "    if not os.path.exists('KyoboBestSeller2.csv') :\n",
    "        book_list.to_csv('KyoboBestSeller2.csv', encoding='CP949', mode = 'w')\n",
    "    else :\n",
    "        book_list.to_csv('KyoboBestSeller2.csv', encoding='CP949', mode = 'a', header=False)\n",
    "\n",
    "    return print(f\"{kyobo_year}년 {kyobo_month}월 저장완료!\")\n",
    "\n",
    "\n",
    "\n",
    "def search_day():\n",
    "    for i in range(1,12):\n",
    "        if i < 7:\n",
    "            year = 2206\n",
    "            year += i\n",
    "        else:\n",
    "            year = 2300\n",
    "            year += (i-6)\n",
    "    \n",
    "        kyobo_book(year)\n",
    "        \n",
    "        \n",
    "search_day()"
   ]
  },
  {
   "cell_type": "code",
   "execution_count": null,
   "id": "29a02659",
   "metadata": {},
   "outputs": [],
   "source": []
  },
  {
   "cell_type": "code",
   "execution_count": null,
   "id": "b3b476c4",
   "metadata": {},
   "outputs": [],
   "source": []
  },
  {
   "cell_type": "code",
   "execution_count": null,
   "id": "ff4744bb",
   "metadata": {},
   "outputs": [],
   "source": []
  },
  {
   "cell_type": "code",
   "execution_count": null,
   "id": "a0fb2f42",
   "metadata": {},
   "outputs": [],
   "source": []
  },
  {
   "cell_type": "code",
   "execution_count": null,
   "id": "3569b974",
   "metadata": {},
   "outputs": [],
   "source": []
  },
  {
   "cell_type": "code",
   "execution_count": null,
   "id": "6b85f35b",
   "metadata": {},
   "outputs": [],
   "source": []
  },
  {
   "cell_type": "code",
   "execution_count": null,
   "id": "77d3b1f6",
   "metadata": {},
   "outputs": [],
   "source": []
  },
  {
   "cell_type": "code",
   "execution_count": null,
   "id": "085cf08b",
   "metadata": {},
   "outputs": [],
   "source": []
  },
  {
   "cell_type": "code",
   "execution_count": null,
   "id": "ca043490",
   "metadata": {},
   "outputs": [],
   "source": [
    "from selenium.webdriver import Chrome\n",
    "from bs4 import BeautifulSoup\n",
    "import time\n",
    "\n",
    "\n",
    "# kyobo_list_name = []\n",
    "# for i in range(1,4):\n",
    "    \n",
    "#     chrome = Chrome()\n",
    "    \n",
    "#     if i < 3:\n",
    "#         url = f\"https://product.kyobobook.co.kr/bestseller/total?period=003#?page={i}&per=20&period=003&ymw=&bsslBksClstCode=A\"\n",
    "\n",
    "#         chrome.get(url)\n",
    "#         time.sleep(5)\n",
    "\n",
    "#         response = chrome.page_source\n",
    "\n",
    "#         time.sleep(2)\n",
    "#         chrome.close()\n",
    "\n",
    "#         kyobo = BeautifulSoup(response)\n",
    "\n",
    "#         for j in kyobo.find_all('span', {'class':'prod_name'}):\n",
    "#             kyobo_list_name.append(j.text)\n",
    "                                   \n",
    "#     else:\n",
    "#         url = f\"https://product.kyobobook.co.kr/bestseller/total?period=003#?page={i}&per=20&period=003&ymw=&bsslBksClstCode=A\"\n",
    "        \n",
    "#         chrome.get(url)\n",
    "#         time.sleep(5)\n",
    "\n",
    "#         response = chrome.page_source\n",
    "\n",
    "#         time.sleep(2)\n",
    "#         chrome.close()\n",
    "\n",
    "#         kyobo = BeautifulSoup(response)\n",
    "\n",
    "#         for j in kyobo.find_all('span', {'class':'prod_name'})[:10]:\n",
    "#             kyobo_list_name.append(j.text)\n",
    "\n",
    "print(kyobo_list_name)\n"
   ]
  },
  {
   "cell_type": "code",
   "execution_count": null,
   "id": "89f8fbf0",
   "metadata": {},
   "outputs": [],
   "source": []
  },
  {
   "cell_type": "code",
   "execution_count": null,
   "id": "ed87ad15",
   "metadata": {},
   "outputs": [],
   "source": []
  },
  {
   "cell_type": "code",
   "execution_count": null,
   "id": "242efc68",
   "metadata": {},
   "outputs": [],
   "source": []
  },
  {
   "cell_type": "code",
   "execution_count": null,
   "id": "eeaf1346",
   "metadata": {},
   "outputs": [],
   "source": []
  },
  {
   "cell_type": "code",
   "execution_count": null,
   "id": "04100c62",
   "metadata": {},
   "outputs": [],
   "source": []
  }
 ],
 "metadata": {
  "kernelspec": {
   "display_name": "Python 3 (ipykernel)",
   "language": "python",
   "name": "python3"
  },
  "language_info": {
   "codemirror_mode": {
    "name": "ipython",
    "version": 3
   },
   "file_extension": ".py",
   "mimetype": "text/x-python",
   "name": "python",
   "nbconvert_exporter": "python",
   "pygments_lexer": "ipython3",
   "version": "3.10.9"
  }
 },
 "nbformat": 4,
 "nbformat_minor": 5
}
