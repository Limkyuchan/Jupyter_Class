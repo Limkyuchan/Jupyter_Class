{
 "cells": [
  {
   "cell_type": "markdown",
   "id": "eebf3079",
   "metadata": {},
   "source": [
    "## Requests Module"
   ]
  },
  {
   "cell_type": "code",
   "execution_count": 39,
   "id": "bc6f4f63",
   "metadata": {
    "scrolled": true
   },
   "outputs": [
    {
     "name": "stdout",
     "output_type": "stream",
     "text": [
      "<Response [200]>\n"
     ]
    }
   ],
   "source": [
    "import requests\n",
    "from bs4 import BeautifulSoup\n",
    "\n",
    "html = requests.get(\"http://www.example.com\")\n",
    "\n",
    "print(html)"
   ]
  },
  {
   "cell_type": "code",
   "execution_count": 40,
   "id": "f0b8011a",
   "metadata": {},
   "outputs": [
    {
     "name": "stdout",
     "output_type": "stream",
     "text": [
      "<!doctype html>\n",
      "<html>\n",
      "<head>\n",
      "    <title>Example Domain</title>\n",
      "\n",
      "    <meta charset=\"utf-8\" />\n",
      "    <meta http-equiv=\"Content-type\" content=\"text/html; charset=utf-8\" />\n",
      "    <meta name=\"viewport\" content=\"width=device-width, initial-scale=1\" />\n",
      "    <style type=\"text/css\">\n",
      "    body {\n",
      "        background-color: #f0f0f2;\n",
      "        margin: 0;\n",
      "        padding: 0;\n",
      "        font-family: -apple-system, system-ui, BlinkMacSystemFont, \"Segoe UI\", \"Open Sans\", \"Helvetica Neue\", Helvetica, Arial, sans-serif;\n",
      "        \n",
      "    }\n",
      "    div {\n",
      "        width: 600px;\n",
      "        margin: 5em auto;\n",
      "        padding: 2em;\n",
      "        background-color: #fdfdff;\n",
      "        border-radius: 0.5em;\n",
      "        box-shadow: 2px 3px 7px 2px rgba(0,0,0,0.02);\n",
      "    }\n",
      "    a:link, a:visited {\n",
      "        color: #38488f;\n",
      "        text-decoration: none;\n",
      "    }\n",
      "    @media (max-width: 700px) {\n",
      "        div {\n",
      "            margin: 0 auto;\n",
      "            width: auto;\n",
      "        }\n",
      "    }\n",
      "    </style>    \n",
      "</head>\n",
      "\n",
      "<body>\n",
      "<div>\n",
      "    <h1>Example Domain</h1>\n",
      "    <p>This domain is for use in illustrative examples in documents. You may use this\n",
      "    domain in literature without prior coordination or asking for permission.</p>\n",
      "    <p><a href=\"https://www.iana.org/domains/example\">More information...</a></p>\n",
      "</div>\n",
      "</body>\n",
      "</html>\n",
      "\n"
     ]
    }
   ],
   "source": [
    "print(html.text)"
   ]
  },
  {
   "cell_type": "code",
   "execution_count": 41,
   "id": "a0958b42",
   "metadata": {
    "scrolled": true
   },
   "outputs": [
    {
     "name": "stdout",
     "output_type": "stream",
     "text": [
      "<!DOCTYPE html>\n",
      "\n",
      "<html>\n",
      "<head>\n",
      "<title>Example Domain</title>\n",
      "<meta charset=\"utf-8\"/>\n",
      "<meta content=\"text/html; charset=utf-8\" http-equiv=\"Content-type\"/>\n",
      "<meta content=\"width=device-width, initial-scale=1\" name=\"viewport\"/>\n",
      "<style type=\"text/css\">\n",
      "    body {\n",
      "        background-color: #f0f0f2;\n",
      "        margin: 0;\n",
      "        padding: 0;\n",
      "        font-family: -apple-system, system-ui, BlinkMacSystemFont, \"Segoe UI\", \"Open Sans\", \"Helvetica Neue\", Helvetica, Arial, sans-serif;\n",
      "        \n",
      "    }\n",
      "    div {\n",
      "        width: 600px;\n",
      "        margin: 5em auto;\n",
      "        padding: 2em;\n",
      "        background-color: #fdfdff;\n",
      "        border-radius: 0.5em;\n",
      "        box-shadow: 2px 3px 7px 2px rgba(0,0,0,0.02);\n",
      "    }\n",
      "    a:link, a:visited {\n",
      "        color: #38488f;\n",
      "        text-decoration: none;\n",
      "    }\n",
      "    @media (max-width: 700px) {\n",
      "        div {\n",
      "            margin: 0 auto;\n",
      "            width: auto;\n",
      "        }\n",
      "    }\n",
      "    </style>\n",
      "</head>\n",
      "<body>\n",
      "<div>\n",
      "<h1>Example Domain</h1>\n",
      "<p>This domain is for use in illustrative examples in documents. You may use this\n",
      "    domain in literature without prior coordination or asking for permission.</p>\n",
      "<p><a href=\"https://www.iana.org/domains/example\">More information...</a></p>\n",
      "</div>\n",
      "</body>\n",
      "</html>\n",
      "\n"
     ]
    }
   ],
   "source": [
    "from bs4 import BeautifulSoup\n",
    "\n",
    "bs = BeautifulSoup(html.text, \"html.parser\")\n",
    "\n",
    "print(bs)"
   ]
  },
  {
   "cell_type": "code",
   "execution_count": 42,
   "id": "c6ad8cee",
   "metadata": {},
   "outputs": [
    {
     "name": "stdout",
     "output_type": "stream",
     "text": [
      "<h1>Example Domain</h1>\n"
     ]
    }
   ],
   "source": [
    "print(bs.h1)       # h1 태그만 추출"
   ]
  },
  {
   "cell_type": "code",
   "execution_count": 43,
   "id": "78da5abb",
   "metadata": {},
   "outputs": [
    {
     "name": "stdout",
     "output_type": "stream",
     "text": [
      "<title>Example Domain</title>\n"
     ]
    }
   ],
   "source": [
    "print(bs.title)    # title 태그만 추출"
   ]
  },
  {
   "cell_type": "code",
   "execution_count": 44,
   "id": "76a59c8b",
   "metadata": {},
   "outputs": [
    {
     "name": "stdout",
     "output_type": "stream",
     "text": [
      "<a href=\"https://www.iana.org/domains/example\">More information...</a>\n"
     ]
    }
   ],
   "source": [
    "print(bs.a)        # a 태그만 추출"
   ]
  },
  {
   "cell_type": "code",
   "execution_count": 45,
   "id": "2f3553b2",
   "metadata": {},
   "outputs": [
    {
     "data": {
      "text/plain": [
       "requests.models.Response"
      ]
     },
     "execution_count": 45,
     "metadata": {},
     "output_type": "execute_result"
    }
   ],
   "source": [
    "type(html)"
   ]
  },
  {
   "cell_type": "code",
   "execution_count": 46,
   "id": "b666f84a",
   "metadata": {},
   "outputs": [
    {
     "data": {
      "text/plain": [
       "str"
      ]
     },
     "execution_count": 46,
     "metadata": {},
     "output_type": "execute_result"
    }
   ],
   "source": [
    "type(html.text)"
   ]
  },
  {
   "cell_type": "code",
   "execution_count": 48,
   "id": "26cb39ec",
   "metadata": {},
   "outputs": [
    {
     "data": {
      "text/plain": [
       "'UTF-8'"
      ]
     },
     "execution_count": 48,
     "metadata": {},
     "output_type": "execute_result"
    }
   ],
   "source": [
    "html.encoding"
   ]
  },
  {
   "cell_type": "code",
   "execution_count": 49,
   "id": "ff380176",
   "metadata": {},
   "outputs": [
    {
     "data": {
      "text/plain": [
       "['__attrs__',\n",
       " '__bool__',\n",
       " '__class__',\n",
       " '__delattr__',\n",
       " '__dict__',\n",
       " '__dir__',\n",
       " '__doc__',\n",
       " '__enter__',\n",
       " '__eq__',\n",
       " '__exit__',\n",
       " '__format__',\n",
       " '__ge__',\n",
       " '__getattribute__',\n",
       " '__getstate__',\n",
       " '__gt__',\n",
       " '__hash__',\n",
       " '__init__',\n",
       " '__init_subclass__',\n",
       " '__iter__',\n",
       " '__le__',\n",
       " '__lt__',\n",
       " '__module__',\n",
       " '__ne__',\n",
       " '__new__',\n",
       " '__nonzero__',\n",
       " '__reduce__',\n",
       " '__reduce_ex__',\n",
       " '__repr__',\n",
       " '__setattr__',\n",
       " '__setstate__',\n",
       " '__sizeof__',\n",
       " '__str__',\n",
       " '__subclasshook__',\n",
       " '__weakref__',\n",
       " '_content',\n",
       " '_content_consumed',\n",
       " '_next',\n",
       " 'apparent_encoding',\n",
       " 'close',\n",
       " 'connection',\n",
       " 'content',\n",
       " 'cookies',\n",
       " 'elapsed',\n",
       " 'encoding',\n",
       " 'headers',\n",
       " 'history',\n",
       " 'is_permanent_redirect',\n",
       " 'is_redirect',\n",
       " 'iter_content',\n",
       " 'iter_lines',\n",
       " 'json',\n",
       " 'links',\n",
       " 'next',\n",
       " 'ok',\n",
       " 'raise_for_status',\n",
       " 'raw',\n",
       " 'reason',\n",
       " 'request',\n",
       " 'status_code',\n",
       " 'text',\n",
       " 'url']"
      ]
     },
     "execution_count": 49,
     "metadata": {},
     "output_type": "execute_result"
    }
   ],
   "source": [
    "dir(html)"
   ]
  },
  {
   "cell_type": "code",
   "execution_count": 50,
   "id": "3552d060",
   "metadata": {},
   "outputs": [
    {
     "data": {
      "text/plain": [
       "1256"
      ]
     },
     "execution_count": 50,
     "metadata": {},
     "output_type": "execute_result"
    }
   ],
   "source": [
    "open('example.html', 'w', encoding=\"utf-8\").write(html.text)   # 1256 바이트를 반환 (open이 반환의 역할까지)"
   ]
  },
  {
   "cell_type": "code",
   "execution_count": null,
   "id": "e85011e0",
   "metadata": {},
   "outputs": [],
   "source": []
  },
  {
   "cell_type": "code",
   "execution_count": null,
   "id": "8f8fe92d",
   "metadata": {},
   "outputs": [],
   "source": []
  },
  {
   "cell_type": "code",
   "execution_count": 27,
   "id": "ba4652d8",
   "metadata": {},
   "outputs": [
    {
     "data": {
      "text/plain": [
       "'{\"results\":{\"sunrise\":\"4:57:16 AM\",\"sunset\":\"7:40:44 PM\",\"solar_noon\":\"12:19:00 PM\",\"day_length\":\"14:43:28\",\"civil_twilight_begin\":\"4:28:06 AM\",\"civil_twilight_end\":\"8:09:54 PM\",\"nautical_twilight_begin\":\"3:49:52 AM\",\"nautical_twilight_end\":\"8:48:09 PM\",\"astronomical_twilight_begin\":\"3:06:58 AM\",\"astronomical_twilight_end\":\"9:31:02 PM\"},\"status\":\"OK\"}'"
      ]
     },
     "execution_count": 27,
     "metadata": {},
     "output_type": "execute_result"
    }
   ],
   "source": [
    "sunsetUrl = \"https://api.sunrise-sunset.org/json?lat=36.7201600&lng=-4.4203400\"\n",
    "\n",
    "html = requests.get(sunsetUrl)\n",
    "html.text"
   ]
  },
  {
   "cell_type": "code",
   "execution_count": 28,
   "id": "a9538331",
   "metadata": {},
   "outputs": [
    {
     "data": {
      "text/plain": [
       "{'results': {'sunrise': '4:57:16 AM',\n",
       "  'sunset': '7:40:44 PM',\n",
       "  'solar_noon': '12:19:00 PM',\n",
       "  'day_length': '14:43:28',\n",
       "  'civil_twilight_begin': '4:28:06 AM',\n",
       "  'civil_twilight_end': '8:09:54 PM',\n",
       "  'nautical_twilight_begin': '3:49:52 AM',\n",
       "  'nautical_twilight_end': '8:48:09 PM',\n",
       "  'astronomical_twilight_begin': '3:06:58 AM',\n",
       "  'astronomical_twilight_end': '9:31:02 PM'},\n",
       " 'status': 'OK'}"
      ]
     },
     "execution_count": 28,
     "metadata": {},
     "output_type": "execute_result"
    }
   ],
   "source": [
    "html = requests.get(sunsetUrl).json()       # 문자열이 아닌 json 타입 파싱하여 가져오기\n",
    "html"
   ]
  },
  {
   "cell_type": "code",
   "execution_count": null,
   "id": "b4343728",
   "metadata": {},
   "outputs": [],
   "source": []
  },
  {
   "cell_type": "code",
   "execution_count": null,
   "id": "b8109d99",
   "metadata": {},
   "outputs": [],
   "source": []
  },
  {
   "cell_type": "markdown",
   "id": "21c160f8",
   "metadata": {},
   "source": [
    "- 1. 함수로 정의하기 (날짜를 받아서 정보를 가져오는 함수)"
   ]
  },
  {
   "cell_type": "code",
   "execution_count": 29,
   "id": "18a20a07",
   "metadata": {},
   "outputs": [],
   "source": [
    "def date_sun(date):\n",
    "    url = f\"https://api.sunrise-sunset.org/json?lat=36.7201600&lng=-4.4203400&date={date}\"\n",
    "    return requests.get(url).json()['results']"
   ]
  },
  {
   "cell_type": "code",
   "execution_count": 30,
   "id": "44ee2834",
   "metadata": {},
   "outputs": [
    {
     "data": {
      "text/plain": [
       "{'sunrise': '7:28:40 AM',\n",
       " 'sunset': '5:13:35 PM',\n",
       " 'solar_noon': '12:21:08 PM',\n",
       " 'day_length': '09:44:55',\n",
       " 'civil_twilight_begin': '7:01:25 AM',\n",
       " 'civil_twilight_end': '5:40:50 PM',\n",
       " 'nautical_twilight_begin': '6:29:06 AM',\n",
       " 'nautical_twilight_end': '6:13:09 PM',\n",
       " 'astronomical_twilight_begin': '5:57:39 AM',\n",
       " 'astronomical_twilight_end': '6:44:36 PM'}"
      ]
     },
     "execution_count": 30,
     "metadata": {},
     "output_type": "execute_result"
    }
   ],
   "source": [
    "date_sun(\"2023-01-01\")"
   ]
  },
  {
   "cell_type": "code",
   "execution_count": null,
   "id": "f61b6f76",
   "metadata": {},
   "outputs": [],
   "source": []
  },
  {
   "cell_type": "markdown",
   "id": "20cabc80",
   "metadata": {},
   "source": [
    "- 2. 함수로 정의하기 (위도, 경도를 받아서 정보를 가져오는 함수)"
   ]
  },
  {
   "cell_type": "code",
   "execution_count": 33,
   "id": "a286bd13",
   "metadata": {},
   "outputs": [],
   "source": [
    "def date_sun2(lat, lng, date):\n",
    "    url = f\"https://api.sunrise-sunset.org/json?lat={lat}&lng={lng}&date={date}\"\n",
    "    return requests.get(url).json()['results']"
   ]
  },
  {
   "cell_type": "code",
   "execution_count": 34,
   "id": "44c08a10",
   "metadata": {},
   "outputs": [
    {
     "data": {
      "text/plain": [
       "{'sunrise': '2:08:18 AM',\n",
       " 'sunset': '11:41:02 AM',\n",
       " 'solar_noon': '6:54:40 AM',\n",
       " 'day_length': '09:32:44',\n",
       " 'civil_twilight_begin': '1:40:04 AM',\n",
       " 'civil_twilight_end': '12:09:16 PM',\n",
       " 'nautical_twilight_begin': '1:06:42 AM',\n",
       " 'nautical_twilight_end': '12:42:38 PM',\n",
       " 'astronomical_twilight_begin': '12:34:19 AM',\n",
       " 'astronomical_twilight_end': '1:15:01 PM'}"
      ]
     },
     "execution_count": 34,
     "metadata": {},
     "output_type": "execute_result"
    }
   ],
   "source": [
    "lat = \"38.8976763\"\n",
    "lng = \"77.1683657\"\n",
    "date = \"2023-01-01\"\n",
    "date_sun2(lat, lng, date)"
   ]
  },
  {
   "cell_type": "code",
   "execution_count": null,
   "id": "e6c164cc",
   "metadata": {},
   "outputs": [],
   "source": []
  },
  {
   "cell_type": "code",
   "execution_count": null,
   "id": "edb0c83c",
   "metadata": {},
   "outputs": [],
   "source": []
  },
  {
   "cell_type": "markdown",
   "id": "7836dbf6",
   "metadata": {},
   "source": [
    "- 실습) 구글맵스로 알아온 위도, 경도를 이용하여 함수 호출"
   ]
  },
  {
   "cell_type": "code",
   "execution_count": 51,
   "id": "f4660be5",
   "metadata": {},
   "outputs": [],
   "source": [
    "def date_sun3(lat, lng, date):\n",
    "    url = f\"https://api.sunrise-sunset.org/json?lat={lat}&lng={lng}&date={date}\"\n",
    "    return requests.get(url).json()['results']"
   ]
  },
  {
   "cell_type": "code",
   "execution_count": 52,
   "id": "385784a3",
   "metadata": {},
   "outputs": [
    {
     "data": {
      "text/plain": [
       "{'sunrise': '8:09:03 PM',\n",
       " 'sunset': '10:57:37 AM',\n",
       " 'solar_noon': '3:33:20 AM',\n",
       " 'day_length': '14:48:34',\n",
       " 'civil_twilight_begin': '7:39:24 PM',\n",
       " 'civil_twilight_end': '11:27:16 AM',\n",
       " 'nautical_twilight_begin': '7:00:20 PM',\n",
       " 'nautical_twilight_end': '12:06:20 PM',\n",
       " 'astronomical_twilight_begin': '6:16:09 PM',\n",
       " 'astronomical_twilight_end': '12:50:31 PM'}"
      ]
     },
     "execution_count": 52,
     "metadata": {},
     "output_type": "execute_result"
    }
   ],
   "source": [
    "lat = \"37.5758772\"\n",
    "lng = \"126.9768121\"\n",
    "date = \"2023-06-19\"\n",
    "date_sun3(lat, lng, date)"
   ]
  },
  {
   "cell_type": "code",
   "execution_count": null,
   "id": "009629e5",
   "metadata": {},
   "outputs": [],
   "source": []
  },
  {
   "cell_type": "code",
   "execution_count": null,
   "id": "7a55ee67",
   "metadata": {},
   "outputs": [],
   "source": []
  },
  {
   "cell_type": "code",
   "execution_count": null,
   "id": "c4dce592",
   "metadata": {},
   "outputs": [],
   "source": []
  },
  {
   "cell_type": "code",
   "execution_count": null,
   "id": "873d8ddf",
   "metadata": {},
   "outputs": [],
   "source": []
  },
  {
   "cell_type": "code",
   "execution_count": null,
   "id": "e75f378d",
   "metadata": {},
   "outputs": [],
   "source": []
  },
  {
   "cell_type": "code",
   "execution_count": null,
   "id": "8262f80e",
   "metadata": {},
   "outputs": [],
   "source": []
  },
  {
   "cell_type": "code",
   "execution_count": null,
   "id": "7d59a706",
   "metadata": {},
   "outputs": [],
   "source": []
  },
  {
   "cell_type": "code",
   "execution_count": null,
   "id": "9ee4aeea",
   "metadata": {},
   "outputs": [],
   "source": []
  }
 ],
 "metadata": {
  "kernelspec": {
   "display_name": "Python 3 (ipykernel)",
   "language": "python",
   "name": "python3"
  },
  "language_info": {
   "codemirror_mode": {
    "name": "ipython",
    "version": 3
   },
   "file_extension": ".py",
   "mimetype": "text/x-python",
   "name": "python",
   "nbconvert_exporter": "python",
   "pygments_lexer": "ipython3",
   "version": "3.10.9"
  }
 },
 "nbformat": 4,
 "nbformat_minor": 5
}
