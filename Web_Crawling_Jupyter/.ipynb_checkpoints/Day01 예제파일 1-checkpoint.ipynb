{
 "cells": [
  {
   "cell_type": "markdown",
   "id": "2be3ad47",
   "metadata": {},
   "source": [
    "- 파이썬 표준 라이브러리 활용"
   ]
  },
  {
   "cell_type": "code",
   "execution_count": 6,
   "id": "02e583bb",
   "metadata": {
    "scrolled": true
   },
   "outputs": [
    {
     "data": {
      "text/plain": [
       "<http.client.HTTPResponse at 0x12d9896faf0>"
      ]
     },
     "execution_count": 6,
     "metadata": {},
     "output_type": "execute_result"
    }
   ],
   "source": [
    "from urllib.request import urlopen\n",
    "\n",
    "urlopen(\"http://www.example.com\")"
   ]
  },
  {
   "cell_type": "code",
   "execution_count": 7,
   "id": "08813a8e",
   "metadata": {},
   "outputs": [],
   "source": [
    "from urllib.request import urlopen\n",
    "\n",
    "resp = urlopen(\"http://www.example.com\")"
   ]
  },
  {
   "cell_type": "code",
   "execution_count": 8,
   "id": "34d5f873",
   "metadata": {},
   "outputs": [
    {
     "data": {
      "text/plain": [
       "<http.client.HTTPResponse at 0x12d988d6e60>"
      ]
     },
     "execution_count": 8,
     "metadata": {},
     "output_type": "execute_result"
    }
   ],
   "source": [
    "resp"
   ]
  },
  {
   "cell_type": "code",
   "execution_count": 9,
   "id": "03bd1d0f",
   "metadata": {},
   "outputs": [
    {
     "data": {
      "text/plain": [
       "b'<!doctype html>\\n<html>\\n<head>\\n    <title>Example Domain</title>\\n\\n    <meta charset=\"utf-8\" />\\n    <meta http-equiv=\"Content-type\" content=\"text/html; charset=utf-8\" />\\n    <meta name=\"viewport\" content=\"width=device-width, initial-scale=1\" />\\n    <style type=\"text/css\">\\n    body {\\n        background-color: #f0f0f2;\\n        margin: 0;\\n        padding: 0;\\n        font-family: -apple-system, system-ui, BlinkMacSystemFont, \"Segoe UI\", \"Open Sans\", \"Helvetica Neue\", Helvetica, Arial, sans-serif;\\n        \\n    }\\n    div {\\n        width: 600px;\\n        margin: 5em auto;\\n        padding: 2em;\\n        background-color: #fdfdff;\\n        border-radius: 0.5em;\\n        box-shadow: 2px 3px 7px 2px rgba(0,0,0,0.02);\\n    }\\n    a:link, a:visited {\\n        color: #38488f;\\n        text-decoration: none;\\n    }\\n    @media (max-width: 700px) {\\n        div {\\n            margin: 0 auto;\\n            width: auto;\\n        }\\n    }\\n    </style>    \\n</head>\\n\\n<body>\\n<div>\\n    <h1>Example Domain</h1>\\n    <p>This domain is for use in illustrative examples in documents. You may use this\\n    domain in literature without prior coordination or asking for permission.</p>\\n    <p><a href=\"https://www.iana.org/domains/example\">More information...</a></p>\\n</div>\\n</body>\\n</html>\\n'"
      ]
     },
     "execution_count": 9,
     "metadata": {},
     "output_type": "execute_result"
    }
   ],
   "source": [
    "resp.read()"
   ]
  },
  {
   "cell_type": "markdown",
   "id": "3a9cb3cd",
   "metadata": {},
   "source": [
    "- 웹에서 이미지 추출하기 예제"
   ]
  },
  {
   "cell_type": "code",
   "execution_count": 10,
   "id": "824115c1",
   "metadata": {},
   "outputs": [],
   "source": [
    "url = \"https://t1.daumcdn.net/daumtop_chanel/op/20200723055344399.png\""
   ]
  },
  {
   "cell_type": "code",
   "execution_count": null,
   "id": "e52f38ab",
   "metadata": {},
   "outputs": [],
   "source": [
    "# import urllib"
   ]
  },
  {
   "cell_type": "code",
   "execution_count": 23,
   "id": "2b0635fc",
   "metadata": {},
   "outputs": [
    {
     "name": "stdout",
     "output_type": "stream",
     "text": [
      "daum 로고 저장 완료!\n"
     ]
    }
   ],
   "source": [
    "url = \"https://t1.daumcdn.net/daumtop_chanel/op/20200723055344399.png\"     # urlopen\n",
    "\n",
    "save_file_name = \"daum_log.png\"\n",
    "\n",
    "logo = urlopen(url).read()\n",
    "\n",
    "with open(save_file_name, mode=\"wb\") as f:\n",
    "    f.write(logo)\n",
    "    print('daum 로고 저장 완료!')"
   ]
  },
  {
   "cell_type": "code",
   "execution_count": 24,
   "id": "f374487d",
   "metadata": {},
   "outputs": [
    {
     "name": "stdout",
     "output_type": "stream",
     "text": [
      "daum 로고 저장 완료!\n"
     ]
    }
   ],
   "source": [
    "import urllib.request as ur           # 별칭 등록                         # urlretrieve\n",
    "\n",
    "url = \"https://t1.daumcdn.net/daumtop_chanel/op/20200723055344399.png\"\n",
    "\n",
    "save_file_name2 = \"logo2.png\"\n",
    "\n",
    "ur.urlretrieve(url, save_file_name2)  # urlretrieve : url에서 받아온 결과를 바로 파일에 저장해준다.\n",
    "\n",
    "print(\"daum 로고 저장 완료!\")"
   ]
  },
  {
   "cell_type": "markdown",
   "id": "4fb0222f",
   "metadata": {},
   "source": [
    "## 이미지 파일 5개"
   ]
  },
  {
   "cell_type": "code",
   "execution_count": 25,
   "id": "cf7f6e20",
   "metadata": {},
   "outputs": [
    {
     "name": "stdout",
     "output_type": "stream",
     "text": [
      "채수빈 저장 완료!\n"
     ]
    }
   ],
   "source": [
    "url = \"https://postfiles.pstatic.net/MjAyMzAxMDlfMjc5/MDAxNjczMjIzMDY2MDA1.WidPbiHwFCjsa8yH0bE26QMFWV0cYGGyhZXX3mg6S_Qg.CAHe6VpXUZ2EJNZTYGHATvZtcLvh2IAsO5yozo2KuK4g.JPEG.shanarchism/SNL_%EC%BD%94%EB%A6%AC%EC%95%84_%EB%A6%AC%EB%B6%80%ED%88%AC_%EC%8B%9C%EC%A6%8C3.E03.1080p.CP-Sniper.mp4_20221214_133635.215.jpg?type=w966\"\n",
    "\n",
    "save_file_name3 = \"subin.png\"\n",
    "\n",
    "ur.urlretrieve(url, save_file_name3)\n",
    "\n",
    "print(\"채수빈 저장 완료!\")"
   ]
  },
  {
   "cell_type": "code",
   "execution_count": 26,
   "id": "e3b2ff60",
   "metadata": {},
   "outputs": [
    {
     "name": "stdout",
     "output_type": "stream",
     "text": [
      "슬기 저장 완료!\n"
     ]
    }
   ],
   "source": [
    "url = \"https://search.pstatic.net/common/?src=http%3A%2F%2Fimgnews.naver.net%2Fimage%2F609%2F2023%2F05%2F02%2F202305021442383510_1_20230502144302581.jpg&amp;type=sc960_832\"\n",
    "\n",
    "save_file_name4 = 'seulgi.png'\n",
    "\n",
    "seulgi = urlopen(url).read()\n",
    "\n",
    "with open(save_file_name4, mode=\"wb\") as f:\n",
    "    f.write(seulgi)\n",
    "    print(\"슬기 저장 완료!\")"
   ]
  },
  {
   "cell_type": "code",
   "execution_count": 41,
   "id": "871ea7f8",
   "metadata": {},
   "outputs": [
    {
     "name": "stdout",
     "output_type": "stream",
     "text": [
      "윈터 저장 완료!\n"
     ]
    }
   ],
   "source": [
    "url = \"https://search.pstatic.net/common/?src=http%3A%2F%2Fblogfiles.naver.net%2FMjAyMzA1MjJfMjI2%2FMDAxNjg0NjkzNDgwMDQw.5FgyXsSOS6329R9KBGCY4wS_goaxb-lOH47gxtiwg78g.gpvsRiUL-JHtFBFDb0Vg1GK0hTpUDf-DQqqS2vs7fJ0g.JPEG.jinelijah%2FKakaoTalk_20230522_032218227_24.jpg%2Fundefined&type=sc960_832\"\n",
    "\n",
    "save_file_name5 = 'winter.png'\n",
    "\n",
    "ur.urlretrieve(url, save_file_name5)\n",
    "\n",
    "print(\"윈터 저장 완료!\")"
   ]
  },
  {
   "cell_type": "code",
   "execution_count": 42,
   "id": "ad79f3dc",
   "metadata": {},
   "outputs": [
    {
     "name": "stdout",
     "output_type": "stream",
     "text": [
      "윈터2 저장 완료!\n"
     ]
    }
   ],
   "source": [
    "url = \"https://search.pstatic.net/common/?src=http%3A%2F%2Fblogfiles.naver.net%2FMjAyMjA5MTBfOCAg%2FMDAxNjYyNzk3Nzg5NjIy.nNMHLG00aCfD6nCY8j6JRw76vOv69lRKV_rNsoG1TWIg.SVaItD5n3tSr74IdXn8d-9thV1HictoSv7_ShRE6ugog.JPEG.espart1226%2FIMG_2443.JPG&type=sc960_832\"\n",
    "\n",
    "save_file_name6 = 'winter2.png'\n",
    "\n",
    "ur.urlretrieve(url, save_file_name6)\n",
    "\n",
    "print(\"윈터2 저장 완료!\")"
   ]
  },
  {
   "cell_type": "code",
   "execution_count": 43,
   "id": "069aeac2",
   "metadata": {},
   "outputs": [
    {
     "name": "stdout",
     "output_type": "stream",
     "text": [
      "슬기 저장 완료!\n"
     ]
    }
   ],
   "source": [
    "url = \"https://search.pstatic.net/common/?src=http%3A%2F%2Fimgnews.naver.net%2Fimage%2F5353%2F2023%2F04%2F03%2F0000877545_001_20230403162801795.jpg&type=sc960_832\"\n",
    "\n",
    "save_file_name7 = 'seulgi2.png'\n",
    "\n",
    "ur.urlretrieve(url, save_file_name7)\n",
    "\n",
    "print(\"슬기 저장 완료!\")"
   ]
  },
  {
   "cell_type": "markdown",
   "id": "489c1384",
   "metadata": {},
   "source": [
    "## pdf 파일 3개"
   ]
  },
  {
   "cell_type": "code",
   "execution_count": 8,
   "id": "371ce847",
   "metadata": {},
   "outputs": [
    {
     "name": "stdout",
     "output_type": "stream",
     "text": [
      "pdf 저장 완료!\n"
     ]
    }
   ],
   "source": [
    "pdf = \"file:///C:/Users/denni/OneDrive/%EB%B0%94%ED%83%95%20%ED%99%94%EB%A9%B4/%ED%8D%BC%EB%B8%94%EB%A6%AD%20%ED%81%B4%EB%9D%BC%EC%9A%B0%EB%93%9C%20%EC%84%9C%EB%B9%84%EC%8A%A4%EB%A5%BC%20%ED%99%9C%EC%9A%A9%ED%95%9C%20%ED%8C%8C%EC%9D%B4%EC%8D%AC%20%EA%B8%B0%EB%B0%98/Part%2005.%20Web%20Crawling%20(Day47%20~%20)/WebCrawling01(%EA%B0%9C%EC%9A%94%20%EB%B0%8F%20%ED%99%98%EA%B2%BD%EA%B5%AC%EC%84%B1%EA%B3%BC%20%ED%8C%8C%EC%9D%B4%EC%8D%AC%20%EC%9B%B9%20%ED%91%9C%EC%A4%80%20%EB%9D%BC%EC%9D%B4%EB%B8%8C%EB%9F%AC%EB%A6%AC).pdf\"\n",
    "\n",
    "save_pdf_name = 'crawling.pdf'\n",
    "\n",
    "ur.urlretrieve(pdf, save_pdf_name)\n",
    "\n",
    "print(\"pdf 저장 완료!\")"
   ]
  },
  {
   "cell_type": "code",
   "execution_count": 44,
   "id": "31fcddf6",
   "metadata": {},
   "outputs": [
    {
     "name": "stdout",
     "output_type": "stream",
     "text": [
      "pdf 저장 완료!\n"
     ]
    }
   ],
   "source": [
    "pdf = \"file:///C:/Users/denni/OneDrive/%EB%B0%94%ED%83%95%20%ED%99%94%EB%A9%B4/%ED%8D%BC%EB%B8%94%EB%A6%AD%20%ED%81%B4%EB%9D%BC%EC%9A%B0%EB%93%9C%20%EC%84%9C%EB%B9%84%EC%8A%A4%EB%A5%BC%20%ED%99%9C%EC%9A%A9%ED%95%9C%20%ED%8C%8C%EC%9D%B4%EC%8D%AC%20%EA%B8%B0%EB%B0%98/Part%2004.%20Django%20(Day31%20~%20Day47)/Day33~47%20(Django,%20SQL)/Django%20%EC%82%AC%EC%9A%A9%EB%B2%95,%20PDF%ED%8C%8C%EC%9D%BC/DJango05(Template).pdf\"\n",
    "\n",
    "save_pdf_name2 = 'template.pdf'\n",
    "\n",
    "ur.urlretrieve(pdf, save_pdf_name2)\n",
    "\n",
    "print(\"pdf 저장 완료!\")"
   ]
  },
  {
   "cell_type": "code",
   "execution_count": 45,
   "id": "f8d4ac1a",
   "metadata": {},
   "outputs": [
    {
     "name": "stdout",
     "output_type": "stream",
     "text": [
      "pdf 저장 완료!\n"
     ]
    }
   ],
   "source": [
    "pdf = \"file:///C:/Users/denni/OneDrive/%EB%B0%94%ED%83%95%20%ED%99%94%EB%A9%B4/%ED%8D%BC%EB%B8%94%EB%A6%AD%20%ED%81%B4%EB%9D%BC%EC%9A%B0%EB%93%9C%20%EC%84%9C%EB%B9%84%EC%8A%A4%EB%A5%BC%20%ED%99%9C%EC%9A%A9%ED%95%9C%20%ED%8C%8C%EC%9D%B4%EC%8D%AC%20%EA%B8%B0%EB%B0%98/Part%2004.%20Django%20(Day31%20~%20Day47)/Day33~47%20(Django,%20SQL)/Django%20%EC%82%AC%EC%9A%A9%EB%B2%95,%20PDF%ED%8C%8C%EC%9D%BC/DJango07(%EC%9E%A5%EA%B3%A0Form_%ED%81%B4%EB%9E%98%EC%8A%A4%ED%98%95View).pdf\"\n",
    "\n",
    "save_pdf_name3 = 'form.pdf'\n",
    "\n",
    "ur.urlretrieve(pdf, save_pdf_name3)\n",
    "\n",
    "print(\"pdf 저장 완료!\")"
   ]
  },
  {
   "cell_type": "markdown",
   "id": "907e00dd",
   "metadata": {},
   "source": [
    "## 동영상 파일 1개"
   ]
  },
  {
   "cell_type": "code",
   "execution_count": 39,
   "id": "bd342962",
   "metadata": {},
   "outputs": [
    {
     "name": "stdout",
     "output_type": "stream",
     "text": [
      "동영상 저장 완료!\n"
     ]
    }
   ],
   "source": [
    "video = \"https://smrmembers-smr.smartmediarep.com/smc/smrmembers/single/eng/0/smr/contents/video/2023/05/18/fe27173adc31b49f42b51008cb06f24e_t34.mp4\"\n",
    "\n",
    "save_video_name = \"video.mp4\"\n",
    "\n",
    "ur.urlretrieve(video, save_video_name)\n",
    "\n",
    "print(\"동영상 저장 완료!\")"
   ]
  },
  {
   "cell_type": "code",
   "execution_count": null,
   "id": "4c02c1c2",
   "metadata": {},
   "outputs": [],
   "source": []
  },
  {
   "cell_type": "markdown",
   "id": "4a060e92",
   "metadata": {},
   "source": [
    "## JSON & Dictionary"
   ]
  },
  {
   "cell_type": "code",
   "execution_count": 2,
   "id": "36e80a53",
   "metadata": {},
   "outputs": [],
   "source": [
    "jsonData = {\"results\":{\"sunrise\":\"4:56:54 AM\",\"sunset\":\"7:39:48 PM\",\"solar_noon\":\"12:18:21 PM\",\"day_length\":\"14:42:54\",\"civil_twilight_begin\":\"4:27:46 AM\",\"civil_twilight_end\":\"8:08:56 PM\",\"nautical_twilight_begin\":\"3:49:35 AM\",\"nautical_twilight_end\":\"8:47:07 PM\",\"astronomical_twilight_begin\":\"3:06:47 AM\",\"astronomical_twilight_end\":\"9:29:55 PM\"},\"status\":\"OK\"}"
   ]
  },
  {
   "cell_type": "code",
   "execution_count": 3,
   "id": "e7651da0",
   "metadata": {},
   "outputs": [
    {
     "data": {
      "text/plain": [
       "{'results': {'sunrise': '4:56:54 AM',\n",
       "  'sunset': '7:39:48 PM',\n",
       "  'solar_noon': '12:18:21 PM',\n",
       "  'day_length': '14:42:54',\n",
       "  'civil_twilight_begin': '4:27:46 AM',\n",
       "  'civil_twilight_end': '8:08:56 PM',\n",
       "  'nautical_twilight_begin': '3:49:35 AM',\n",
       "  'nautical_twilight_end': '8:47:07 PM',\n",
       "  'astronomical_twilight_begin': '3:06:47 AM',\n",
       "  'astronomical_twilight_end': '9:29:55 PM'},\n",
       " 'status': 'OK'}"
      ]
     },
     "execution_count": 3,
     "metadata": {},
     "output_type": "execute_result"
    }
   ],
   "source": [
    "jsonData"
   ]
  },
  {
   "cell_type": "code",
   "execution_count": 4,
   "id": "1e51aa45",
   "metadata": {},
   "outputs": [
    {
     "data": {
      "text/plain": [
       "{'sunrise': '4:56:54 AM',\n",
       " 'sunset': '7:39:48 PM',\n",
       " 'solar_noon': '12:18:21 PM',\n",
       " 'day_length': '14:42:54',\n",
       " 'civil_twilight_begin': '4:27:46 AM',\n",
       " 'civil_twilight_end': '8:08:56 PM',\n",
       " 'nautical_twilight_begin': '3:49:35 AM',\n",
       " 'nautical_twilight_end': '8:47:07 PM',\n",
       " 'astronomical_twilight_begin': '3:06:47 AM',\n",
       " 'astronomical_twilight_end': '9:29:55 PM'}"
      ]
     },
     "execution_count": 4,
     "metadata": {},
     "output_type": "execute_result"
    }
   ],
   "source": [
    "jsonData['results']"
   ]
  },
  {
   "cell_type": "code",
   "execution_count": 5,
   "id": "8d7fcbb2",
   "metadata": {},
   "outputs": [
    {
     "data": {
      "text/plain": [
       "'4:56:54 AM'"
      ]
     },
     "execution_count": 5,
     "metadata": {},
     "output_type": "execute_result"
    }
   ],
   "source": [
    "jsonData['results'].get('sunrise')"
   ]
  },
  {
   "cell_type": "code",
   "execution_count": 6,
   "id": "8df555f2",
   "metadata": {},
   "outputs": [
    {
     "data": {
      "text/plain": [
       "<function dict.items>"
      ]
     },
     "execution_count": 6,
     "metadata": {},
     "output_type": "execute_result"
    }
   ],
   "source": [
    "jsonData.items"
   ]
  },
  {
   "cell_type": "code",
   "execution_count": 7,
   "id": "31889679",
   "metadata": {},
   "outputs": [
    {
     "data": {
      "text/plain": [
       "{'sunrise': '4:56:54 AM',\n",
       " 'sunset': '7:39:48 PM',\n",
       " 'solar_noon': '12:18:21 PM',\n",
       " 'day_length': '14:42:54',\n",
       " 'civil_twilight_begin': '4:27:46 AM',\n",
       " 'civil_twilight_end': '8:08:56 PM',\n",
       " 'nautical_twilight_begin': '3:49:35 AM',\n",
       " 'nautical_twilight_end': '8:47:07 PM',\n",
       " 'astronomical_twilight_begin': '3:06:47 AM',\n",
       " 'astronomical_twilight_end': '9:29:55 PM'}"
      ]
     },
     "execution_count": 7,
     "metadata": {},
     "output_type": "execute_result"
    }
   ],
   "source": [
    "values = jsonData['results']\n",
    "values"
   ]
  },
  {
   "cell_type": "code",
   "execution_count": 8,
   "id": "483389ec",
   "metadata": {},
   "outputs": [
    {
     "data": {
      "text/plain": [
       "dict_keys(['sunrise', 'sunset', 'solar_noon', 'day_length', 'civil_twilight_begin', 'civil_twilight_end', 'nautical_twilight_begin', 'nautical_twilight_end', 'astronomical_twilight_begin', 'astronomical_twilight_end'])"
      ]
     },
     "execution_count": 8,
     "metadata": {},
     "output_type": "execute_result"
    }
   ],
   "source": [
    "keys = values.keys()\n",
    "keys"
   ]
  },
  {
   "cell_type": "code",
   "execution_count": 9,
   "id": "0e0fd6bb",
   "metadata": {},
   "outputs": [
    {
     "data": {
      "text/plain": [
       "dict_values(['4:56:54 AM', '7:39:48 PM', '12:18:21 PM', '14:42:54', '4:27:46 AM', '8:08:56 PM', '3:49:35 AM', '8:47:07 PM', '3:06:47 AM', '9:29:55 PM'])"
      ]
     },
     "execution_count": 9,
     "metadata": {},
     "output_type": "execute_result"
    }
   ],
   "source": [
    "val = values.values()\n",
    "val"
   ]
  },
  {
   "cell_type": "code",
   "execution_count": 10,
   "id": "3bf902b3",
   "metadata": {},
   "outputs": [
    {
     "name": "stdout",
     "output_type": "stream",
     "text": [
      "sunrise : 4:56:54 AM\n",
      "sunset : 7:39:48 PM\n",
      "solar_noon : 12:18:21 PM\n",
      "day_length : 14:42:54\n",
      "civil_twilight_begin : 4:27:46 AM\n",
      "civil_twilight_end : 8:08:56 PM\n",
      "nautical_twilight_begin : 3:49:35 AM\n",
      "nautical_twilight_end : 8:47:07 PM\n",
      "astronomical_twilight_begin : 3:06:47 AM\n",
      "astronomical_twilight_end : 9:29:55 PM\n"
     ]
    }
   ],
   "source": [
    "for k in keys:\n",
    "    print(k, \":\", values[k])"
   ]
  },
  {
   "cell_type": "code",
   "execution_count": null,
   "id": "374c67b4",
   "metadata": {},
   "outputs": [],
   "source": []
  },
  {
   "cell_type": "code",
   "execution_count": null,
   "id": "6084333a",
   "metadata": {},
   "outputs": [],
   "source": []
  },
  {
   "cell_type": "code",
   "execution_count": null,
   "id": "cc6d497e",
   "metadata": {},
   "outputs": [],
   "source": []
  },
  {
   "cell_type": "code",
   "execution_count": null,
   "id": "a476016a",
   "metadata": {},
   "outputs": [],
   "source": []
  },
  {
   "cell_type": "code",
   "execution_count": null,
   "id": "4c988b6b",
   "metadata": {},
   "outputs": [],
   "source": []
  },
  {
   "cell_type": "code",
   "execution_count": null,
   "id": "04cfb79e",
   "metadata": {},
   "outputs": [],
   "source": []
  },
  {
   "cell_type": "code",
   "execution_count": null,
   "id": "5328b3fd",
   "metadata": {},
   "outputs": [],
   "source": []
  },
  {
   "cell_type": "code",
   "execution_count": null,
   "id": "6dd07ca3",
   "metadata": {},
   "outputs": [],
   "source": []
  },
  {
   "cell_type": "code",
   "execution_count": null,
   "id": "4f391e6f",
   "metadata": {},
   "outputs": [],
   "source": []
  },
  {
   "cell_type": "code",
   "execution_count": null,
   "id": "1ac1f1d6",
   "metadata": {},
   "outputs": [],
   "source": []
  },
  {
   "cell_type": "code",
   "execution_count": null,
   "id": "e55c4435",
   "metadata": {},
   "outputs": [],
   "source": []
  },
  {
   "cell_type": "code",
   "execution_count": null,
   "id": "9ee568ec",
   "metadata": {},
   "outputs": [],
   "source": []
  },
  {
   "cell_type": "code",
   "execution_count": null,
   "id": "e45b5355",
   "metadata": {},
   "outputs": [],
   "source": []
  },
  {
   "cell_type": "code",
   "execution_count": null,
   "id": "d6027dd6",
   "metadata": {},
   "outputs": [],
   "source": []
  },
  {
   "cell_type": "code",
   "execution_count": null,
   "id": "4f3cad09",
   "metadata": {},
   "outputs": [],
   "source": []
  }
 ],
 "metadata": {
  "kernelspec": {
   "display_name": "Python 3 (ipykernel)",
   "language": "python",
   "name": "python3"
  },
  "language_info": {
   "codemirror_mode": {
    "name": "ipython",
    "version": 3
   },
   "file_extension": ".py",
   "mimetype": "text/x-python",
   "name": "python",
   "nbconvert_exporter": "python",
   "pygments_lexer": "ipython3",
   "version": "3.10.9"
  }
 },
 "nbformat": 4,
 "nbformat_minor": 5
}
