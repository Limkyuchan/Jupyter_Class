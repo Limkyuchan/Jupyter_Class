{
 "cells": [
  {
   "cell_type": "markdown",
   "id": "9f542e78",
   "metadata": {},
   "source": [
    "# Selenium"
   ]
  },
  {
   "cell_type": "markdown",
   "id": "c0b062c1",
   "metadata": {},
   "source": [
    "크롬 드라이버를 다운로드 받은 후 selenium 실행\n",
    "<br>(크롬 드라이버 다운로드 시 크롬 버전과 비슷한 사양으로 다운로드)"
   ]
  },
  {
   "cell_type": "code",
   "execution_count": null,
   "id": "27e3c297",
   "metadata": {},
   "outputs": [],
   "source": []
  },
  {
   "cell_type": "markdown",
   "id": "132ead84",
   "metadata": {},
   "source": [
    "- Selenium 예제"
   ]
  },
  {
   "cell_type": "code",
   "execution_count": 1,
   "id": "c1c74216",
   "metadata": {
    "scrolled": true
   },
   "outputs": [
    {
     "name": "stdout",
     "output_type": "stream",
     "text": [
      "Collecting selenium\n",
      "  Downloading selenium-4.10.0-py3-none-any.whl (6.7 MB)\n",
      "     ---------------------------------------- 6.7/6.7 MB 4.0 MB/s eta 0:00:00\n",
      "Requirement already satisfied: certifi>=2021.10.8 in c:\\users\\denni\\anaconda3\\lib\\site-packages (from selenium) (2023.5.7)\n",
      "Requirement already satisfied: urllib3[socks]<3,>=1.26 in c:\\users\\denni\\anaconda3\\lib\\site-packages (from selenium) (1.26.14)\n",
      "Collecting trio-websocket~=0.9\n",
      "  Downloading trio_websocket-0.10.3-py3-none-any.whl (17 kB)\n",
      "Collecting trio~=0.17\n",
      "  Downloading trio-0.22.0-py3-none-any.whl (384 kB)\n",
      "     -------------------------------------- 384.9/384.9 kB 8.0 MB/s eta 0:00:00\n",
      "Collecting async-generator>=1.9\n",
      "  Downloading async_generator-1.10-py3-none-any.whl (18 kB)\n",
      "Collecting outcome\n",
      "  Downloading outcome-1.2.0-py2.py3-none-any.whl (9.7 kB)\n",
      "Collecting exceptiongroup>=1.0.0rc9\n",
      "  Downloading exceptiongroup-1.1.1-py3-none-any.whl (14 kB)\n",
      "Requirement already satisfied: sniffio in c:\\users\\denni\\anaconda3\\lib\\site-packages (from trio~=0.17->selenium) (1.2.0)\n",
      "Requirement already satisfied: idna in c:\\users\\denni\\anaconda3\\lib\\site-packages (from trio~=0.17->selenium) (3.4)\n",
      "Requirement already satisfied: sortedcontainers in c:\\users\\denni\\anaconda3\\lib\\site-packages (from trio~=0.17->selenium) (2.4.0)\n",
      "Requirement already satisfied: attrs>=19.2.0 in c:\\users\\denni\\anaconda3\\lib\\site-packages (from trio~=0.17->selenium) (22.1.0)\n",
      "Requirement already satisfied: cffi>=1.14 in c:\\users\\denni\\anaconda3\\lib\\site-packages (from trio~=0.17->selenium) (1.15.1)\n",
      "Collecting wsproto>=0.14\n",
      "  Downloading wsproto-1.2.0-py3-none-any.whl (24 kB)\n",
      "Requirement already satisfied: PySocks!=1.5.7,<2.0,>=1.5.6 in c:\\users\\denni\\anaconda3\\lib\\site-packages (from urllib3[socks]<3,>=1.26->selenium) (1.7.1)\n",
      "Requirement already satisfied: pycparser in c:\\users\\denni\\anaconda3\\lib\\site-packages (from cffi>=1.14->trio~=0.17->selenium) (2.21)\n",
      "Collecting h11<1,>=0.9.0\n",
      "  Downloading h11-0.14.0-py3-none-any.whl (58 kB)\n",
      "     ---------------------------------------- 58.3/58.3 kB ? eta 0:00:00\n",
      "Installing collected packages: outcome, h11, exceptiongroup, async-generator, wsproto, trio, trio-websocket, selenium\n",
      "Successfully installed async-generator-1.10 exceptiongroup-1.1.1 h11-0.14.0 outcome-1.2.0 selenium-4.10.0 trio-0.22.0 trio-websocket-0.10.3 wsproto-1.2.0\n"
     ]
    }
   ],
   "source": [
    "!pip install selenium"
   ]
  },
  {
   "cell_type": "code",
   "execution_count": 3,
   "id": "4092f591",
   "metadata": {},
   "outputs": [],
   "source": [
    "from selenium.webdriver import Chrome"
   ]
  },
  {
   "cell_type": "code",
   "execution_count": 7,
   "id": "fda53c85",
   "metadata": {},
   "outputs": [],
   "source": [
    "import time\n",
    "\n",
    "chrome = Chrome()\n",
    "\n",
    "time.sleep(3)\n",
    "url = \"http://www.naver.com\"\n",
    "chrome.get(url)    # 주소창에 naver.com 입력하여 전송하는 것과 같음\n",
    "\n",
    "time.sleep(3)\n",
    "chrome.back()      # 크롬 화면 뒤로가기 한번\n",
    "\n",
    "time.sleep(3)\n",
    "chrome.close()     # 크롬 닫아줌"
   ]
  },
  {
   "cell_type": "code",
   "execution_count": null,
   "id": "092ae294",
   "metadata": {},
   "outputs": [],
   "source": []
  },
  {
   "cell_type": "markdown",
   "id": "c7151614",
   "metadata": {},
   "source": [
    "- 예제1) find_element > class 속성 값으로 자료 하나 찾아오기"
   ]
  },
  {
   "cell_type": "code",
   "execution_count": 2,
   "id": "5628f412",
   "metadata": {},
   "outputs": [
    {
     "name": "stdout",
     "output_type": "stream",
     "text": [
      "<selenium.webdriver.remote.webelement.WebElement (session=\"5bcdf872b8158b5b8f49c6d7eb32ccd6\", element=\"8502C98EAC5BB61812AF7E9E991737F0_element_43\")>\n",
      "a\n",
      "뉴스스탠드\n"
     ]
    }
   ],
   "source": [
    "from selenium.webdriver import Chrome\n",
    "from selenium.webdriver.common.by import By\n",
    "import time\n",
    "\n",
    "chrome = Chrome()\n",
    "\n",
    "url = \"http://www.naver.com\"\n",
    "chrome.get(url)\n",
    "\n",
    "element = chrome.find_element(By.CLASS_NAME, \"ContentHeaderView-module__tab_text___IuWnG\")\n",
    "\n",
    "print(element)\n",
    "print(element.tag_name)\n",
    "print(element.text)\n",
    "\n",
    "time.sleep(2)\n",
    "chrome.close()"
   ]
  },
  {
   "cell_type": "markdown",
   "id": "f5bef29e",
   "metadata": {},
   "source": [
    "- 예제2) find_element > alt 속성 값으로 자료 하나 찾아오기\n",
    "/ alt속성 = .get_property('alt')"
   ]
  },
  {
   "cell_type": "code",
   "execution_count": 3,
   "id": "1f5868fa",
   "metadata": {},
   "outputs": [
    {
     "name": "stdout",
     "output_type": "stream",
     "text": [
      "<selenium.webdriver.remote.webelement.WebElement (session=\"2bc1c154c225f2fd42af1085285141be\", element=\"B7C81CC19A23100D4B22853D78030C8D_element_48\")>\n",
      "div\n",
      "None\n"
     ]
    }
   ],
   "source": [
    "from selenium.webdriver import Chrome\n",
    "from selenium.webdriver.common.by import By\n",
    "import time\n",
    "\n",
    "chrome = Chrome()\n",
    "\n",
    "time.sleep(2)\n",
    "url = \"http://www.naver.com\"\n",
    "chrome.get(url)\n",
    "\n",
    "element = chrome.find_element(By.CLASS_NAME, \"MediaSubscriptionView-module__subscription_box___YshKW\")\n",
    "\n",
    "print(element)\n",
    "print(element.tag_name)\n",
    "print(element.get_property('alt'))\n",
    "\n",
    "time.sleep(2)\n",
    "chrome.close()"
   ]
  },
  {
   "cell_type": "markdown",
   "id": "6ea93a46",
   "metadata": {},
   "source": [
    "- 예제3) find_elements로 자료 여러개 찾아오기"
   ]
  },
  {
   "cell_type": "code",
   "execution_count": 13,
   "id": "1f8fba69",
   "metadata": {},
   "outputs": [
    {
     "name": "stdout",
     "output_type": "stream",
     "text": [
      "<class 'list'>\n",
      "스포츠서울\n",
      "스포츠조선\n",
      "스포탈코리아\n",
      "뉴시스\n",
      "MBN\n",
      "머니투데이\n",
      "서울경제\n",
      "일간스포츠\n",
      "서울신문\n",
      "스포츠동아\n",
      "KBS World\n",
      "동아일보\n",
      "JTBC\n",
      "MBC\n",
      "아이뉴스24\n",
      "조이뉴스24\n",
      "소년한국일보\n",
      "엑스포츠뉴스\n",
      "컴퓨터월드\n",
      "베이비뉴스\n",
      "이코노미스트\n",
      "디지털투데이\n",
      "M이코노미뉴스\n",
      "소비자가만드는신문\n"
     ]
    }
   ],
   "source": [
    "from selenium.webdriver import Chrome\n",
    "from selenium.webdriver.common.by import By\n",
    "import time\n",
    "\n",
    "chrome = Chrome()\n",
    "\n",
    "time.sleep(2)\n",
    "url = \"http://www.naver.com\"\n",
    "chrome.get(url)\n",
    "\n",
    "elements = chrome.find_elements(\"class name\", \"news_logo\")\n",
    "\n",
    "print(type(elements))\n",
    "\n",
    "for element in elements:\n",
    "    print(element.get_property('alt'))\n",
    "    \n",
    "time.sleep(2)\n",
    "chrome.close()"
   ]
  },
  {
   "cell_type": "markdown",
   "id": "c38c325a",
   "metadata": {},
   "source": [
    "- 예제 4) get_attribute('속성이름') 함수 활용 \n",
    "<br>(찾는 요소의 속성 값 가져오기)"
   ]
  },
  {
   "cell_type": "code",
   "execution_count": 3,
   "id": "8797c4f0",
   "metadata": {},
   "outputs": [
    {
     "name": "stdout",
     "output_type": "stream",
     "text": [
      "<class 'list'>\n"
     ]
    }
   ],
   "source": [
    "from selenium.webdriver import Chrome\n",
    "from selenium.webdriver.common.by import By\n",
    "import time\n",
    "\n",
    "chrome = Chrome()\n",
    "\n",
    "time.sleep(2)\n",
    "url = \"http://www.naver.com\"\n",
    "chrome.get(url)\n",
    "\n",
    "elements = chrome.find_elements(By.CLASS_NAME, \"service_icon\")\n",
    "print(type(elements))\n",
    "# print(elements)\n",
    "\n",
    "for element in elements:\n",
    "    webtoon = 'type_webtoon' in element.get_attribute('class')\n",
    "    if webtoon:\n",
    "        element.click()\n",
    "        break\n",
    "        \n",
    "time.sleep(2)\n",
    "chrome.close()"
   ]
  },
  {
   "cell_type": "markdown",
   "id": "74352648",
   "metadata": {},
   "source": [
    "< XPath >\n",
    "<br> XPath는 W3C의 표준으로 확장 생성 언어 문서의 구조를 통해 경로 위에\n",
    "<br> 지정한 구문을 사용하여 항목을 배치하고 처리하는 방법을 기술하는 언어."
   ]
  },
  {
   "cell_type": "markdown",
   "id": "09f205f2",
   "metadata": {},
   "source": [
    "- 예제 5) XPath 이용하여 '해리포터' 중고 도서 검색하기"
   ]
  },
  {
   "cell_type": "code",
   "execution_count": 24,
   "id": "603888ba",
   "metadata": {},
   "outputs": [],
   "source": [
    "from selenium.webdriver import Chrome\n",
    "from selenium.webdriver.common.by import By\n",
    "import time\n",
    "\n",
    "chrome = Chrome()\n",
    "\n",
    "time.sleep(2)\n",
    "url = \"https://www.aladin.co.kr/home/welcome.aspx\"\n",
    "chrome.get(url)\n",
    "\n",
    "time.sleep(2)\n",
    "box = chrome.find_element(By.XPATH, '//*[@id=\"SearchWord\"]')\n",
    "box.send_keys('해리포터')\n",
    "\n",
    "time.sleep(2)\n",
    "btn = chrome.find_element(by='xpath', value='//*[@id=\"global_search\"]/button')\n",
    "btn.click()\n",
    "\n",
    "time.sleep(2)\n",
    "chrome.close()"
   ]
  },
  {
   "cell_type": "markdown",
   "id": "475e1553",
   "metadata": {},
   "source": [
    "- 예제 6) .page_soure 활용하여 텍스트 추출하기"
   ]
  },
  {
   "cell_type": "code",
   "execution_count": 28,
   "id": "63f3cb3c",
   "metadata": {},
   "outputs": [
    {
     "data": {
      "text/plain": [
       "'아파트 영아 발견'"
      ]
     },
     "execution_count": 28,
     "metadata": {},
     "output_type": "execute_result"
    }
   ],
   "source": [
    "from selenium.webdriver import Chrome\n",
    "from selenium.webdriver.common.by import By\n",
    "from bs4 import BeautifulSoup\n",
    "import time\n",
    "\n",
    "chrome = Chrome()\n",
    "\n",
    "time.sleep(2)\n",
    "url = \"https://news.nate.com/search/?q=nft\"\n",
    "chrome.get(url)\n",
    "\n",
    "response = chrome.page_source    # 페이지 소스에 대한 응답 내용 저장\n",
    "\n",
    "time.sleep(2)\n",
    "chrome.close()\n",
    "\n",
    "nate_on_page = BeautifulSoup(response)\n",
    "issue_kwd = nate_on_page.find('div', {'class':'issue-kwd'})\n",
    "\n",
    "kwd_list = issue_kwd.find('span', {'class':'kwd-list'})\n",
    "kwd_list_a = kwd_list.find_all('a')\n",
    "kwd_list_a[0].text"
   ]
  },
  {
   "cell_type": "markdown",
   "id": "a5eeafa5",
   "metadata": {},
   "source": [
    "- 예제 7) Key 모듈을 이용하여 특수키 활용"
   ]
  },
  {
   "cell_type": "code",
   "execution_count": 6,
   "id": "23c253bd",
   "metadata": {},
   "outputs": [
    {
     "name": "stdout",
     "output_type": "stream",
     "text": [
      "<class 'selenium.webdriver.remote.webelement.WebElement'>\n"
     ]
    }
   ],
   "source": [
    "from selenium.webdriver import Chrome\n",
    "from selenium.webdriver.common.by import By\n",
    "from selenium.webdriver.common.keys import Keys\n",
    "import time\n",
    "\n",
    "chrome = Chrome()\n",
    "\n",
    "url = \"https://www.naver.com\"\n",
    "chrome.get(url)\n",
    "\n",
    "element = chrome.find_element(By.ID, \"query\")\n",
    "print(type(element))\n",
    "\n",
    "element.send_keys(\"웹 크롤링\")\n",
    "time.sleep(2)\n",
    "element.send_keys(Keys.ENTER)\n",
    "\n",
    "time.sleep(3)\n",
    "chrome.close()"
   ]
  },
  {
   "cell_type": "markdown",
   "id": "75047303",
   "metadata": {},
   "source": [
    "- 예제 8) 스크롤 이벤트"
   ]
  },
  {
   "cell_type": "code",
   "execution_count": 8,
   "id": "e887eb4e",
   "metadata": {},
   "outputs": [],
   "source": [
    "from selenium.webdriver import Chrome\n",
    "import time\n",
    "\n",
    "chrome = Chrome()\n",
    "\n",
    "time.sleep(2)\n",
    "chrome.get(\"https://www.naver.com\")\n",
    "\n",
    "time.sleep(2)\n",
    "chrome.execute_script(\"window.scrollTo(0,400)\")\n",
    "\n",
    "time.sleep(2)\n",
    "chrome.close()"
   ]
  },
  {
   "cell_type": "markdown",
   "id": "9c85a783",
   "metadata": {},
   "source": [
    "- 예제 8.1) 반복문으로 조금씩 스크롤 내리기 확인"
   ]
  },
  {
   "cell_type": "code",
   "execution_count": 9,
   "id": "0236bfed",
   "metadata": {},
   "outputs": [],
   "source": [
    "# 조금씩 스크롤 하기\n",
    "from selenium.webdriver import Chrome\n",
    "import time\n",
    "\n",
    "chrome = Chrome()\n",
    "\n",
    "chrome.get(\"https://www.naver.com\")\n",
    "\n",
    "time.sleep(2)\n",
    "\n",
    "for i in range(1,5000):\n",
    "    chrome.execute_script(f\"window.scrollTo(0,{i})\")\n",
    "    \n",
    "chrome.close()"
   ]
  },
  {
   "cell_type": "code",
   "execution_count": null,
   "id": "11653b78",
   "metadata": {},
   "outputs": [],
   "source": []
  },
  {
   "cell_type": "markdown",
   "id": "3a3b53c3",
   "metadata": {},
   "source": [
    "- 실습1) 베스트 셀러 목록 가져오기"
   ]
  },
  {
   "cell_type": "code",
   "execution_count": 30,
   "id": "3e83e8ff",
   "metadata": {},
   "outputs": [
    {
     "ename": "AttributeError",
     "evalue": "ResultSet object has no attribute 'find'. You're probably treating a list of elements like a single element. Did you call find_all() when you meant to call find()?",
     "output_type": "error",
     "traceback": [
      "\u001b[1;31m---------------------------------------------------------------------------\u001b[0m",
      "\u001b[1;31mAttributeError\u001b[0m                            Traceback (most recent call last)",
      "Cell \u001b[1;32mIn[30], line 18\u001b[0m\n\u001b[0;32m     15\u001b[0m soup \u001b[38;5;241m=\u001b[39m BeautifulSoup(res\u001b[38;5;241m.\u001b[39mtext, \u001b[38;5;124m\"\u001b[39m\u001b[38;5;124mhtml.parser\u001b[39m\u001b[38;5;124m\"\u001b[39m)\n\u001b[0;32m     17\u001b[0m bs \u001b[38;5;241m=\u001b[39m soup\u001b[38;5;241m.\u001b[39mfind_all(\u001b[38;5;124m'\u001b[39m\u001b[38;5;124mdiv\u001b[39m\u001b[38;5;124m'\u001b[39m, class_\u001b[38;5;241m=\u001b[39m\u001b[38;5;124m\"\u001b[39m\u001b[38;5;124mss_book_list\u001b[39m\u001b[38;5;124m\"\u001b[39m)\n\u001b[1;32m---> 18\u001b[0m bs_a \u001b[38;5;241m=\u001b[39m \u001b[43mbs\u001b[49m\u001b[38;5;241;43m.\u001b[39;49m\u001b[43mfind\u001b[49m(\u001b[38;5;124m'\u001b[39m\u001b[38;5;124mdiv\u001b[39m\u001b[38;5;124m'\u001b[39m, {\u001b[38;5;124m'\u001b[39m\u001b[38;5;124mclass\u001b[39m\u001b[38;5;124m'\u001b[39m:\u001b[38;5;124m'\u001b[39m\u001b[38;5;124mss_book_list\u001b[39m\u001b[38;5;124m'\u001b[39m})\n\u001b[0;32m     19\u001b[0m \u001b[38;5;28mprint\u001b[39m(bs_a)\n",
      "File \u001b[1;32m~\\anaconda3\\lib\\site-packages\\bs4\\element.py:2289\u001b[0m, in \u001b[0;36mResultSet.__getattr__\u001b[1;34m(self, key)\u001b[0m\n\u001b[0;32m   2287\u001b[0m \u001b[38;5;28;01mdef\u001b[39;00m \u001b[38;5;21m__getattr__\u001b[39m(\u001b[38;5;28mself\u001b[39m, key):\n\u001b[0;32m   2288\u001b[0m     \u001b[38;5;124;03m\"\"\"Raise a helpful exception to explain a common code fix.\"\"\"\u001b[39;00m\n\u001b[1;32m-> 2289\u001b[0m     \u001b[38;5;28;01mraise\u001b[39;00m \u001b[38;5;167;01mAttributeError\u001b[39;00m(\n\u001b[0;32m   2290\u001b[0m         \u001b[38;5;124m\"\u001b[39m\u001b[38;5;124mResultSet object has no attribute \u001b[39m\u001b[38;5;124m'\u001b[39m\u001b[38;5;132;01m%s\u001b[39;00m\u001b[38;5;124m'\u001b[39m\u001b[38;5;124m. You\u001b[39m\u001b[38;5;124m'\u001b[39m\u001b[38;5;124mre probably treating a list of elements like a single element. Did you call find_all() when you meant to call find()?\u001b[39m\u001b[38;5;124m\"\u001b[39m \u001b[38;5;241m%\u001b[39m key\n\u001b[0;32m   2291\u001b[0m     )\n",
      "\u001b[1;31mAttributeError\u001b[0m: ResultSet object has no attribute 'find'. You're probably treating a list of elements like a single element. Did you call find_all() when you meant to call find()?"
     ]
    }
   ],
   "source": [
    "from selenium.webdriver import Chrome\n",
    "from selenium.webdriver.common.by import By\n",
    "from bs4 import BeautifulSoup\n",
    "import requests\n",
    "import time\n",
    "\n",
    "chrome = Chrome()\n",
    "\n",
    "time.sleep(2)\n",
    "url = \"https://www.aladin.co.kr/shop/common/wbest.aspx?BranchType=1&start=we\"\n",
    "chrome.get(url)\n",
    "\n",
    "# response = chrome.page_source\n",
    "res = requests.get(url)\n",
    "soup = BeautifulSoup(res.text, \"html.parser\")\n",
    "\n",
    "bs = soup.find_all('div', class_=\"ss_book_list\"))\n",
    "print(bs)\n",
    "\n",
    "\n",
    "\n",
    "# for href in soup.find(\"div\", class_=\"w_news_list\").find_all(\"li\"):\n",
    "#     print(href.find(\"a\")[\"href\"])\n",
    "\n",
    "\n",
    "\n",
    "\n",
    "\n",
    "\n",
    "# myform = BeautifulSoup(response).find('form', {'id':'Myform'})\n",
    "# best = myform.select('a > b', {'class':'bo3'})\n",
    "\n",
    "# best_book_list = []\n",
    "# for book in best:\n",
    "#     best_book_list.append(book)\n",
    "# #     best_book_list.append(book.text)\n",
    "\n",
    "# print(best_book_list)\n",
    "\n",
    "# wow_book_list = []\n",
    "# for i in best_book_list:\n",
    "#     url2 = \"https://www.aladin.co.kr/home/wusedshopmain.aspx\"\n",
    "#     chrome.get(url2)\n",
    "#     response2 = chrome.page_source\n",
    "    \n",
    "#     book = chrome.find_element(By.XPATH, '//*[@id=\"SearchWord\"]')\n",
    "#     book.send_keys(i)\n",
    "#     time.sleep(2)\n",
    "    \n",
    "#     btn = chrome.find_element(By.XPATH, '//*[@id=\"global_search\"]/button')\n",
    "#     btn.click()\n",
    "#     time.sleep(2)\n",
    "    \n",
    "#     form = BeautifulSoup(response2).find('form', {'id':'Myform'})\n",
    "    \n",
    "\n",
    "# for element in elements:\n",
    "#     webtoon = 'type_webtoon' in element.get_attribute('class')\n",
    "#     if webtoon:\n",
    "#         element.click()\n",
    "#         break"
   ]
  },
  {
   "cell_type": "markdown",
   "id": "4b7bfa8d",
   "metadata": {},
   "source": [
    "- find = 원하는 태그를 찾는 것\n",
    "- select = tag 객체를 찾아 반환한다"
   ]
  },
  {
   "cell_type": "code",
   "execution_count": null,
   "id": "5ec7ec17",
   "metadata": {},
   "outputs": [],
   "source": []
  },
  {
   "cell_type": "markdown",
   "id": "eb5887a1",
   "metadata": {},
   "source": [
    "- 실습2) 유튜브 목록 스크롤하여 추가로 가져오기 (스크롤 이벤트 테스트가 목적)"
   ]
  },
  {
   "cell_type": "code",
   "execution_count": 14,
   "id": "0e54ef61",
   "metadata": {},
   "outputs": [],
   "source": [
    "from selenium.webdriver import Chrome\n",
    "from bs4 import BeautifulSoup\n",
    "import time\n",
    "\n",
    "chrome = Chrome()\n",
    "\n",
    "url = \"https://www.youtube.com/\"\n",
    "chrome.get(url)\n",
    "\n",
    "response = chrome.page_source\n",
    "\n",
    "time.sleep(2)\n",
    "chrome.close()\n",
    "\n",
    "youtube_page = BeautifulSoup(response)\n",
    "youtube_kwd = youtube_page.find(\"div\", {'class':'style-scope ytd-two-column-browse-results-renderer'})\n",
    "\n",
    "yotube_list = youtube_kwd.find('div', {'class': 'style-scope ytd-rich-grid-renderer'})\n",
    "kwd_list = issue_kwd.find('span', {'class':'kwd-list'})\n",
    "kwd_list_a = kwd_list.find_all('a')\n",
    "kwd_list_a[0].text\n"
   ]
  },
  {
   "cell_type": "code",
   "execution_count": null,
   "id": "4461e936",
   "metadata": {},
   "outputs": [],
   "source": []
  },
  {
   "cell_type": "code",
   "execution_count": null,
   "id": "9c0eecbf",
   "metadata": {},
   "outputs": [],
   "source": []
  },
  {
   "cell_type": "code",
   "execution_count": null,
   "id": "38c19fe6",
   "metadata": {},
   "outputs": [],
   "source": []
  },
  {
   "cell_type": "code",
   "execution_count": null,
   "id": "b47ece91",
   "metadata": {},
   "outputs": [],
   "source": []
  },
  {
   "cell_type": "code",
   "execution_count": null,
   "id": "83255575",
   "metadata": {},
   "outputs": [],
   "source": []
  },
  {
   "cell_type": "code",
   "execution_count": null,
   "id": "15b407d4",
   "metadata": {},
   "outputs": [],
   "source": []
  },
  {
   "cell_type": "code",
   "execution_count": null,
   "id": "2a6e6966",
   "metadata": {},
   "outputs": [],
   "source": []
  },
  {
   "cell_type": "code",
   "execution_count": null,
   "id": "ae82a7a4",
   "metadata": {},
   "outputs": [],
   "source": []
  }
 ],
 "metadata": {
  "kernelspec": {
   "display_name": "Python 3 (ipykernel)",
   "language": "python",
   "name": "python3"
  },
  "language_info": {
   "codemirror_mode": {
    "name": "ipython",
    "version": 3
   },
   "file_extension": ".py",
   "mimetype": "text/x-python",
   "name": "python",
   "nbconvert_exporter": "python",
   "pygments_lexer": "ipython3",
   "version": "3.10.9"
  }
 },
 "nbformat": 4,
 "nbformat_minor": 5
}
