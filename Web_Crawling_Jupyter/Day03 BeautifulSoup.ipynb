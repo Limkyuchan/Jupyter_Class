{
 "cells": [
  {
   "cell_type": "markdown",
   "id": "9428afc1",
   "metadata": {},
   "source": [
    "- 이미지 저장하기"
   ]
  },
  {
   "cell_type": "code",
   "execution_count": 7,
   "id": "6a4ad545",
   "metadata": {},
   "outputs": [
    {
     "name": "stdout",
     "output_type": "stream",
     "text": [
      "/images/gifts/img1.jpg\n",
      "http://localhost/images/gifts/img1.jpg img1.jpg\n",
      "/images/gifts/img2.jpg\n",
      "http://localhost/images/gifts/img2.jpg img2.jpg\n",
      "/images/gifts/img3.jpg\n",
      "http://localhost/images/gifts/img3.jpg img3.jpg\n",
      "/images/gifts/img4.jpg\n",
      "http://localhost/images/gifts/img4.jpg img4.jpg\n",
      "/images/gifts/img6.jpg\n",
      "http://localhost/images/gifts/img6.jpg img6.jpg\n"
     ]
    }
   ],
   "source": [
    "from bs4 import BeautifulSoup\n",
    "from urllib.request import urlretrieve\n",
    "import requests\n",
    "import re\n",
    "\n",
    "img_re = '\\./images/gifts/img.*\\.jpg'\n",
    "\n",
    "response = requests.get('http://localhost/itempage.html')\n",
    "soup = BeautifulSoup(response.text, 'html.parser')\n",
    "\n",
    "images = soup.find_all('img', {'src':re.compile(img_re)})\n",
    "\n",
    "for img in images:\n",
    "    img_path = img['src'][1:]\n",
    "    print(img_path)\n",
    "    img_url = 'http://localhost' + img_path\n",
    "    save_name = img_path[img_path.rindex('/')+1:]\n",
    "    print(img_url, save_name)\n",
    "    urlretrieve(img_url, save_name)"
   ]
  },
  {
   "cell_type": "code",
   "execution_count": null,
   "id": "1b89ef81",
   "metadata": {},
   "outputs": [],
   "source": []
  },
  {
   "cell_type": "code",
   "execution_count": null,
   "id": "6a3454cb",
   "metadata": {},
   "outputs": [],
   "source": []
  }
 ],
 "metadata": {
  "kernelspec": {
   "display_name": "Python 3 (ipykernel)",
   "language": "python",
   "name": "python3"
  },
  "language_info": {
   "codemirror_mode": {
    "name": "ipython",
    "version": 3
   },
   "file_extension": ".py",
   "mimetype": "text/x-python",
   "name": "python",
   "nbconvert_exporter": "python",
   "pygments_lexer": "ipython3",
   "version": "3.10.9"
  }
 },
 "nbformat": 4,
 "nbformat_minor": 5
}
